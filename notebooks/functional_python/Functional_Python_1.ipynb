{
 "cells": [
  {
   "attachments": {},
   "cell_type": "markdown",
   "metadata": {},
   "source": [
    "# Functional Python\n",
    "\n",
    "Since this code does not reset itself, I have provided the code in the markdown. If the code in the cell that follows is different from the markdown, then copy it down and run."
   ]
  },
  {
   "attachments": {},
   "cell_type": "markdown",
   "metadata": {},
   "source": [
    "## List Comprehension\n",
    "\n",
    "List comprehensions are syntactic sugar for standard loops - `for i in [3,6,1,9,3,2]: `\n",
    "\n",
    "The following two approaches are functionally the same and produce the square of each list item. \n",
    "\n",
    "```python\n",
    "a_list = [3,6,1,9,3,2]\n",
    "\n",
    "result_list1 = []\n",
    "for a in a_list:\n",
    "    result_list1.append(a**2)\n",
    "\n",
    "print(f'Result list 1 is {result_list1}')\n",
    "\n",
    "result_list2 = [a**2 for a in a_list]\n",
    "print(f'Result list 2 is {result_list2}')\n",
    "```"
   ]
  },
  {
   "cell_type": "code",
   "execution_count": 1,
   "metadata": {},
   "outputs": [
    {
     "name": "stdout",
     "output_type": "stream",
     "text": [
      "Result list 1 is [9, 36, 1, 81, 9, 4]\n",
      "Result list 2 is [9, 36, 1, 81, 9, 4]\n"
     ]
    }
   ],
   "source": [
    "a_list = [3,6,1,9,3,2]\n",
    "\n",
    "result_list1 = []\n",
    "for a in a_list:\n",
    "    result_list1.append(a**2)\n",
    "\n",
    "print(f'Result list 1 is {result_list1}')\n",
    "\n",
    "result_list2 = [a**2 for a in a_list]\n",
    "print(f'Result list 2 is {result_list2}')"
   ]
  },
  {
   "attachments": {},
   "cell_type": "markdown",
   "metadata": {},
   "source": [
    "## Lambda Function\n",
    "\n",
    "Lambda functions can be seen as nameless or headless functions. The lambda function below which squares an input variable is assigned to the `square_it2` variable name.\n",
    "\n",
    "```python\n",
    "def square_it1(a):\n",
    "    return a**2\n",
    "\n",
    "square_it2 = lambda x: x**2\n",
    "\n",
    "square_it1(13), square_it2(13)\n",
    "```"
   ]
  },
  {
   "cell_type": "code",
   "execution_count": 2,
   "metadata": {},
   "outputs": [
    {
     "data": {
      "text/plain": [
       "(169, 169)"
      ]
     },
     "execution_count": 2,
     "metadata": {},
     "output_type": "execute_result"
    }
   ],
   "source": [
    "def square_it1(a):\n",
    "    return a**2\n",
    "\n",
    "square_it2 = lambda x: x**2\n",
    "\n",
    "square_it1(13), square_it2(13)"
   ]
  },
  {
   "attachments": {},
   "cell_type": "markdown",
   "metadata": {},
   "source": [
    "## Map function\n",
    "\n",
    "The `map` function is for applying functions to every element of an iterable.\n",
    "\n",
    "```python\n",
    "result_list3 = map(square_it1, a_list)\n",
    "\n",
    "print(f'Result list 3 map is {result_list3}')\n",
    "print(f'Result list 3 is {list(result_list3)}')\n",
    "\n",
    "result_list4 = map(square_it2, a_list)\n",
    "\n",
    "print(f'Result list 4 is {list(result_list4)}')\n",
    "```\n"
   ]
  },
  {
   "cell_type": "code",
   "execution_count": 3,
   "metadata": {},
   "outputs": [
    {
     "name": "stdout",
     "output_type": "stream",
     "text": [
      "Result list 3 map is <map object at 0x000001D53D7894C0>\n",
      "Result list 3 is [9, 36, 1, 81, 9, 4]\n",
      "Result list 4 is [9, 36, 1, 81, 9, 4]\n"
     ]
    }
   ],
   "source": [
    "result_list3 = map(square_it1, a_list)\n",
    "\n",
    "print(f'Result list 3 map is {result_list3}')\n",
    "print(f'Result list 3 is {list(result_list3)}')\n",
    "\n",
    "result_list4 = map(square_it2, a_list)\n",
    "\n",
    "print(f'Result list 4 is {list(result_list4)}')"
   ]
  },
  {
   "attachments": {},
   "cell_type": "markdown",
   "metadata": {},
   "source": [
    "## Using a Lambda function directly in a `map` function\n",
    "\n",
    "The lambda function can also be directly included in the map function:\n",
    "\n",
    "```python\n",
    "result_list5 = map(lambda x: x**2, a_list)\n",
    "print(f'Result list 5 map is {result_list5}')\n",
    "print(f'Result list 5 is {list(result_list5)}')\n",
    "```"
   ]
  },
  {
   "cell_type": "code",
   "execution_count": 4,
   "metadata": {},
   "outputs": [
    {
     "name": "stdout",
     "output_type": "stream",
     "text": [
      "Result list 5 map is <map object at 0x000001D53D789220>\n",
      "Result list 5 is [9, 36, 1, 81, 9, 4]\n"
     ]
    }
   ],
   "source": [
    "result_list5 = map(lambda x: x**2, a_list)\n",
    "print(f'Result list 5 map is {result_list5}')\n",
    "print(f'Result list 5 is {list(result_list5)}')"
   ]
  },
  {
   "attachments": {},
   "cell_type": "markdown",
   "metadata": {},
   "source": [
    "# Conclusions\n",
    "\n",
    "This notebook contains code to demonstrate basic functions."
   ]
  },
  {
   "attachments": {},
   "cell_type": "markdown",
   "metadata": {},
   "source": [
    "# Resources\n",
    "\n",
    "* https://anandology.com/python-practice-book/index.html\n",
    "* https://www.youtube.com/watch?v=owSGVOov9pQ\n",
    "\n",
    "\n",
    "\n",
    "# Print Dependencies\n",
    "\n"
   ]
  },
  {
   "cell_type": "code",
   "execution_count": 25,
   "metadata": {},
   "outputs": [
    {
     "name": "stdout",
     "output_type": "stream",
     "text": [
      "numpy       \tnp    \t1.21.5\n"
     ]
    }
   ],
   "source": [
    "import types\n",
    "import numpy as np\n",
    "def imports():\n",
    "    for name, val in globals().items():\n",
    "        if isinstance(val, types.ModuleType):\n",
    "            # if val.__name__ not in ('builtins', 'types'):\n",
    "            yield val.__name__, name\n",
    "\n",
    "#exclude all modules not listed by `!conda list`\n",
    "excludes = ['__builtin__', 'builtins', 'types', 'IPython.core.shadowns', 'sys', 'os']\n",
    "imported_modules = {k:v for k,v in imports() if k not in excludes}\n",
    "conda_modules = !conda list\n",
    "\n",
    "#print the names and versions of the imported modules\n",
    "for module in conda_modules: # pip_modules:\n",
    "    if len(line_split := module.split()) > 1:\n",
    "        name, version = line_split[:2]\n",
    "        if name in imported_modules.keys():\n",
    "            print(f'{name:12s}\\t{imported_modules.get(name,\"\"):6s}\\t{version}')"
   ]
  },
  {
   "cell_type": "code",
   "execution_count": null,
   "metadata": {},
   "outputs": [],
   "source": [
    "# import sys\n",
    "# print(f'Python version is {sys.version}')\n",
    "\n",
    "# dependencies_dict = {\n",
    "#     'python' : {'name':'python', 'version':sys.version},\n",
    "#     'numpy' : {'name': 'np'},\n",
    "#     'pandas' : {'name': 'pd'},\n",
    "#     'matplotlib' : {'name': 'matplotlib'},\n",
    "#     'numba' :  {'name': 'nb'},\n",
    "#     'xmltodict' :  {'name': 'xmltodict'},\n",
    "#     'openpyxl' :  {'name': 'openpyxl'},\n",
    "#     'IPython' :  {'name': 'IPython'},\n",
    "#     }\n",
    "\n",
    "# for pkg in dependencies_dict.keys():\n",
    "#     try:\n",
    "#         # import pkg\n",
    "#         ver = pkg.__version__\n",
    "#         print(f'{pkg:20s} : {ver}')\n",
    "#         dependencies_dict[pkg]['version'] = ver\n",
    "#     except:\n",
    "#         pass\n",
    "\n",
    "# import numpy as np  # this is a standard alias\n",
    "# print(f'NumPy version is {np.__version__}')\n",
    "\n",
    "# #import numba as nb\n",
    "# #print(f'Numba version is {nb.__version__}')\n",
    "\n",
    "# import xmltodict\n",
    "# print(f'XMLtoDict version is {xmltodict.__version__}')\n",
    "\n",
    "# #import openpyxl\n",
    "# #print(f'OpenPyXL version is {openpyxl.__version__}')\n",
    "\n",
    "# from matplotlib import __version__ as mpl_ver\n",
    "# print(f'MatPlotLib version is {mpl_ver}')\n",
    "\n",
    "# from os import listdir\n",
    "# from os.path import exists, join, isfile, basename, splitext\n",
    "# import pickle\n",
    "\n",
    "# import IPython.display as ipd # for displaying graphics\n",
    "# from IPython import __version__ as ip_ver\n",
    "# print(f'iPython version is {ip_ver}')"
   ]
  },
  {
   "cell_type": "markdown",
   "metadata": {},
   "source": []
  }
 ],
 "metadata": {
  "kernelspec": {
   "display_name": "py39",
   "language": "python",
   "name": "python3"
  },
  "language_info": {
   "codemirror_mode": {
    "name": "ipython",
    "version": 3
   },
   "file_extension": ".py",
   "mimetype": "text/x-python",
   "name": "python",
   "nbconvert_exporter": "python",
   "pygments_lexer": "ipython3",
   "version": "3.9.12"
  },
  "orig_nbformat": 4,
  "vscode": {
   "interpreter": {
    "hash": "cd17399ad4502da30f9c302ddf988648c1c18bb6ec572790b467d38c2ff830d7"
   }
  }
 },
 "nbformat": 4,
 "nbformat_minor": 2
}
