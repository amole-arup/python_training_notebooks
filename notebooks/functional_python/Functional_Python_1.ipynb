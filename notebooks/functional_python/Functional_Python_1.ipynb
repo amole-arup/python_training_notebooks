{
 "cells": [
  {
   "attachments": {},
   "cell_type": "markdown",
   "metadata": {},
   "source": [
    "# Functional Python: Notebook 1\n",
    "\n",
    "This is part of a planned series on programming with Python using the functional programming paradigm. \n",
    "\n",
    "If you read through this notebook, you will get familiar with some of the Python tools that are used when following a functional programming paradigm. The next notebook will address the strategy.\n",
    "\n",
    "This notebook addresses the following topics:\n",
    "\n",
    "- mutable and immultable data structures\n",
    "- list comprehension - a functional approach to list-processing\n",
    "- lambda functions - headless functions that are used in functional \n",
    "- map() function\n",
    "\n",
    "To `run` a cell, you can click on one of the \"play triangles\" or click in the cell to activate it and type `shift-enter`."
   ]
  },
  {
   "attachments": {},
   "cell_type": "markdown",
   "metadata": {},
   "source": [
    "## Mutable and Immutable Data Structures (collections)\n",
    "\n",
    "Python only has a few data structures that are truly immutable. However, a programmer can choose to write according to a functional paradigm by not modifying mutable structures after they are initialised. \n",
    "\n",
    "### Mutable Data Structures\n",
    "\n",
    "The standard mutable data structures are:\n",
    "\n",
    "- Lists\n",
    "- Dictionaries\n",
    "- Strings\n",
    "- Objects with attributes\n",
    "\n",
    "It is possible not only to access the value of any member of a list (or dictionary), but also delete it or change it. It is also possible to add members to the list at any location. Because of this potential for change, mutable data structures cannot be used as keys in a dictionary.\n",
    "\n",
    "The fact that objects defined by classes are mutable means that it is generally good to limit the use of classes.\n",
    "\n",
    "### Immutable datatypes\n",
    "\n",
    "- Tuples\n",
    "- Named Tuples\n",
    "\n",
    "Elements of Tuples cannot be accessed but cannot be changed after creation of the tuple. Note that because they are immutable, they can be used as keys in a dictionary."
   ]
  },
  {
   "cell_type": "code",
   "execution_count": null,
   "metadata": {},
   "outputs": [],
   "source": [
    "a_list  = [3,6,1,9,3,2]   # Lists are surronded by square brackets\n",
    "a_tuple = (3,6,1,9,3,2)   # Tuples are surrounded by round brackets\n",
    "\n",
    "# manipulating a list\n",
    "print(f'item 3 of a_list: {a_list[3]}')\n",
    "print('... try to change item 3 to -5...')\n",
    "a_list[3] = -5     # change item 3\n",
    "print(f'a_list is updated: {a_list}\\n')\n",
    "\n",
    "# manipulating a tuple\n",
    "print(f'item 3 of a_tuple: {a_tuple[3]}')\n",
    "print('... try to change item 3 to -5...')\n",
    "try:  # Python will throw an exception if we try to change a tuple\n",
    "    a_tuple[3] = -5     # try to change item 3\n",
    "except TypeError as e:\n",
    "    print(e)\n",
    "    print(f'a_tuple cannot be changed: {a_tuple}')"
   ]
  },
  {
   "attachments": {},
   "cell_type": "markdown",
   "metadata": {},
   "source": [
    "### NamedTuples\n",
    "\n",
    "NamedTuples are useful because they can act as classes, but remain as immutable. They are also faster and more compact than classes. If you want to use them, you have to import them because they are not part of the base module. Note that since they are mutable, they can be used as keys in a dictionary. It is not possible to define associated methods for these data types without converting them to a mutable form.\n",
    "\n",
    "For example, we can use NamedTuple to create a 3d cartesian coordinate with properties `X`, `Y` & `Z`. The namedtuple is provided with a name and a list of property names.\n",
    "\n",
    "```python\n",
    "Point3D = namedtuple('point3d',['X', 'Y', 'Z'])\n",
    "```\n",
    "\n",
    "Alternatively, instead of a list, you can provide a single string containing them where the property names are separated by commas.\n",
    "\n",
    "```python\n",
    "Point3D = namedtuple('point3d','X, Y, Z')\n",
    "```\n",
    "\n",
    "Having defined the data format, you can go on to create a point3d object (an instance).\n",
    "\n",
    "```python\n",
    "pt1 = Point3D(2,8,1)\n",
    "```\n",
    "\n",
    "The Y-coordinate may be referenced using either standard indexes (`pt1[1]`) or the name (`pt1.Y`)."
   ]
  },
  {
   "cell_type": "code",
   "execution_count": null,
   "metadata": {},
   "outputs": [],
   "source": [
    "from collections import namedtuple\n",
    "Point3D = namedtuple('point3d','X, Y, Z')\n",
    "\n",
    "pt1 = Point3D(2,8,1)\n",
    "print(f'The Y-coordinate of pt1 ({pt1}) is {pt1.Y}')"
   ]
  },
  {
   "attachments": {},
   "cell_type": "markdown",
   "metadata": {},
   "source": [
    "## List Comprehension\n",
    "\n",
    "List comprehensions are syntactic sugar for standard loops over iterables, such as tuples, lists or dictionaries - `for i in (3,6,1,9,3,2): `\n",
    "\n",
    "Similar constructions are avalable for generators and dictionaries. We will look at these later.\n",
    "\n",
    "### Advantages\n",
    "\n",
    "* Single line format (typically)\n",
    "* Does not require initialisation of an empty list\n",
    "* Can be used as part of a data pipeline\n",
    "\n",
    "### Disadvantages\n",
    "\n",
    "* Only for simple iterative processes that can be described by application of a single function (this can also be an advantage!)\n",
    "* They generate lists (mutable), rather than tuples (immutable), which does not match the functional programming paradigm. Nevertheless, the programmer can choose to treat the lists as immutable by not changing their contents(!). It is also an option to convert a list to a tuple by means of the `tuple()` function.\n",
    "\n",
    "### Format for List Comprehension\n",
    "\n",
    "The standard format is:\n",
    "\n",
    "```python\n",
    "[function(variable) for variable in variable_list if conditional_function(variable)]\n",
    "```\n",
    "\n",
    "Note that the function can include branches (if-statements)\n",
    "\n",
    "This can be extended to multiple variables:\n",
    "\n",
    "```python\n",
    "[function(variable_1, variable_2) for variable_1, variable_2 in zip(variable_list_1, variable_list_2)]\n",
    "```\n",
    "\n",
    "### Comparative Example\n",
    "\n",
    "Thus the following two approaches are functionally the same and produce the square of each list item. \n",
    "\n",
    "1. List to operate on:\n",
    "\n",
    "```python\n",
    "a_tuple = (3,6,1,9,3,2)\n",
    "```\n",
    "\n",
    "2. Standard iteration to generate a list of squares (result_list_1):\n",
    "```python\n",
    "result_list_1 = []\n",
    "for a in a_tuple:\n",
    "    result_list_1.append(a**2)\n",
    "```\n",
    "\n",
    "3. List comprehension that also generates a list of squares (result_list_2):\n",
    "```python\n",
    "result_list_2 = [a**2 for a in a_tuple]\n",
    "```"
   ]
  },
  {
   "cell_type": "code",
   "execution_count": null,
   "metadata": {},
   "outputs": [],
   "source": [
    "a_tuple = (3,6,1,9,3,2)\n",
    "\n",
    "result_list_1 = []\n",
    "for a in a_tuple:\n",
    "    result_list_1.append(a**2)\n",
    "\n",
    "print(f'Result list 1 is {result_list_1}')\n",
    "\n",
    "result_list_2 = [a**2 for a in a_tuple]\n",
    "print(f'Result list 2 is {result_list_2}')"
   ]
  },
  {
   "attachments": {},
   "cell_type": "markdown",
   "metadata": {},
   "source": [
    "## Lambda Function\n",
    "\n",
    "Lambda functions can be seen as nameless or headless functions. The lambda function below which squares an input variable is assigned to the `square_it2` variable name.\n",
    "\n",
    "### Example Function\n",
    "\n",
    "The following is a simple function that squares any number that is fed to it.\n",
    "\n",
    "```python\n",
    "def square_it1(a):\n",
    "    return a**2\n",
    "```\n",
    "\n",
    "The equivalent lambda function does not have a variable name, although it can be assigned to a variable.\n",
    "```python\n",
    "lambda x: x**2\n",
    "```\n",
    "\n",
    "### Comparative Example\n",
    "\n",
    "The cell below uses these two examples."
   ]
  },
  {
   "cell_type": "code",
   "execution_count": null,
   "metadata": {},
   "outputs": [],
   "source": [
    "def square_it1(a):\n",
    "    return a**2\n",
    "\n",
    "square_it2 = lambda x: x**2  # the lambda function here is assigned here to a variable name\n",
    "\n",
    "square_it1(13), square_it2(13)"
   ]
  },
  {
   "attachments": {},
   "cell_type": "markdown",
   "metadata": {},
   "source": [
    "### Lambda functions as function parameters\n",
    "\n",
    "Some functions accept lambda functions as parameters, for example the sorting function `sorted()`. For example, if you have a collection of tuples, you can use a lambda function to specify the second item as the one to order the list with. Lamda functions can also be used to sort objects according to a certain object parameter (e.g. sort `person` objects by attribute `person.age`).\n",
    "\n",
    "Note that the `sorted()` function returns a new list rather than modifying the original. This matches the functional paradigm (although it does return a list which is mutable when given a tuple). _By contrast, the `list.sort` function modifies the `list`, and cannot be used on tuples or dictionaries._"
   ]
  },
  {
   "cell_type": "code",
   "execution_count": null,
   "metadata": {},
   "outputs": [],
   "source": [
    "a_tuple_of_tuples = ((1,4), (5,2), (8,6), (3,9), (2,1))\n",
    "print(sorted(a_tuple_of_tuples))\n",
    "print(sorted(a_tuple_of_tuples, key = lambda x: x[1]))"
   ]
  },
  {
   "attachments": {},
   "cell_type": "markdown",
   "metadata": {},
   "source": [
    "## Map function\n",
    "\n",
    "The `map` function is for applying functions to every element of an iterable (such as a list or a dictionary). \n",
    "\n",
    "Note that `map()` follows the principle of \"lazy operation\". Rather than return the list (by carrying out all the operations), it returns a `map` object which is like a \"promise\" to carry out the work. This allows Python to optimise operations and reduce storage requirements. If you want to view the results of the operation you can use the `list()` or `tuple()` functions to actualise it. \n",
    "\n",
    "```python\n",
    "map(function, iterable)\n",
    "```\n",
    "\n",
    "### Comparative Example\n",
    "\n",
    "The cell below uses the map function to apply the `squareit` functions defined above to each member of a list. \n",
    "\n",
    "Note that the `tuple()` function is applied so that we can see the result. _If you get an error, you may need to go back and run the cells above._"
   ]
  },
  {
   "cell_type": "code",
   "execution_count": null,
   "metadata": {},
   "outputs": [],
   "source": [
    "# Applying the previously defined functions\n",
    "result_list3 = map(square_it1, a_tuple)\n",
    "result_list4 = map(square_it2, a_tuple)\n",
    "\n",
    "# Specifying the squaring function using a lambda function\n",
    "result_list5 = map(lambda x: x**2, a_tuple)\n",
    "\n",
    "print(f'Result 3 (map) is {result_list3}')\n",
    "print(f'Result 3 is {tuple(result_list3)}')\n",
    "print(f'Result 4 is {tuple(result_list4)}')\n",
    "print(f'Result 5 is {tuple(result_list5)}')"
   ]
  },
  {
   "attachments": {},
   "cell_type": "markdown",
   "metadata": {},
   "source": [
    "# Conclusions\n",
    "\n",
    "If you have followed through this notebook, you should have a basic understanding of some of the Python tools used in functional programming with Python."
   ]
  },
  {
   "attachments": {},
   "cell_type": "markdown",
   "metadata": {},
   "source": [
    "# Resources\n",
    "\n",
    "* [Python manual page: Functional Programming HOWTO](https://docs.python.org/3/howto/functional.html)\n",
    "* [Python manual page on sorting](https://docs.python.org/3/howto/sorting.html)\n",
    "* [Kite: Best Practices for Using Functional Programming in Python (1 page)](https://www.kite.com/blog/python/functional-programming/)\n",
    "* [Real Python: when and how to use functional programming](https://realpython.com/python-functional-programming/)\n",
    "* [Real Python: functional programming with Python (a course)](https://realpython.com/learning-paths/functional-programming/)\n",
    "* [Python Practice Book](https://anandology.com/python-practice-book/index.html) contains a section on functional programming"
   ]
  }
 ],
 "metadata": {
  "kernelspec": {
   "display_name": "Python (py39)",
   "language": "python",
   "name": "py39"
  },
  "language_info": {
   "codemirror_mode": {
    "name": "ipython",
    "version": 3
   },
   "file_extension": ".py",
   "mimetype": "text/x-python",
   "name": "python",
   "nbconvert_exporter": "python",
   "pygments_lexer": "ipython3",
   "version": "3.9.12"
  },
  "orig_nbformat": 4,
  "vscode": {
   "interpreter": {
    "hash": "cd17399ad4502da30f9c302ddf988648c1c18bb6ec572790b467d38c2ff830d7"
   }
  }
 },
 "nbformat": 4,
 "nbformat_minor": 2
}
