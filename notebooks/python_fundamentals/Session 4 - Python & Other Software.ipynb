{
 "cells": [
  {
   "cell_type": "markdown",
   "metadata": {},
   "source": [
    "# Python and other Software\n",
    "\n",
    "In addition to everything that Python can do natively, Python can also interact with other programs. It can do so in a number of ways:\n",
    "\n",
    "1. Calling programs using system calls - either directly like clicking on an icon, or from a console (including using batch files and calling in command files that work with the program).\n",
    "2. Using User Interface Automation to interact with the Graphical User Interface\n",
    "3. Interact with a program's Application Programming Interfaces (API)\n",
    "4. Internal Scripting tool - if the program incorporates Python in this way\n",
    "\n",
    "![](Resources\\Images\\Diagrams_2.png)\n",
    "\n",
    "## Reference\n",
    "Python Interactions with other programs https://stackoverflow.com/questions/14288177/interact-with-other-programs-using-python\n",
    "\n",
    "## Required Libraries\n",
    "\n",
    "The following code cell imports the required libraries for the exercises below and checks which versions are present in your system environment."
   ]
  },
  {
   "cell_type": "code",
   "execution_count": 6,
   "metadata": {},
   "outputs": [
    {
     "name": "stdout",
     "output_type": "stream",
     "text": [
      "Python version is 3.10.13 | packaged by conda-forge | (main, Oct 26 2023, 18:01:37) [MSC v.1935 64 bit (AMD64)]\n",
      "MatPlotLib version is 3.8.2\n",
      "IPyMPL version is 0.9.3\n",
      "IPython version is 8.18.1\n",
      "IPyKernel version is 6.26.0\n",
      "PyWinAuto version is 0.6.8\n",
      "ComTypes version is 1.2.0\n",
      "Pythonnet CLR version is 3.0.0-r1\n",
      "XLwings version is 0.30.13\n",
      "XLRD version is 2.0.1\n"
     ]
    }
   ],
   "source": [
    "# Import libraries and print the version numbers\n",
    "import sys ; print(f'Python version is {sys.version}')\n",
    "from matplotlib import __version__ as mpl_ver ; print(f'MatPlotLib version is {mpl_ver}')\n",
    "from ipympl import __version__ as ipympl_ver ; print(f'IPyMPL version is {ipympl_ver}')\n",
    "from IPython import __version__ as ip_ver ; print(f'IPython version is {ip_ver}')\n",
    "from ipykernel import __version__ as ipyk_ver; print(f'IPyKernel version is {ipyk_ver}')\n",
    "from pywinauto import __version__ as pywinauto_ver; print(f'PyWinAuto version is {pywinauto_ver}')\n",
    "from comtypes import __version__ as comtypes_ver; print(f'ComTypes version is {comtypes_ver}')\n",
    "from clr import __version__ as clr_ver; print(f'Pythonnet CLR version is {clr_ver}')\n",
    "from xlwings import __version__ as xlwings_ver; print(f'XLwings version is {xlwings_ver}')\n",
    "from xlrd import __version__ as xlrd_ver; print(f'XLRD version is {xlrd_ver}')\n",
    "# from xlwt import version as xlwt_ver; print(f'XLWT version is {xlwt_ver}')\n",
    "# from gsapy import __version__ as gsapy_ver; print(f'GsaPy version is {gsapy_ver}')"
   ]
  },
  {
   "cell_type": "markdown",
   "metadata": {},
   "source": [
    "## Running External Programs as a Process\n",
    "Python has a library called [subprocess](https://docs.python.org/3/library/subprocess.html) for running external processes. Note that it replaces two older libraries (`os.system` and `os.spawn` which appear in many online examples).\n",
    "\n",
    "We will focus on two commands: `run` and `Popen`.\n",
    "\n",
    "They can be used to call programs with parameters, which may include command files."
   ]
  },
  {
   "cell_type": "code",
   "execution_count": null,
   "metadata": {},
   "outputs": [],
   "source": [
    "# We can open a program on a computer - note that Python waits for the program to finish\n",
    "\n",
    "import subprocess as sp\n",
    "\n",
    "# sp.run([r'C:\\Windows\\System32\\write.exe'])\n",
    "sp.run(['write.exe'])"
   ]
  },
  {
   "cell_type": "code",
   "execution_count": null,
   "metadata": {},
   "outputs": [],
   "source": [
    "# We can also use it to open an existing file by passing a parameter to the program call\n",
    "programName = \"write.exe\"\n",
    "fileName = \"file.txt\"\n",
    "proc1 = sp.run([programName, fileName])\n",
    "print(proc1)"
   ]
  },
  {
   "cell_type": "code",
   "execution_count": null,
   "metadata": {},
   "outputs": [],
   "source": [
    "# We can use a different approach to run a program in parallel - subprocess.Popen()\n",
    "programName = \"write.exe\"\n",
    "fileName = \"file.txt\"\n",
    "proc2 = sp.Popen([programName, fileName])\n",
    "print(proc2)"
   ]
  },
  {
   "cell_type": "code",
   "execution_count": null,
   "metadata": {},
   "outputs": [],
   "source": [
    "# We can check to see what the state of the process is using the poll() command\n",
    "pid2 = proc2.pid\n",
    "print('Process ID is', pid2)  # Print the Process ID\n",
    "poll2 = proc2.poll()\n",
    "print('Poll result is', poll2)\n",
    "# Poll answer is 'None' if process is still running, '0' if process has ended."
   ]
  },
  {
   "cell_type": "markdown",
   "metadata": {},
   "source": [
    "## Driving External Programs through the User Interface (UI)\n",
    "This is the same thing that AutoIT and AutoHotKeys do. There are a few Python libraries that can be used to do this (including one that is a wrapper for AutoIT - [pyAutoIT](https://github.com/jacexh/pyautoit)). The best one is probably [PyWinAuto](https://pywinauto.github.io). The following example is of using PyWinAuto to drive NotePad through the User Interface. Note the calls to \"Menus\".\n",
    "\n",
    "PyWinAuto can identify and interact with controls (menu, menu items, buttons, tree views etc) so that it is not necessary to know where the items are.\n",
    "\n",
    "The following examples show how you can use pyautowin to drive Notepad and Oasys AdSec.\n",
    "\n",
    "### Notepad driven through the GUI using pyWinAuto\n",
    "The following code drives Notepad by interacting with the graphical objects that are drawn to the screen by the Graphical User Interface (GUI).\n",
    "\n",
    "In this case pyWinAuto is used to:\n",
    "1. start the application using the `start` command, then \n",
    "2. select the Help Menu using the `menu_select` command to bring up the \"About\" window,\n",
    "3. close it again using the description of the dialog (`AboutNotepad`) with the name of the button (`OK`), and\n",
    "4. type some text into the main window. \n"
   ]
  },
  {
   "cell_type": "code",
   "execution_count": null,
   "metadata": {},
   "outputs": [],
   "source": [
    "from pywinauto.application import Application, findwindows\n",
    "import time\n",
    "# Run a target application\n",
    "app = Application(backend=\"uia\").start(\"write.exe\")\n",
    "print('app handle:', app)\n",
    "\n",
    "# Wait for initialisation (this is often necessary)\n",
    "print('...waiting for initialisation to be completed...')\n",
    "while True:\n",
    "    i=0\n",
    "    try:\n",
    "        app = Application(backend='uia').connect(class_name=\"WordPadClass\")\n",
    "        print('i is: ', i)\n",
    "        break\n",
    "    except:\n",
    "        i += 1\n",
    "        if i > 20:\n",
    "            print('... timeout...')\n",
    "            break\n",
    "        else:\n",
    "            time.sleep(0.2)\n",
    "    \n",
    "print('app handle (updated):', app)\n",
    "topwin = app.top_window()\n",
    "print('top window handle:', topwin)\n",
    "\n",
    "\n",
    "# app.Write.Edit.type_keys(\"Hello, World!\")\n",
    "\n",
    "# # Save the file\n",
    "# app.Write.menu_select(\"File -> Save\")\n",
    "# app.DocumentWordPad.menu_select(\"File -> Save as\")\n",
    "# app.SaveAs.FileNameEdit.set_edit_text(\"example.txt\")\n",
    "# app.SaveAs.Save.click()\n",
    "\n",
    "# # Close Write\n",
    "# app.kill()\n",
    "\n",
    "\n"
   ]
  },
  {
   "cell_type": "code",
   "execution_count": null,
   "metadata": {},
   "outputs": [],
   "source": [
    "import pywinauto.keyboard as keyboard\n",
    "\n",
    "# If you run the `topwin.print_control_identifiers()` command, then you will see the following information within it...\n",
    "\"\"\"\n",
    "Button - 'File tab'    (L-1107, T132, R-1051, B155)\n",
    "|    |    |    |    |    | ['File tab', 'File tabButton', 'Button5']\n",
    "|    |    |    |    |    | child_window(title=\"File tab\", control_type=\"Button\")\n",
    "\"\"\" \n",
    "# Identify the button for the File tab, based on the above information\n",
    "file_tab_button = topwin.child_window(title='File tab', control_type='Button')\n",
    "# Click the file button\n",
    "file_tab_button.click()\n",
    "# Click on the \"About WordPad\" option by sending a \"t\" keystroke as a shortcut\n",
    "time.sleep(1.5)\n",
    "# keyboard.send_keys('t')\n",
    "# This will bring up the \"About WordPad\" dialog\n"
   ]
  },
  {
   "cell_type": "code",
   "execution_count": null,
   "metadata": {},
   "outputs": [],
   "source": [
    "# Close the dialog box\n",
    "app.AboutWordPad.OKButton.click()\n",
    "# Add some text\n",
    "app.DocumentWordPad.Edit.set_text('Hello, World!')"
   ]
  },
  {
   "cell_type": "code",
   "execution_count": null,
   "metadata": {},
   "outputs": [],
   "source": [
    "# Add some text\n",
    "doc_handle = app.window(title='Document - WordPad').child_window(auto_id=\"59648\", control_type=\"Document\").handle\n",
    "print(doc_handle)"
   ]
  },
  {
   "cell_type": "code",
   "execution_count": null,
   "metadata": {},
   "outputs": [],
   "source": [
    "topwin.print_control_identifiers()"
   ]
  },
  {
   "cell_type": "markdown",
   "metadata": {},
   "source": [
    "### Oasys AdSec driven through the GUI using pyWinAuto\n",
    "The following lines start up Oasys AdSec and runs an N/M interaction and exports the results to a text file.\n",
    "\n",
    "Starting up a program can be done using the following format, where `start_command` is a string that will cause your program to start. \n",
    "```python\n",
    "app = Application(backend=\"win32\").start(start_command) # for older programs\n",
    "app = Application(backend=\"uia\").start(start_command) # for newer programs\n",
    "```\n",
    "\n",
    "In the case of AdSec, `start_command` should be the path to the AdSec executable and probably also the name of the file that you wish to open:\n",
    "```python\n",
    "start_command = r'\"C:\\Program Files\\Oasys\\AdSec 8.4\\AdSec.exe\" R400x200_C45.adtxt'\n",
    "```\n",
    "1. Note the  `r` at the beginning to make sure that the text string is not interpreted by Python (which would mess with the `\\` delimeters. The single quotes `'` are used to enclose the command string so as to differentiate them from the double quotes `\"` which are part of the command.\n",
    "2. Note the double quotes round the path for the AdSec executable - this is to make sure that the spaces in the folder names don't break up the path.\n",
    "\n",
    "Automating Oasys AdSec is not all that easy, because of the way that the window title changes. Nevertheless, this is quite possible."
   ]
  },
  {
   "cell_type": "code",
   "execution_count": null,
   "metadata": {},
   "outputs": [],
   "source": [
    "# Start up AdSec\n",
    "#adsec_file = r'Test_sec_1.adtxt'\n",
    "adsec_file = r'R400x200_C45.adtxt'\n",
    "start_command = r'\"C:\\Program Files\\Oasys\\AdSec 8.4\\AdSec.exe\" ' + adsec_file\n",
    "adsec_app = Application(backend=\"uia\").start(start_command) # for newer programs"
   ]
  },
  {
   "cell_type": "code",
   "execution_count": null,
   "metadata": {},
   "outputs": [],
   "source": [
    "# Create a variable that points to the AdSec Window\n",
    "#adsec_win = app.window(title_re=adsec_file + \".*\") \n",
    "adsec_win = adsec_app.window(title_re=adsec_file + \" - Oasys Adsec\") \n",
    "print(adsec_win)\n",
    "if adsec_win.exists():\n",
    "    print('AdSec window exists')\n",
    "    print('AdSec:')\n",
    "    print(adsec_win)\n",
    "    print(adsec_win.wrapper_object())\n",
    "else:\n",
    "    print('E R R O R - AdSec window does not exist')"
   ]
  },
  {
   "cell_type": "markdown",
   "metadata": {},
   "source": [
    "![](Resources\\Images\\AdSec_01.png)\n",
    "Identifying windows, dialogs and controls (buttons, comboboxes etc) can be challenging. However, there is a command that will help identify windows, dialogs and controls - `print_control_identifiers()`. "
   ]
  },
  {
   "cell_type": "code",
   "execution_count": null,
   "metadata": {},
   "outputs": [],
   "source": [
    "# There is a command that will help identify windows, dialogs and controls - 'print_control_identifiers()'\n",
    "adsec_win.print_control_identifiers()"
   ]
  },
  {
   "cell_type": "markdown",
   "metadata": {},
   "source": [
    "Once the items have been identified (for example `Axial_load_Moment_interaction_chartButton`), they can be addressed in a number of ways using the main window variable (in this case `adsec_win`):\n",
    "* Using dictionary look-up format: `adsec_win['Axial load/Moment interaction chartButton']`\n",
    "* Using object format (by converting spaces and non-alphabetic characters to underscores: `adsec_win.Axial_load_Moment_interaction_chartButton`"
   ]
  },
  {
   "cell_type": "code",
   "execution_count": null,
   "metadata": {},
   "outputs": [],
   "source": [
    "# Highlight the button for carrying out an NM analysis\n",
    "adsec_win.Axial_load_Moment_interaction_chartButton.draw_outline()\n",
    "#adsec_win['Axial load/Moment interaction chartButton'].draw_outline()"
   ]
  },
  {
   "cell_type": "code",
   "execution_count": null,
   "metadata": {},
   "outputs": [],
   "source": [
    "# Click on the button to carry out an NM analysis\n",
    "adsec_win['Axial load/Moment interaction chartButton'].click()"
   ]
  },
  {
   "cell_type": "code",
   "execution_count": null,
   "metadata": {},
   "outputs": [],
   "source": [
    "# Click OK \n",
    "adsec_win['OKButton'].click()"
   ]
  },
  {
   "cell_type": "code",
   "execution_count": null,
   "metadata": {},
   "outputs": [],
   "source": [
    "# Maximise the chart window - not actually required - and causes problems here\n",
    "adsec_win['MaximizeButton'].click()"
   ]
  },
  {
   "cell_type": "markdown",
   "metadata": {},
   "source": [
    "![](Resources\\Images\\AdSec_02.png)\n",
    "Note that the title of the AdSec window has changed..."
   ]
  },
  {
   "cell_type": "code",
   "execution_count": null,
   "metadata": {},
   "outputs": [],
   "source": [
    "# note that the name of the AdSec window has changed...\n",
    "print('The AdSec window variable works' if adsec_win.exists() else 'The AdSec window variable does not work')"
   ]
  },
  {
   "cell_type": "code",
   "execution_count": null,
   "metadata": {},
   "outputs": [],
   "source": [
    "# We need to get the new name\n",
    "max_win_title = '[' + adsec_file + ' : N/M]'\n",
    "max_win = adsec_app[max_win_title]\n",
    "print('Chart window found' if max_win.exists() else 'Chart window not found')"
   ]
  },
  {
   "cell_type": "code",
   "execution_count": null,
   "metadata": {},
   "outputs": [],
   "source": [
    "# Here we need to do a right-button click, so we need a new desktop function\n",
    "from pywinauto import Desktop\n",
    "dsk = Desktop(backend='uia')\n",
    "\n",
    "if max_win.exists():\n",
    "    max_win.set_focus().click_input(button='right')\n",
    "    dsk.Context['Export Curve...'].click_input()"
   ]
  },
  {
   "cell_type": "code",
   "execution_count": null,
   "metadata": {},
   "outputs": [],
   "source": [
    "# Check to see if SaveAs dialog has appeared.\n",
    "# If so highlight box for file name and use 'type_keys' to input the name for the export file\n",
    "\n",
    "print('SaveAs dialog found' if adsec_app.Save_AsDialog.File_name_Edit.exists() else 'SaveAs dialog not found')\n",
    "if adsec_app.Save_AsDialog.File_name_Edit.exists():\n",
    "    adsec_app.Save_AsDialog.File_name_ComboBox.draw_outline()\n",
    "    adsec_app.Save_AsDialog.File_name_ComboBox.type_keys('curve_datapoints.csv')"
   ]
  },
  {
   "cell_type": "code",
   "execution_count": null,
   "metadata": {},
   "outputs": [],
   "source": [
    "# Click on the Save Button\n",
    "adsec_app.Save_AsDialog.SaveButton.click_input()"
   ]
  },
  {
   "cell_type": "code",
   "execution_count": null,
   "metadata": {},
   "outputs": [],
   "source": [
    "# exit from AdSec using 'Alt-F4'\n",
    "max_win.type_keys('%{F4}')"
   ]
  },
  {
   "cell_type": "code",
   "execution_count": null,
   "metadata": {},
   "outputs": [],
   "source": [
    "# Click on NoButton so as not to save\n",
    "adsec_app.OpenDialog.NoButton.click_input()"
   ]
  },
  {
   "cell_type": "markdown",
   "metadata": {},
   "source": [
    "### References\n",
    "\n",
    "More information on using the Graphical User Interface can be found in the following references:\n",
    "* [PyWinAuto website - Introduction](https://pywinauto.github.io/)\n",
    "* [Documentation](https://pywinauto.readthedocs.io/en/latest/contents.html)\n",
    "* [pyAutoIT Repository](https://github.com/jacexh/pyautoit)\n",
    "* [Topics tagged with 'PyWinAuto' on Stack Overflow](https://stackoverflow.com/questions/tagged/pywinauto)\n"
   ]
  },
  {
   "cell_type": "markdown",
   "metadata": {},
   "source": [
    "## Driving External Programs through the Application Programming Interface (API)\n",
    "We have already seen an example of this - namely XLwings. \n",
    "![XLwings](Resources\\Images\\xlwings_landingpage.png)\n",
    "\n",
    "Other examples include:\n",
    "* [RevitPythonShell](https://github.com/architecture-building-systems/revitpythonshell) - note that this is not the same as Dynamo - it is a more direct interaction.\n",
    "* [AutoCAD including Civil3D](https://pyautocad.readthedocs.io/en/stable/) - this can be used to automate both AutoCAD and other programs that share the same API.\n",
    "* [ArcGIS](https://developers.arcgis.com/python/) - this is carried out using a library called [arcpy](http://resources.arcgis.com/en/help/main/10.1/index.html#//000v00000001000000#GUID-4EC90E5F-F497-4FC0-99FB-7703ED4C8F77) ([Python Training is available from ESRI](https://www.esri.com/training/catalog/57630436851d31e02a43f13c/python-for-everyone/))\n",
    "* [GSApy](https://gitlab.arup.com/david.dekoning/gsapy) - a Python wrapper for GSA\n",
    "* [Bentley](https://www.bentley.com/en/software-developers/developing-engineering-applications/design-and-analytical-modeling-sdks) - Software Development Kit (SDK)\n",
    "* [Plaxis](https://www.plaxis.com/news/software-update/plaxis-remote-scripting/) - for remote scripting using HTTP REST API.\n",
    "\n",
    "An increasing number of Oasys programs include APIs and many can be driven from Python. The following are examples using GSA. "
   ]
  },
  {
   "cell_type": "markdown",
   "metadata": {},
   "source": [
    "### Driving GSA through the Application Programming Interface (API)\n",
    "This example uses the Common Object Model (COM) Application Programming Interface (API) frovided by GSA. This is provided as an example of what you can do with such interfaces. However, if you really want to drive GSA, I would recommend using the GSApy library which is more user-friendly."
   ]
  },
  {
   "cell_type": "code",
   "execution_count": null,
   "metadata": {},
   "outputs": [],
   "source": [
    "# If you have GSA, then you may want to test out this\n",
    "from comtypes.client import CreateObject\n",
    "from comtypes import CLSCTX_LOCAL_SERVER \n",
    "from os.path import abspath, exists\n",
    "\n",
    "infile = \"Seismic Example (GSA 8_7) 02.gwb\"\n",
    "print(\"{} - input file exists\".format(infile)) if exists(infile) else print ('{} - input file is not in folder'.format(infile))\n",
    "\n",
    "# Create GSA COM object\n",
    "GsaObj = CreateObject(\"Gsa.ComAuto\",CLSCTX_LOCAL_SERVER)\n",
    "GSA_PID = GsaObj.ProcessID()\n",
    "print(GSA_PID)\n",
    "\n",
    "# Send commands to the GSA COM object\n",
    "status = GsaObj.Open(abspath(infile))\n",
    "node = GsaObj.GwaCommand(\"HIGHEST, NODE\")\n",
    "\n",
    "print(\"Highest node is :\", node)"
   ]
  },
  {
   "cell_type": "code",
   "execution_count": null,
   "metadata": {},
   "outputs": [],
   "source": [
    "GsaObj.NodeCoor(164)\n",
    "nds = list(range(1,1000))\n",
    "nodes = GsaObj.Nodes(nds)\n",
    "#GsaObj.SaveAs(\"delme_now.gwb\")\n",
    "len(nodes[0])\n",
    "#print(GsaObj.NodeCoor(nodes[2]))\n",
    "#ignore = [print(nd) for nd in nodes]"
   ]
  },
  {
   "cell_type": "code",
   "execution_count": null,
   "metadata": {},
   "outputs": [],
   "source": [
    "GSA_PID = GsaObj.ProcessID()\n",
    "print(\"GSA Process ID:  \", GSA_PID, \"\\n\")\n",
    "print(\"GSA Component Versions:\")\n",
    "#print(GsaObj.VersionString())"
   ]
  },
  {
   "cell_type": "code",
   "execution_count": null,
   "metadata": {},
   "outputs": [],
   "source": [
    "# Close down GSA\n",
    "GsaObj.Close()\n",
    "GsaObj = None"
   ]
  },
  {
   "cell_type": "markdown",
   "metadata": {},
   "source": [
    "### GSA and GSApy\n",
    "The following functions from `gsapy` are demonstrated for reference. This library is already installed with the Arup Anaconda installation. For more information take a look at the [README documentation](https://gitlab.arup.com/david.dekoning/gsapy/blob/master/README.md)."
   ]
  },
  {
   "cell_type": "code",
   "execution_count": 6,
   "metadata": {},
   "outputs": [
    {
     "ename": "ModuleNotFoundError",
     "evalue": "No module named 'gsapy'",
     "output_type": "error",
     "traceback": [
      "\u001b[1;31m---------------------------------------------------------------------------\u001b[0m",
      "\u001b[1;31mModuleNotFoundError\u001b[0m                       Traceback (most recent call last)",
      "Cell \u001b[1;32mIn[6], line 1\u001b[0m\n\u001b[1;32m----> 1\u001b[0m \u001b[38;5;28;01mfrom\u001b[39;00m \u001b[38;5;21;01mgsapy\u001b[39;00m \u001b[38;5;28;01mimport\u001b[39;00m GSA\n\u001b[0;32m      2\u001b[0m infile \u001b[38;5;241m=\u001b[39m \u001b[38;5;124m\"\u001b[39m\u001b[38;5;124mSeismic Example (GSA 8_7) 02.gwb\u001b[39m\u001b[38;5;124m\"\u001b[39m\n",
      "\u001b[1;31mModuleNotFoundError\u001b[0m: No module named 'gsapy'"
     ]
    }
   ],
   "source": [
    "from gsapy import GSA\n",
    "infile = \"Seismic Example (GSA 8_7) 02.gwb\""
   ]
  },
  {
   "cell_type": "code",
   "execution_count": null,
   "metadata": {},
   "outputs": [],
   "source": [
    "model = GSA(infile,version=\"9.0\")"
   ]
  },
  {
   "cell_type": "code",
   "execution_count": null,
   "metadata": {},
   "outputs": [],
   "source": [
    "print(model.version())"
   ]
  },
  {
   "cell_type": "code",
   "execution_count": null,
   "metadata": {},
   "outputs": [],
   "source": [
    "# This creates lists and dictionaries for working with nodes and elements\n",
    "node_list = model.get_nodes()\n",
    "node_dict = {n.index:n for n in node_list}    # Dictionary comprehension\n",
    "elem_list = model.get_elements()\n",
    "elem_dict = {e.index:e for e in elem_list}    # Dictionary comprehension\n",
    "print(\"Number of nodes:\", len(node_list), \"\\nNumber of elements:\", len(elem_list))"
   ]
  },
  {
   "cell_type": "code",
   "execution_count": null,
   "metadata": {
    "scrolled": true
   },
   "outputs": [],
   "source": [
    "# The node list allows you to cycle through all nodes\n",
    "# Note that item 2 is not necessarily node 2\n",
    "n_2 = node_list[2]\n",
    "print('Node number:', n_2.index, '\\nNode coords:', n_2.coords)"
   ]
  },
  {
   "cell_type": "code",
   "execution_count": null,
   "metadata": {},
   "outputs": [],
   "source": [
    "# The node dictionary allows you to look up nodes and node properties\n",
    "n2 = node_dict.get(2)\n",
    "print('Node number:', n2.index,   '\\nNode coords:', n2.coords)"
   ]
  },
  {
   "cell_type": "code",
   "execution_count": null,
   "metadata": {},
   "outputs": [],
   "source": [
    "e2 = elem_list[2]\n",
    "print('Element type:', e2.type, '\\nProperty:', e2.prop, '\\nTopo:', e2.topo) "
   ]
  },
  {
   "cell_type": "code",
   "execution_count": null,
   "metadata": {},
   "outputs": [],
   "source": [
    "model.close()\n",
    "del model"
   ]
  },
  {
   "cell_type": "markdown",
   "metadata": {},
   "source": [
    "## Calling Dynamic Linked Libraries (DLLs)\n",
    "\n",
    "> \"A dynamic-link library (DLL) is an executable file that acts as a shared library of functions and resources. Dynamic linking enables an executable to call functions or use resources stored in a separate file. These functions and resources can be compiled and deployed separately from the executables that use them. The operating system can load the DLL into the executable's memory space when the executable is loaded, or on demand at runtime. DLLs also make it easy to share functions and resources across executables. Multiple applications can access the contents of a single copy of a DLL in memory at the same time.\" (Source: Microsoft)\n",
    "\n",
    "Python can draw on the functionality provided in the form of Dynamic Linked Libraries (DLLs). These are typically written using C, C++, C#.NET F#.NET or VB.NET and may be referenced using the `pythonnet` library in CPython, or using `clr` in IronPython.\n",
    "\n",
    "### Installing Pythonnet (if required)\n",
    "\n",
    "If you have the Miniforge repository installed from ArupShop, then you should be running this notebook in an environment called `arup-env` (accessible from the start menu) which has the pythonnet library already installed. If not, you can install it from a conda repository using `conda` or `mamba` (depending on what you have installed) or from the Python Package Index (PyPI) using `pip`. Open up a command prompt, then type  `conda install -c conda-forge pythonnet` or similar to install the library. There are two main repositories from which you can install the library using `conda` or `mamba`. The following examples show the prompt, so only type the command starting with `conda` or `pip`.\n",
    "\n",
    "`(arup-env) C:\\> conda install pythonnet`  \n",
    "OR  \n",
    "`(arup-env) C:\\> mamba install -c conda-forge pythonnet`  \n",
    "OR  \n",
    "`(arup-env) C:\\> conda install -c pythonnet pythonnet`  \n",
    "OR  \n",
    "`(arup-env) C:\\> pip install pythonnet`  "
   ]
  },
  {
   "cell_type": "markdown",
   "metadata": {},
   "source": [
    "### The Advantages of DLLs \n",
    "\n",
    "The advantage of compiling code to DLLs is that they can be re-used in many locations. Note that the best way of using DLLs is to code them in VB.NET, C#.NET or F#.NET and then distribute as DLLs. They can be used in Python scripts by using the `clr` library to reference them in. Note that the `clr` function in CPython and IronPython are different, but they do the same thing.\n",
    "\n",
    "### Using DLLs with the Common Language Runtime (CLR), via Pythonnet\n",
    "\n",
    "The Pythonnet package provides the `clr` module for referencing DLLs.\n",
    "\n",
    "For more information and trouble-shooting see the [documentation on PyPI](https://pypi.org/project/pythonnet/)."
   ]
  },
  {
   "cell_type": "code",
   "execution_count": null,
   "metadata": {},
   "outputs": [],
   "source": [
    "import clr; print(f'Common Language Runtime version is {clr.__version__}')\n",
    "from pathlib import Path\n",
    "dllDir = Path('.')\n",
    "dllPath = Path(dllDir / 'doubleMe.dll')  #-- this defines the DLL as being in that directory\n",
    "\n",
    "print(str(dllPath.resolve()))\n",
    "#  this uses the relative path above (but resolved to the full path) to call the DLL\n",
    "ref = clr.AddReference (str(dllPath.resolve()))\n",
    "print(ref)"
   ]
  },
  {
   "cell_type": "markdown",
   "metadata": {},
   "source": [
    "The 'doubleMe' DLL was actually written in IronPython and contains only two functions and has no classes or modules."
   ]
  },
  {
   "cell_type": "code",
   "execution_count": null,
   "metadata": {},
   "outputs": [],
   "source": [
    "from doubleMe import double_me, triple_me\n",
    "print('double_me(7) =', double_me(7))\n",
    "print('triple_me(7) =', triple_me(7))"
   ]
  },
  {
   "cell_type": "markdown",
   "metadata": {},
   "source": [
    "## Python as Internal Scripting Program\n",
    "Some programs have integrated Python, which means that you are able to write scripts using Python. This is not the same as running the program through the API, since the instance of Python is internal.\n",
    "\n",
    "Examples include:\n",
    "* [Rhino / Grasshopper](https://developer.rhino3d.com/guides/rhinopython/) - Rhino 8 has CPython 3 (previous versions only had IronPython2)\n",
    "* [Dynamo](http://primer.dynamobim.org/en/10_Custom-Nodes/10-4_Python.html)\n",
    "* [ArcGIS Pro](http://pro.arcgis.com/en/pro-app/arcpy/get-started/installing-python-for-arcgis-pro.htm) - comes with Python 3 embedded\n",
    "* ABAQUS\n",
    "* Blender\n",
    "* Paraview\n",
    "* ...[and many others](https://en.wikipedia.org/wiki/List_of_Python_software#Embedded_as_a_scripting_language)..."
   ]
  },
  {
   "cell_type": "markdown",
   "metadata": {},
   "source": [
    "## Process Utilities - listing active processes\n",
    "The `psutil` utility is quite powerful and can provide extensive information on the function of the computer (even including fan speeds and CPU temperatures!). Extensive ([documentation is provided](https://psutil.readthedocs.io/en/latest/))."
   ]
  },
  {
   "cell_type": "code",
   "execution_count": null,
   "metadata": {},
   "outputs": [],
   "source": [
    "# Listing all active processes - can be modified to only return instances of GSA - remove the '#' in the commands below.\n",
    "import psutil\n",
    "format1 = \"{:5s} {:5s} {:5s}   {:36s} {:s}\"\n",
    "format2 = \"{:5d} {:5.2f} {:5.2f}   {:36s} {:s}\"\n",
    "print(format1.format(\"PID\", \"%CPU\", \"%MEM\", \"NAME\", \"PATH\"))\n",
    "for proc in psutil.process_iter(attrs=['pid', 'name', 'cwd', 'cpu_percent', 'memory_percent']):\n",
    "    pi = proc.info\n",
    "    try:\n",
    "        print(format2.format(pi[\"pid\"], pi[\"cpu_percent\"], pi[\"memory_percent\"], \n",
    "                             pi[\"name\"], pi[\"cwd\"])) # if pi[\"name\"] == \"GSA.exe\" else None\n",
    "    except:\n",
    "        print(format2.format(pi[\"pid\"], pi[\"cpu_percent\"], pi[\"memory_percent\"], \n",
    "                             pi[\"name\"], \"<Not Available>\")) # if pi[\"name\"] == \"GSA.exe\" else None\n",
    "        "
   ]
  }
 ],
 "metadata": {
  "kernelspec": {
   "display_name": "Python 3 (ipykernel)",
   "language": "python",
   "name": "python3"
  },
  "language_info": {
   "codemirror_mode": {
    "name": "ipython",
    "version": 3
   },
   "file_extension": ".py",
   "mimetype": "text/x-python",
   "name": "python",
   "nbconvert_exporter": "python",
   "pygments_lexer": "ipython3",
   "version": "3.10.13"
  }
 },
 "nbformat": 4,
 "nbformat_minor": 4
}
