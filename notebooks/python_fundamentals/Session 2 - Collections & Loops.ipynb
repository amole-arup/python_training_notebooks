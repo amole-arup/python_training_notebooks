{
 "cells": [
  {
   "cell_type": "markdown",
   "metadata": {},
   "source": [
    "# Session 2: Collections (Lists, etc), List Comprehensions and Loops (if-then & while)\n",
    "This notebook provides an introduction to Python lists and to processing of lists using loops and list comprehension. If you are opening the \\*.IPYNB file, then this has an associated python kernel and you can change and rerun the python code below at any time.\n",
    "\n",
    "**Note:** to calculate the contents of a cell, click on the play button in the toolbar or press `<Shift>` and `<Enter>` at the same time. You can insert a new cell following if you press `<Alt>` and `<Enter>`. You can also insert cells above and below by using 'Insert' menu item above or by pressing 'a' (above) or 'b' (below) when a cell is active but not being edited (i.e. the cursor is not in the cell itself)."
   ]
  },
  {
   "cell_type": "code",
   "execution_count": 1,
   "metadata": {},
   "outputs": [
    {
     "name": "stdout",
     "output_type": "stream",
     "text": [
      "Python version is 3.10.13 | packaged by conda-forge | (main, Oct 26 2023, 18:01:37) [MSC v.1935 64 bit (AMD64)]\n",
      "MatPlotLib version is 3.8.2\n",
      "IPythonMPL version is 0.9.3\n"
     ]
    }
   ],
   "source": [
    "# Import libraries and print the version numbers for troubleshooting\n",
    "import sys ; print(f'Python version is {sys.version}')\n",
    "from matplotlib import __version__ as mpl_ver ; print(f'MatPlotLib version is {mpl_ver}')\n",
    "from ipympl import __version__ as ipympl_ver ; print(f'IPyMPL version is {ipympl_ver}')"
   ]
  },
  {
   "cell_type": "markdown",
   "metadata": {},
   "source": [
    "## Introduction\n",
    "Collections are groups of data that may be of various types themselves. This allows us to carry out operations on groups of data instead of just individual items, so this is very powerful. The equivalent in Excel is the `Array`, but Excel arrays are quite limited relative to Python collections. Excel VBA provides access to similar collections as provided in Python, so the general principles you learn here will have application to Excel VBA. Note that Excel VBA does not have the 'list comprehension'.\n",
    "\n",
    "\n",
    "![Excel Arrays](Resources/ExcelImages/Arrays.png)\n",
    "\n",
    "**Lists** are a 'collection' data type with fast access to the last item added. Other collections include: \n",
    "* **tuples** - an immutable list that can be used as a key in a dictionary (immutable means that items cannot be changed once the tuple is initialised)\n",
    "* **dictionaries** (or keyed collections) - for storage and rapid lookup of data based on keys\n",
    "* **set** - a sorted list where all entries are unique (if you try to add a duplicate it will be ignored)\n",
    "* **deque** - a linked list where access to either end of the list is fast (access inside the list is slower than a dictionary)\n",
    "\n",
    "There are also variations on these, such as:\n",
    "* **sorteddict** - sorted dictionary (slower for lookup but allow the user to address items using an index)\n",
    "* **namedtuple** - each element of the tuple has a key\n",
    "\n",
    "Reference for special collections:\n",
    "* https://docs.python.org/3/library/collections.html"
   ]
  },
  {
   "cell_type": "markdown",
   "metadata": {},
   "source": [
    "## Creating Lists"
   ]
  },
  {
   "cell_type": "code",
   "execution_count": null,
   "metadata": {},
   "outputs": [],
   "source": [
    "# create a list of squares, assigning it to the variable 'squares'\n",
    "squares = [1, 4, 9, 16, 25]"
   ]
  },
  {
   "cell_type": "code",
   "execution_count": null,
   "metadata": {},
   "outputs": [],
   "source": [
    "# To display the result\n",
    "squares"
   ]
  },
  {
   "cell_type": "code",
   "execution_count": null,
   "metadata": {},
   "outputs": [],
   "source": [
    "# we can also use the list() function - note that it expects to \n",
    "#    receive only one item, so we put the numbers in parenthesis (which actually is a data type called a 'tuple')\n",
    "list((1, 4, 9, 16, 25))"
   ]
  },
  {
   "cell_type": "code",
   "execution_count": null,
   "metadata": {},
   "outputs": [],
   "source": [
    "# we can add to it (note that if you run this cell twice, it will add '36' to the list twice, since the \n",
    "#                   new 'squares' already contains the '36' that you added previously. \n",
    "squares.append(36)\n",
    "print(squares)"
   ]
  },
  {
   "cell_type": "code",
   "execution_count": null,
   "metadata": {},
   "outputs": [],
   "source": [
    "# We can append multiple items, by using the 'extend' function\n",
    "squares.extend([49, 64])"
   ]
  },
  {
   "cell_type": "code",
   "execution_count": null,
   "metadata": {},
   "outputs": [],
   "source": [
    "# You will note that the cell did not provide the changed variable as an 'Out'.\n",
    "# To see the result, we can type the variable name into a cell\n",
    "squares"
   ]
  },
  {
   "cell_type": "code",
   "execution_count": null,
   "metadata": {},
   "outputs": [],
   "source": [
    "# You can also 'add' lists together \n",
    "squares + [81, 100]"
   ]
  },
  {
   "cell_type": "code",
   "execution_count": null,
   "metadata": {},
   "outputs": [],
   "source": [
    "# note that the previous operation did not change the value of the variable 'squares'\n",
    "# we can see this by typing the name into a cell\n",
    "squares"
   ]
  },
  {
   "cell_type": "code",
   "execution_count": null,
   "metadata": {},
   "outputs": [],
   "source": [
    "# We can change the value of 'square by using the '+=' function \n",
    "#  - this works in the same way as 'x = 2', then 'x += 3' leads to 'x = 5'\n",
    "squares += [81, 100]"
   ]
  },
  {
   "cell_type": "code",
   "execution_count": null,
   "metadata": {},
   "outputs": [],
   "source": [
    "# to see the result we can type the name again (alternatively we can use the 'print' function explained later)\n",
    "squares"
   ]
  },
  {
   "cell_type": "code",
   "execution_count": null,
   "metadata": {},
   "outputs": [],
   "source": [
    "# You can make lists of strings\n",
    "fruit = [\"apple\", \"banana\", \"rambutan\", \"durian\", \"papaya\"]\n",
    "fruit"
   ]
  },
  {
   "cell_type": "code",
   "execution_count": null,
   "metadata": {},
   "outputs": [],
   "source": [
    "# You can add lists with different data types\n",
    "[1, 4, 9] + fruit"
   ]
  },
  {
   "cell_type": "code",
   "execution_count": null,
   "metadata": {},
   "outputs": [],
   "source": [
    "# You can make lists of lists\n",
    "[[1, 3, 5],[2, 4, 6]]"
   ]
  },
  {
   "cell_type": "code",
   "execution_count": null,
   "metadata": {},
   "outputs": [],
   "source": [
    "# we can also start by creating an empty list and appending to it\n",
    "emptylist = []\n",
    "emptylist.append([1, 3, 5])\n",
    "emptylist.append([2, 4, 6])\n",
    "emptylist"
   ]
  },
  {
   "cell_type": "markdown",
   "metadata": {},
   "source": [
    "## Operations on Lists\n",
    "There are two kinds of functions that operate on lists.\n",
    "\n",
    "The first are functions that operate on lists and produce a result. We have already met the add operation ('+'). Key ones include 'len()' for length, 'sum()' for summation, 'sorted()' for a sorted list,  We will meet 'print' in the next section. \n",
    "\n",
    "The second are ones that modify the list object itself, such as the 'append' and 'extend' functions that we saw before and which followed the name of the variable."
   ]
  },
  {
   "cell_type": "code",
   "execution_count": null,
   "metadata": {},
   "outputs": [],
   "source": [
    "numbers = [2, 5, 7]\n",
    "sum(numbers)"
   ]
  },
  {
   "cell_type": "code",
   "execution_count": null,
   "metadata": {},
   "outputs": [],
   "source": [
    "sorted(fruit)"
   ]
  },
  {
   "cell_type": "code",
   "execution_count": null,
   "metadata": {},
   "outputs": [],
   "source": [
    "# note that the original list is not affected - we would need to save as a new variable e.g. sortedfruit = sorted(fruit)\n",
    "fruit"
   ]
  },
  {
   "cell_type": "code",
   "execution_count": null,
   "metadata": {},
   "outputs": [],
   "source": [
    "# If we want to make a change to the list itself, then we need to use the 'sort' method. Note that we are using \n",
    "# the print function so that we can print out the values before and after we carry out the operation. Otherwise we \n",
    "# will only see the end result. Note that this is a function that appears after the list variable name because\n",
    "# it acts on the object itself - i.e. list.sort() rather than sort(list).\n",
    "newfruit = ['cherry', 'blackcurrant', 'pear', 'melon']\n",
    "print(newfruit)\n",
    "newfruit.sort()\n",
    "print(newfruit)"
   ]
  },
  {
   "cell_type": "markdown",
   "metadata": {},
   "source": [
    "## Editing Lists\n",
    "You can make changes to the elements of lists, because they are not static. Lists are editable ('mutable'). The elements of a list are accessed using the square bracket notation - e.g. list[3]. Note that the list numbering starts with zero. Fruit[0] = \"apple\"."
   ]
  },
  {
   "cell_type": "code",
   "execution_count": null,
   "metadata": {},
   "outputs": [],
   "source": [
    "# This changes item '1' to 'raspberry'. We can view the revised contents by 'printing to output' - print(list)\n",
    "fruit[1] = \"raspberry\"\n",
    "print(fruit)"
   ]
  },
  {
   "cell_type": "code",
   "execution_count": null,
   "metadata": {},
   "outputs": [],
   "source": [
    "# We can find the index of a element in the list using the 'index' function\n",
    "fruit.index('durian')"
   ]
  },
  {
   "cell_type": "code",
   "execution_count": null,
   "metadata": {},
   "outputs": [],
   "source": [
    "# You can change elements by counting from the end as well - use negative integers\n",
    "fruit[-1] = \"blueberry\"\n",
    "print(fruit)"
   ]
  },
  {
   "cell_type": "code",
   "execution_count": null,
   "metadata": {},
   "outputs": [],
   "source": [
    "# We can insert items into lists using list.insert()\n",
    "fruit.insert(3, 'tomato')\n",
    "print(fruit)"
   ]
  },
  {
   "cell_type": "code",
   "execution_count": null,
   "metadata": {},
   "outputs": [],
   "source": [
    "# We can remove items from lists using 'list.remove()' or 'del list[i]'\n",
    "print(fruit)\n",
    "fruit.remove('rambutan')\n",
    "print(fruit)\n",
    "del fruit[0]\n",
    "print(fruit)"
   ]
  },
  {
   "cell_type": "markdown",
   "metadata": {},
   "source": [
    "## List Addressing and List Unpacking\n",
    "Extracting data from a list can be done by using indexes or it can be setting a collection of variables to be equal to the list (list unpacking)."
   ]
  },
  {
   "cell_type": "code",
   "execution_count": null,
   "metadata": {},
   "outputs": [],
   "source": [
    "# List indexing (note that the first item in the list is item '0')\n",
    "berries = ['raspberry', 'redcurrant']\n",
    "a = berries[0]\n",
    "b = berries[1]\n",
    "print('first berry is', a, ', second berry is', b)"
   ]
  },
  {
   "cell_type": "code",
   "execution_count": null,
   "metadata": {
    "scrolled": true
   },
   "outputs": [],
   "source": [
    "# List unpacking - Python has a special way of extracting the contents of lists and tuples using an asterix\n",
    "# Multiple variables can be assigned to  providing multiple variables to receive the data\n",
    "a, b = 3, 5\n",
    "print('a is', a, '  b is', b)\n",
    "\n",
    "c, d = berries\n",
    "print('first berry is', c, ', second berry is', d)"
   ]
  },
  {
   "cell_type": "code",
   "execution_count": null,
   "metadata": {},
   "outputs": [],
   "source": [
    "# If the length of the list is unknown then the remainder can be assigned to a variable\n",
    "a_list = [0,1,2,3,4,5]\n",
    "e, f, *g = a_list    # note the asterisk '*' before the g\n",
    "print(e)\n",
    "print(f)\n",
    "print(len(g), 'elements remaining:', g)"
   ]
  },
  {
   "cell_type": "markdown",
   "metadata": {},
   "source": [
    "## List Slicing\n",
    "This is the process of extracting elements from a list. This is an extension of the square brackets notation we used earlier."
   ]
  },
  {
   "cell_type": "code",
   "execution_count": null,
   "metadata": {},
   "outputs": [],
   "source": [
    "print(fruit)      # let's remind ourselves what the list contains\n",
    "print(fruit[2])   # prints the fruit at location 2 - i.e. the third in the list\n",
    "print(fruit[1:2])   # prints the fruit in a range\n",
    "print(fruit[:2])  # prints the fruit *up to but not including* location 2\n",
    "print(fruit[2:])  # prints the fruit *including and up from* location 2 - note that fruit = fruit[:2] + fruit[2:]\n",
    "print(fruit[:-1])  # prints all fruit apart from the last item\n",
    "print(fruit[:-3])  # prints all fruit apart from the last three items"
   ]
  },
  {
   "cell_type": "code",
   "execution_count": null,
   "metadata": {},
   "outputs": [],
   "source": [
    "# You can also specify the steps that should be taken between each item\n",
    "print(fruit[::2])"
   ]
  },
  {
   "cell_type": "code",
   "execution_count": null,
   "metadata": {},
   "outputs": [],
   "source": [
    "# This step can also be negative, which can give you a reversed list\n",
    "print(fruit[::-1])"
   ]
  },
  {
   "cell_type": "markdown",
   "metadata": {},
   "source": [
    "## Looping\n",
    "Python provides a structure for looping through lists using the ***for*** keyword in the  form of `for list_item in list:`, followed by indented commands to be carried out using each candidate of the list."
   ]
  },
  {
   "cell_type": "code",
   "execution_count": null,
   "metadata": {},
   "outputs": [],
   "source": [
    "numbers = [0, 1, 2, 3, 4, 5]\n",
    "for n in numbers:\n",
    "    print(2 * n + 1, end=\", \")"
   ]
  },
  {
   "cell_type": "markdown",
   "metadata": {},
   "source": [
    "## List Comprehension\n",
    "Python has some powerful ways of processing lists - no need to carry out indexed sweeps through data (e.g. for i = 0 to 22...)."
   ]
  },
  {
   "cell_type": "code",
   "execution_count": null,
   "metadata": {},
   "outputs": [],
   "source": [
    "numbers = [0, 1, 2, 3, 4, 5]\n",
    "print(numbers)"
   ]
  },
  {
   "cell_type": "code",
   "execution_count": null,
   "metadata": {},
   "outputs": [],
   "source": [
    "# To generate the squares of the numbers\n",
    "[i * i for i in numbers]"
   ]
  },
  {
   "cell_type": "code",
   "execution_count": null,
   "metadata": {},
   "outputs": [],
   "source": [
    "# incidentally, we can also do this using a range function:\n",
    "number_range = range(5)\n",
    "print(number_range)\n",
    "print(list(number_range))\n",
    "[ i * i for i in number_range]"
   ]
  },
  {
   "cell_type": "code",
   "execution_count": null,
   "metadata": {},
   "outputs": [],
   "source": [
    "# we can also add conditions - in this case filtering for odd numbers\n",
    "[ i * i for i in number_range if i % 2 == 1]"
   ]
  },
  {
   "cell_type": "markdown",
   "metadata": {},
   "source": [
    "## Multi-factor List Comprehension\n",
    "List comprehension can be extended to multiple lists, by zipping them together and then extracting corresponding pairs of data using unpacking (in this case `f, b = ...`):"
   ]
  },
  {
   "cell_type": "code",
   "execution_count": null,
   "metadata": {},
   "outputs": [],
   "source": [
    "# Using a 'for.. do' on two lists of numbers (it stops once one list is exhausted)\n",
    "for f, b in zip(numbers, fruit):\n",
    "    print(f, b)"
   ]
  },
  {
   "cell_type": "code",
   "execution_count": null,
   "metadata": {},
   "outputs": [],
   "source": [
    "# Using a list comprehension on two lists of numbers (it stops once one list is exhausted)\n",
    "# note that the value returned by print() is always None (after it has printed to console)\n",
    "[print(f, b) for f, b in zip(numbers, fruit)]"
   ]
  },
  {
   "cell_type": "markdown",
   "metadata": {},
   "source": [
    "If a collection can be enumerated (i.e. 'numbered') then you can use the `enumerate` function to pair up an index number with each item (it returns this data as a pair that can be unpacked)."
   ]
  },
  {
   "cell_type": "code",
   "execution_count": null,
   "metadata": {},
   "outputs": [],
   "source": [
    "# We can hide the 'Nones' by assigning them to a variable \n",
    "# that we then ignore.\n",
    "ignore = [print(i, b) for i, b in enumerate(fruit)]"
   ]
  },
  {
   "cell_type": "markdown",
   "metadata": {},
   "source": [
    "## Practical Example\n",
    "In this example we are going to read in data from csv data files (you could also read in data from Excel, but we will look at that later).\n",
    "1. Read in data from a *comma-separated variable* file (csv) using the `csv` library.\n",
    "2. Clean data - convert from text to floats\n",
    "3. Plot data (using `matplotlib`)"
   ]
  },
  {
   "cell_type": "code",
   "execution_count": null,
   "metadata": {},
   "outputs": [],
   "source": [
    "import csv                       # import the library for reading CSV files\n",
    "with open(\"data1.csv\") as f:     # 'f' is the pointer to the file\n",
    "    reader = csv.reader(f)       # 'reader' points to the file contents\n",
    "    #next(reader)                # uncomment to skip first line if it contains titles\n",
    "    data1 = []                   # creating an empty list ('data1')\n",
    "    for row in reader:           # iterating through the file contents, line by line\n",
    "        data1.append(row)        # adding a line to the list ('data1')"
   ]
  },
  {
   "cell_type": "code",
   "execution_count": null,
   "metadata": {},
   "outputs": [],
   "source": [
    "# This data is a list of lists (i.e. nested lists)\n",
    "# Note that the data is interpreted as text, not as numbers\n",
    "print(data1)"
   ]
  },
  {
   "cell_type": "code",
   "execution_count": null,
   "metadata": {},
   "outputs": [],
   "source": [
    "# We can use nested list comprehension to convert the data\n",
    "# This uses data unpacking to extract the three values from each top-level item in the list.\n",
    "data1f = [[float(x), float(y), float(z)] for x,y,z in data1]\n",
    "data1f"
   ]
  },
  {
   "cell_type": "code",
   "execution_count": null,
   "metadata": {},
   "outputs": [],
   "source": [
    "# This could also be achieved using list comprehension:\n",
    "import csv\n",
    "with open(\"data2.csv\") as f:\n",
    "    reader = csv.reader(f)\n",
    "    #next(reader)    # uncomment to skip first line if it contains titles\n",
    "    data2 = [r for r in reader]"
   ]
  },
  {
   "cell_type": "code",
   "execution_count": null,
   "metadata": {},
   "outputs": [],
   "source": [
    "print(data2)"
   ]
  },
  {
   "cell_type": "code",
   "execution_count": null,
   "metadata": {},
   "outputs": [],
   "source": [
    "data2f = [[float(x), float(y), float(z)] for x,y,z in data2]\n",
    "data2f"
   ]
  },
  {
   "cell_type": "markdown",
   "metadata": {},
   "source": [
    "### Plotting Data using MatPlotLib\n",
    "Python has a [plotting library called `matplotlib`](https://matplotlib.org/) that is based on a MatLab paradigm. We will use the [pyplot functions](https://matplotlib.org/api/pyplot_api.html) to plot the data we have imported. More will be provided on this later. "
   ]
  },
  {
   "cell_type": "code",
   "execution_count": null,
   "metadata": {},
   "outputs": [],
   "source": [
    "import matplotlib.pyplot as plt        # importing the plotting library with an alias 'plt'\n",
    "# a 'magic' command to define how the plot is displayed (three of the options are 'widget', 'inline' & 'notebook' )\n",
    "%matplotlib widget                   "
   ]
  },
  {
   "cell_type": "code",
   "execution_count": null,
   "metadata": {},
   "outputs": [],
   "source": [
    "# extract three lists of data from a list of data triplets\n",
    "x, y1, y2 = zip(*data1f)               # using unpacking to convert 6 triplets to 3 lists of 6\n",
    "plt.plot(x, y1, x, y2)                 # generating plot with two pairs of data\n",
    "plt.show()                             # displaying the plot"
   ]
  },
  {
   "cell_type": "markdown",
   "metadata": {},
   "source": [
    "## List Data Exercise\n",
    "Read in the data from the two files which contain vector information as x, y, z (`data3.csv` and `data4.csv` and calculate the angle between two vectors (line by line) using looping and/or list comprehension.\n",
    "1. Start by creating a function that calculates the angle (hint: use [https://en.wikipedia.org/wiki/Cosine_similarity](cosine) relationship, noting that `A dot B = Ax * Bx + Ay * By + Az * Bz`).\n",
    "2. Apply that function over the list using either list comprehension or simple loops.\n",
    "\n",
    "```python\n",
    "def vector_angle(vec_1, vec_2):\n",
    "    # your code goes here\n",
    "    return angle\n",
    "```"
   ]
  },
  {
   "cell_type": "code",
   "execution_count": null,
   "metadata": {},
   "outputs": [],
   "source": []
  },
  {
   "cell_type": "markdown",
   "metadata": {},
   "source": [
    "## Useful Resources\n",
    "* The Python tutorial - https://docs.python.org/3.6/tutorial/index.html\n",
    ">* Python Lists https://docs.python.org/3.6/tutorial/introduction.html#lists\n",
    "* Google's Python class - https://developers.google.com/edu/python/\n",
    ">* Lists https://developers.google.com/edu/python/lists\n",
    "* The Python Course - http://www.python-course.eu/python3_course.php\n",
    ">* Sequential data types - http://www.python-course.eu/python3_sequential_data_types.php\n",
    ">* List manipulation - http://www.python-course.eu/python3_list_manipulation.php \n",
    ">* List comprehension - http://www.python-course.eu/python3_list_comprehension.php\n"
   ]
  },
  {
   "cell_type": "code",
   "execution_count": null,
   "metadata": {},
   "outputs": [],
   "source": []
  }
 ],
 "metadata": {
  "kernelspec": {
   "display_name": "Python 3",
   "language": "python",
   "name": "python3"
  },
  "language_info": {
   "codemirror_mode": {
    "name": "ipython",
    "version": 3
   },
   "file_extension": ".py",
   "mimetype": "text/x-python",
   "name": "python",
   "nbconvert_exporter": "python",
   "pygments_lexer": "ipython3",
   "version": "3.10.13"
  }
 },
 "nbformat": 4,
 "nbformat_minor": 2
}
