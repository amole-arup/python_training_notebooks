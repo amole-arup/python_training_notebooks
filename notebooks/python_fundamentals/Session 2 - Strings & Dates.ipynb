{
 "cells": [
  {
   "cell_type": "markdown",
   "metadata": {},
   "source": [
    "# Session 2: Text / Strings & Dates\n",
    "This session will look at string objects (text) and dates. I will also introduce the two types of `if-then-else` flow control structures."
   ]
  },
  {
   "cell_type": "code",
   "execution_count": 1,
   "metadata": {},
   "outputs": [
    {
     "name": "stdout",
     "output_type": "stream",
     "text": [
      "Python version is 3.10.13 | packaged by conda-forge | (main, Oct 26 2023, 18:01:37) [MSC v.1935 64 bit (AMD64)]\n"
     ]
    }
   ],
   "source": [
    "# Import libraries and print the version numbers for troubleshooting\n",
    "import sys ; print(f'Python version is {sys.version}')"
   ]
  },
  {
   "cell_type": "markdown",
   "metadata": {},
   "source": [
    "## Text / Strings\n",
    "\n",
    "Strings refers to \"text\" or letters / characters. Just as Excel has a number of functions that act on text, Python does as well.\n",
    "\n",
    "![Excel String Examples](Resources/ExcelImages/Strings01.png)"
   ]
  },
  {
   "cell_type": "markdown",
   "metadata": {},
   "source": [
    "## Some Python String Functions\n"
   ]
  },
  {
   "cell_type": "code",
   "execution_count": null,
   "metadata": {},
   "outputs": [],
   "source": [
    "# Length of Strings\n",
    "len(\"straightforward\")"
   ]
  },
  {
   "cell_type": "code",
   "execution_count": null,
   "metadata": {},
   "outputs": [],
   "source": [
    "# Change all to lower case\n",
    "\"SharePoint\".lower()"
   ]
  },
  {
   "cell_type": "code",
   "execution_count": null,
   "metadata": {},
   "outputs": [],
   "source": [
    "# Joining strings\n",
    "a = \"super\"\n",
    "b = \"cali\"\n",
    "c = \"fragilistic\"\n",
    "print(a + b + c)"
   ]
  },
  {
   "cell_type": "code",
   "execution_count": null,
   "metadata": {},
   "outputs": [],
   "source": [
    "# Joining a list of strings (note the use of square brackets)\n",
    "strings = [\"super\", \"cali\", \"fragilistic\"]\n",
    "joined_strings = \"ZZZ\".join(strings)\n",
    "joined_strings"
   ]
  },
  {
   "cell_type": "code",
   "execution_count": null,
   "metadata": {},
   "outputs": [],
   "source": [
    "# Splitting Strings\n",
    "poem = \"The woods are lovely, dark and deep, But I have promises to keep, And miles to go before I sleep, And miles to go before I sleep.\"\n",
    "poem.split(\", \")"
   ]
  },
  {
   "cell_type": "code",
   "execution_count": null,
   "metadata": {},
   "outputs": [],
   "source": [
    "# We can replace all occurences of a string\n",
    "poem = \"The woods are lovely, dark and deep, But I have promises to keep, And miles to go before I sleep, And miles to go before I sleep.\"\n",
    "poem.replace(\"miles\", \"kilometres\")"
   ]
  },
  {
   "cell_type": "code",
   "execution_count": null,
   "metadata": {},
   "outputs": [],
   "source": [
    "# We can count the number of times a certain collection of characters appears\n",
    "poem = \"The woods are lovely, dark and deep, But I have promises to keep, And miles to go before I sleep, And miles to go before I sleep.\"\n",
    "poem.count(\"eep\")"
   ]
  },
  {
   "cell_type": "code",
   "execution_count": null,
   "metadata": {},
   "outputs": [],
   "source": [
    "# We can change the case of all characters\n",
    "poem = \"The woods are lovely, dark and deep, But I have promises to keep, And miles to go before I sleep, And miles to go before I sleep.\"\n",
    "poem.lower()"
   ]
  },
  {
   "cell_type": "code",
   "execution_count": null,
   "metadata": {},
   "outputs": [],
   "source": [
    "# We can combine text and numbers into an output string (NB check what happens if you don't do the str() conversion)\n",
    "some_text = 'The answer is: '\n",
    "answer = 34.6 / 0.7\n",
    "some_text + str(answer)"
   ]
  },
  {
   "cell_type": "code",
   "execution_count": null,
   "metadata": {},
   "outputs": [],
   "source": [
    "# If we want more control over the presentation of the number then we can use the number formatting\n",
    "some_text = 'The answer is: '\n",
    "answer = 34.6 / 0.7\n",
    "some_text + '{:.2f}'.format(answer)"
   ]
  },
  {
   "cell_type": "code",
   "execution_count": null,
   "metadata": {},
   "outputs": [],
   "source": [
    "# We can extend this and also combine it all into one line:\n",
    "# Note the presence of the 0 and the 1 in the {} which refer to items zero and one in the format function\n",
    "'The answers are: {0:.2f} and {1:.1f} kPa'.format(34.6/0.7, 33.4/0.3)"
   ]
  },
  {
   "cell_type": "code",
   "execution_count": null,
   "metadata": {},
   "outputs": [],
   "source": [
    "# Often it is easier just to use the print function. Multiple components may be linked with commas:\n",
    "print('The answers are:', 34.6/0.7, 'and', 33.4/0.3, 'kPa')"
   ]
  },
  {
   "cell_type": "markdown",
   "metadata": {},
   "source": [
    "### If-then-else\n",
    "Python provides two approaches to conditional handling of data. The first one is a single-line version, and the second one allow for multiple actions to occur. Note that the second one relies on indenting of lines (use `tab` key) to make this clear."
   ]
  },
  {
   "cell_type": "code",
   "execution_count": null,
   "metadata": {},
   "outputs": [],
   "source": [
    "# single line option\n",
    "a = 'pangolin'\n",
    "b = 'numbat'\n",
    "# assign the longest string to the variable 'c'\n",
    "c = a if len(a) > len(b) else b\n",
    "print('longer string is:', c)"
   ]
  },
  {
   "cell_type": "code",
   "execution_count": null,
   "metadata": {},
   "outputs": [],
   "source": [
    "# multiple line option:\n",
    "# starts with first conditional test ('if'), followed by indented actions\n",
    "# following conditionals, 'else-if', is designated by 'elif'\n",
    "# catch-all 'else' catches remaining cases\n",
    "# Note the colon (':') after the conditional statements\n",
    "a = 'pangolin'\n",
    "b = 'numbat'\n",
    "# test for comparitive lengths\n",
    "if len(a) > len(b):\n",
    "    print('longer string:', a)\n",
    "    print('shorter string:', b)\n",
    "elif len(a) == len(b):\n",
    "    print('both strings are same length')\n",
    "else:\n",
    "    print('longer string:', b)\n",
    "    print('shorter string:', a)"
   ]
  },
  {
   "cell_type": "markdown",
   "metadata": {},
   "source": [
    "## String Exercises\n",
    "Write and test the following functions:\n",
    "1. Create a function called `first_clause()` that returns the first clause of a sentence - i.e. the letters before the first comma e.g. `first_clause('To be or not to be, that is the question.')` -> `'To be or not to be'`. *Hint: searching on Google is always a good way to go, but here you might find it helpful to know that you can return the first element of a list by adding square brackets with the index number zero (representing the first item in a list, counting from zero), e.g. if a list is defined by `a_list = [5,8,3]`, then `a_list[1]` will return `8`.*\n",
    "2. Create a function called `vector_out()` that joins three formatted numbers (3 decimal places) together with commas e.g. `vector_out(2.5441,-4.8269, 2.68591)` -> `'2.544,-4.827,2.686'`. There are multiple ways of doing this."
   ]
  },
  {
   "cell_type": "code",
   "execution_count": null,
   "metadata": {},
   "outputs": [],
   "source": [
    "def first_clause(words):\n",
    "    # your function here\n",
    "    return \"rrr\"   # the value to be returned"
   ]
  },
  {
   "cell_type": "markdown",
   "metadata": {},
   "source": [
    "# Time & Dates\n",
    "Dates and time are special data types with unique properties that are distinct from the properties of simple numbers.\n",
    "* Times can be added and subtracted, although not mutiplied or divided.\n",
    "* Times cannot be added to numbers, but they can be scaled by real numbers, i.e. multiplication and division by real numbers.\n",
    "* Dates are absolute, so it does not make sense to add one date to another. However, dates may be subtracted from one another to produce a time (the time period between dates).\n",
    "* It is not possible to modify dates by numbers, either by addition/subtraction or multiplication/division.\n",
    "* It is possible to add time to a date, such as adding one month to a date, however, dates cannot be scaled by either a time or a number.\n",
    "\n",
    "Python has a special class for date and time data and an associated library of functions. This is called the [datetime library](https://docs.python.org/library/datetime.html). It can be called using the `import` function call. The `datetime` module also includes functions to handle timezone operations. Note that it is not possible to combine these. If you want to add time to dates, you must use the [timedelta module](https://docs.python.org/library/datetime.html#timedelta-objects).\n",
    "\n",
    "Note that there are also additional classes for [time](https://docs.python.org/library/time.html) and [calendar](https://docs.python.org/library/calendar.html) functions that add more capabilities (not covered here).\n",
    "\n",
    "For more infomation read the Python Module of the Month (pyMOTM) [article on dates and times](https://pymotw.com/3/datetime/).\n",
    "\n",
    "Excel also has time and date functions:\n",
    "\n",
    "![Excel Date Examples](Resources/ExcelImages/Dates02.png)"
   ]
  },
  {
   "cell_type": "markdown",
   "metadata": {},
   "source": [
    "## Dates\n",
    "In the datetime library there is a class for dates - `datetime.date`, which provides a way of creating dates and carrying out calculations that are unique to dates. Note that this `date` class does not provide information on times."
   ]
  },
  {
   "cell_type": "code",
   "execution_count": null,
   "metadata": {},
   "outputs": [],
   "source": [
    "import datetime\n",
    "d = datetime.date(2005, 2, 3)\n",
    "print('date          :  ', d)\n",
    "print('year          :  ', d.year)\n",
    "print('month         :  ', d.month)\n",
    "print('day           :  ', d.day)\n",
    "print('day in week   :  ', d.isoweekday())"
   ]
  },
  {
   "cell_type": "markdown",
   "metadata": {},
   "source": [
    "If general formatting is required, the names of the days of the week or the name of the month, then the string function for time (`strftime`) may be used."
   ]
  },
  {
   "cell_type": "code",
   "execution_count": null,
   "metadata": {},
   "outputs": [],
   "source": [
    "print('month in year :  ', d.strftime(\"%B\"))\n",
    "print('day of week   :  ', d.strftime(\"%A\"))\n",
    "print('full info     :  ', d.strftime(\"%Y-%m-%d %A, %B %W\"))"
   ]
  },
  {
   "cell_type": "code",
   "execution_count": null,
   "metadata": {},
   "outputs": [],
   "source": [
    "d = datetime.date.today()\n",
    "print('date         :  ', d)\n",
    "print('year         :  ', d.year)\n",
    "print('month        :  ', d.month)\n",
    "print('day          :  ', d.day)\n",
    "print('day in week  :  ', d.isoweekday())\n",
    "print('day of week  :  ', d.strftime(\"%A\"))"
   ]
  },
  {
   "cell_type": "markdown",
   "metadata": {},
   "source": [
    "## Times\n",
    "The datetime library includes a class for times - `datetime.time`."
   ]
  },
  {
   "cell_type": "code",
   "execution_count": null,
   "metadata": {},
   "outputs": [],
   "source": [
    "import datetime\n",
    "t = datetime.time(1, 2, 3)\n",
    "print('time         :  ', t)\n",
    "print('hour         :  ', t.hour)\n",
    "print('minute       :  ', t.minute)\n",
    "print('second       :  ', t.second)\n",
    "print('microsecond  :  ', t.microsecond)"
   ]
  },
  {
   "cell_type": "code",
   "execution_count": null,
   "metadata": {},
   "outputs": [],
   "source": [
    "import datetime\n",
    "t = datetime.datetime.now()\n",
    "print('date         :  ', t)\n",
    "print('hour         :  ', t.hour)\n",
    "print('minute       :  ', t.minute)\n",
    "print('second       :  ', t.second)\n",
    "print('microsecond  :  ', t.microsecond)"
   ]
  },
  {
   "cell_type": "code",
   "execution_count": null,
   "metadata": {},
   "outputs": [],
   "source": [
    "t1 = datetime.time(1, 22, 30)\n",
    "t2 = datetime.time(0, 43, 3)\n",
    "#t3 = t1 + t2\n",
    "print('time         :  ', t2)"
   ]
  },
  {
   "cell_type": "markdown",
   "metadata": {},
   "source": [
    "## Timedelta"
   ]
  },
  {
   "cell_type": "code",
   "execution_count": null,
   "metadata": {},
   "outputs": [],
   "source": [
    "# It is not possible to simply add dates and times (e.g. 'd + t').\n",
    "# You must use the timedelta object and functions\n",
    "# Here is an example of adding time to a date using a custom function\n",
    "from datetime import timedelta as td\n",
    "from datetime import date\n",
    "\n",
    "def one_more_day(a_date):\n",
    "    answer = a_date + td(days=1)\n",
    "    return answer\n",
    "\n",
    "#print(datetime.today())\n",
    "print(date.today())\n",
    "print(one_more_day(date.today()))"
   ]
  },
  {
   "cell_type": "code",
   "execution_count": null,
   "metadata": {},
   "outputs": [],
   "source": [
    "# Here is an example of adding hours\n",
    "from datetime import timedelta, datetime, time\n",
    "dt1 = datetime.now()\n",
    "t = time(0,12,0)\n",
    "dt2 = dt1 + timedelta(hours=2)\n",
    "#dt2 = t + timedelta(hours=2)\n",
    "print(t)\n",
    "print(dt1)\n",
    "print(dt2)"
   ]
  },
  {
   "cell_type": "markdown",
   "metadata": {},
   "source": [
    "## DateTime - Dates & Times\n",
    "There is also a class for dates and times together"
   ]
  },
  {
   "cell_type": "code",
   "execution_count": null,
   "metadata": {},
   "outputs": [],
   "source": [
    "import datetime\n",
    "d = datetime.date(2001, 2, 3)\n",
    "print('date         :  ', d)\n",
    "print('year         :  ', d.year)\n",
    "print('month        :  ', d.month)\n",
    "print('day          :  ', d.day)\n",
    "print('day in week  :  ', d.isoweekday())\n",
    "print('day of week  :  ', d.strftime(\"%A\"))"
   ]
  },
  {
   "cell_type": "code",
   "execution_count": null,
   "metadata": {},
   "outputs": [],
   "source": [
    "import datetime\n",
    "t = datetime.time(1, 2, 3)\n",
    "print('time         :  ', t)\n",
    "print('hour         :  ', t.hour)\n",
    "print('minute       :  ', t.minute)\n",
    "print('second       :  ', t.second)\n",
    "print('microsecond  :  ', t.microsecond)"
   ]
  },
  {
   "cell_type": "code",
   "execution_count": null,
   "metadata": {},
   "outputs": [],
   "source": [
    "# we can create direct reference to functions which can be used on their own\n",
    "from datetime import time\n",
    "from datetime import date    # this library only deals with dates\n",
    "from datetime import datetime  # this library also handles times\n",
    "t = time(0,12,0)\n",
    "d = date.today()\n",
    "dt_now = datetime.now()\n",
    "print(\"time  :\", t)\n",
    "print(\"today's date (from date module)  :\", d)\n",
    "print(\"current date and time: \" , dt_now)\n",
    "print(\"current date (from datetime module): \" , dt_now.date())"
   ]
  },
  {
   "cell_type": "code",
   "execution_count": null,
   "metadata": {},
   "outputs": [],
   "source": [
    "# Here is an example of using timedelta to add periods of time to dates\n",
    "from datetime import timedelta as td\n",
    "from datetime import date, datetime\n",
    "\n",
    "def one_more_day():\n",
    "    answer = date.today() + td(days=1)\n",
    "    return answer\n",
    "\n",
    "print(datetime.today())\n",
    "print(date.today())\n",
    "print(one_more_day())"
   ]
  },
  {
   "cell_type": "markdown",
   "metadata": {},
   "source": [
    "# Convert Strings to Dates and Times\n",
    "If you know the format, then you can use the [striptime function](https://docs.python.org/library/datetime.html#strftime-and-strptime-behavior)."
   ]
  },
  {
   "cell_type": "code",
   "execution_count": null,
   "metadata": {},
   "outputs": [],
   "source": [
    "dt1 = datetime.strptime('2011-01-03', '%Y-%m-%d')\n",
    "dt2 = datetime.strptime('23 May 1996', '%d %b %Y')\n",
    "print(dt1)\n",
    "print(dt2)"
   ]
  },
  {
   "cell_type": "markdown",
   "metadata": {},
   "source": [
    "If the exact format is not known, then the [dateutil parser](https://dateutil.readthedocs.io/en/stable/) may be able to interpret and convert the format as follows:"
   ]
  },
  {
   "cell_type": "code",
   "execution_count": null,
   "metadata": {},
   "outputs": [],
   "source": [
    "from dateutil.parser import parse\n",
    "dt3 = parse('2011-01-03')\n",
    "dt4 = parse('23 May 1996')\n",
    "dt5 = parse('Today is January 1, 2047 at 8:21:00AM', fuzzy=True)\n",
    "dt6 = parse('Today is January 1, 2047 at 8:21:00AM', fuzzy_with_tokens=True)\n",
    "print(dt3)\n",
    "print(dt4)\n",
    "print(dt5, \" - fuzzy\")\n",
    "print(dt6, \" (date and other text)\")"
   ]
  },
  {
   "cell_type": "markdown",
   "metadata": {},
   "source": [
    "# Get Modification Dates of Files\n",
    "Python includes some utilities for file manipulation in the [os.path module](https://docs.python.org/library/os.path.html). An alternative module also exists called [pathlib](https://docs.python.org/library/pathlib.html)."
   ]
  },
  {
   "cell_type": "code",
   "execution_count": null,
   "metadata": {},
   "outputs": [],
   "source": [
    "import os.path\n",
    "from time import ctime\n",
    "filename = \"data1.csv\"\n",
    "fullfilename = os.path.abspath(filename) # extracts full file path\n",
    "print(\"Does filepath exist?: {}\".format(os.path.exists(filename)))\n",
    "print(\"Is it a file?: {}\".format(os.path.isfile(filename)))\n",
    "print(\"File path: {:s}\".format(os.path.abspath(filename)))\n",
    "print(\"File directory: {:s}\".format(os.path.dirname(fullfilename)))\n",
    "print(\"File root: {0[0]:s}    extension: {0[1]:s}\".format(os.path.splitext(filename)))\n",
    "print(\"Last modified: {:s}\".format(ctime(os.path.getmtime(filename))))\n",
    "print(\"Created: {:s}\".format(ctime(os.path.getctime(filename))))"
   ]
  },
  {
   "cell_type": "code",
   "execution_count": null,
   "metadata": {},
   "outputs": [],
   "source": [
    "# If you are starting with a full file path, it can be broken down with multiple steps.\n",
    "import os.path as op\n",
    "fp = r'C:\\Users\\john.doe\\OneDrive - Arup\\Source\\JupyterSamples\\pyBasics\\pyNumbers.md'\n",
    "fp1 = op.split(fp)\n",
    "#print(fp1)\n",
    "fp2 = op.splitdrive(fp1[0])\n",
    "#print(fp2)\n",
    "fp3 = op.splitext(fp1[1])\n",
    "#print(fp3)\n",
    "print(\"full path :  \", fp)\n",
    "print(\"drive     :  \", fp2[0])\n",
    "print(\"dir path  :  \", fp2[1])\n",
    "print(\"file root :  \", fp3[0])\n",
    "print(\"extension :  \", fp3[1])"
   ]
  },
  {
   "cell_type": "markdown",
   "metadata": {},
   "source": [
    "# Date Exercises\n",
    "These are your exercises for dates.\n",
    "1. Write a function called `add_a_week()` to add a week to a date \n",
    "2. Write a function to convert a date to a day - `date_to_dayname` - e.g. `Monday` (hint: look at `strftime` function)\n",
    "3. Write a function to count the number of workdays between two dates (inclusive) - `count_workdays()`\n",
    "\n",
    "These should take the form of three functions (make sure you use these function names):\n",
    "```python\n",
    "def add_a_week(a_date):\n",
    "    # add your function in here\n",
    "    return new_date\n",
    "\n",
    "\n",
    "def date_to_dayname(a_date):\n",
    "    # your code here\n",
    "    return dayname\n",
    "\n",
    "\n",
    "def count_workdays(date_1, date_2):\n",
    "    # your code here\n",
    "    return workdays\n",
    "```"
   ]
  },
  {
   "cell_type": "markdown",
   "metadata": {},
   "source": [
    "### Datetime Exercise (help on first task)\n",
    "The following code will help you to start the first exercise above...\n",
    "\n",
    "If you are still stuck, try asking a friend..."
   ]
  },
  {
   "cell_type": "code",
   "execution_count": null,
   "metadata": {},
   "outputs": [],
   "source": [
    "# Active code - change contents\n",
    "from datetime import timedelta as td\n",
    "from datetime import date, datetime\n",
    "\n",
    "def add_a_week(a_date):\n",
    "    # add your function in here\n",
    "    new_date = a_date  # you need to change this formula\n",
    "    return new_date\n",
    "\n",
    "add_a_week(date.today())  # currently returns the date today without change"
   ]
  },
  {
   "cell_type": "code",
   "execution_count": null,
   "metadata": {},
   "outputs": [],
   "source": []
  }
 ],
 "metadata": {
  "kernelspec": {
   "display_name": "Python 3",
   "language": "python",
   "name": "python3"
  },
  "language_info": {
   "codemirror_mode": {
    "name": "ipython",
    "version": 3
   },
   "file_extension": ".py",
   "mimetype": "text/x-python",
   "name": "python",
   "nbconvert_exporter": "python",
   "pygments_lexer": "ipython3",
   "version": "3.10.13"
  }
 },
 "nbformat": 4,
 "nbformat_minor": 2
}
