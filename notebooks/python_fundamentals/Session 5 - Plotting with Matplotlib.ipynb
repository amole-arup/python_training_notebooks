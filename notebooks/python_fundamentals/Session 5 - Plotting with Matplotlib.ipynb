{
 "cells": [
  {
   "cell_type": "markdown",
   "metadata": {},
   "source": [
    "# Plotting with Python\n",
    "\n",
    "![Matplotlib plots](Resources\\Images\\MPL_images.png)\n",
    "[*Matplotlib Plots*](https://matplotlib.org/gallery/index.html)\n",
    "\n",
    "![Bokeh plots](Resources\\Images\\Bokeh_plots.png)\n",
    "[*Bokeh Plots*](http://bokeh.pydata.org/en/latest/)\n",
    "\n",
    "There are number of plotting packages available to Python programmers:\n",
    "* [Matplotlib](https://matplotlib.org/) - [Matplotlib Users' Guide](https://matplotlib.org/users/index.html)\n",
    "* [Bokeh](http://bokeh.pydata.org/en/latest/)\n",
    "* [PyQtGraph](http://www.pyqtgraph.org/)\n",
    "* [Plotly](https://plot.ly/) - a commercial package\n",
    "\n",
    "[Matplotlib](https://matplotlib.org/) is a popular library which has been extended with a number of packages:\n",
    ">*\"Matplotlib is a Python 2D plotting library which produces publication quality figures in a variety of hardcopy formats and interactive environments across platforms. Matplotlib can be used in Python scripts, the Python and IPython shells, the Jupyter notebook, web application servers, and four graphical user interface toolkits.\"*\n",
    "\n",
    "Of the extensions, the [Pyplot module](https://matplotlib.org/api/_as_gen/matplotlib.pyplot.html) of Matplotlib is a commonly-used library that provides a MATLAB-like way of plotting. The Matplotlib development team has provided [an online tutorial](https://matplotlib.org/tutorials/introductory/pyplot.html) and [a gallery of available plot types](https://matplotlib.org/gallery/index.html).\n",
    "\n",
    "*Note that, although many examples use `pylab`, [its use is no longer recommended](https://matplotlib.org/faq/usage_faq.html#matplotlib-pyplot-and-pylab-how-are-they-related).*\n",
    "\n",
    "\n",
    "## References & Tutorials\n",
    "* [Towards Data Science MPL Guide](https://towardsdatascience.com/all-your-matplotlib-questions-answered-420dd95cb4ff)\n",
    "* [Tutorial from pythonprogramming.net](https://pythonprogramming.net/matplotlib-intro-tutorial/)\n",
    "\n"
   ]
  },
  {
   "cell_type": "markdown",
   "metadata": {},
   "source": [
    "## Getting Started with Matplotlib\n",
    "\n",
    "We start by importing the library using the `import` command. It is a standard convention to import the pyplot library as `plt`.\n",
    ">`import matplotlib.pyplot as plt`\n",
    "\n",
    "Plotting in Jupyter Notebooks is managed by the 'magic' command `%matplotlib` which has [some options](https://ipython.readthedocs.io/en/stable/interactive/magics.html#magic-matplotlib) (some of which are listed here):\n",
    "* `%matplotlib notebook` - inline with some interactive options\n",
    "* `%matplotlib inline` - inline and static\n",
    "* `%matplotlib widget` - inline with interactive options based on `ipympl` (which must be installed)\n",
    "* `%matplotlib gtk` - the default\n",
    "* `%matplotlib qt` - appears in a separate window\n",
    "* `%matplotlib pdf` - prints to PDF\n",
    "\n",
    "The options can be listed using the list option:\n",
    ">`%matplotlib --list` (see below).\n",
    " \n",
    "More information on IPython (Interactive Python) 'magic' commands is provided [here](https://ipython.readthedocs.io/en/stable/interactive/magics.html).\n",
    "\n"
   ]
  },
  {
   "cell_type": "code",
   "execution_count": null,
   "metadata": {},
   "outputs": [],
   "source": [
    "%matplotlib --list"
   ]
  },
  {
   "cell_type": "code",
   "execution_count": null,
   "metadata": {},
   "outputs": [],
   "source": [
    "# Importing the pyplot module from matplotlib library\n",
    "import matplotlib.pyplot as plt"
   ]
  },
  {
   "cell_type": "code",
   "execution_count": null,
   "metadata": {},
   "outputs": [],
   "source": [
    "# Setting the backend for Jupyter and assigning a default plotting style\n",
    "%matplotlib widget\n",
    "# %matplotlib notebook\n",
    "# %matplotlib inline\n",
    "# set style (optional - see later for more information)\n",
    "plt.style.use('ggplot')"
   ]
  },
  {
   "attachments": {},
   "cell_type": "markdown",
   "metadata": {},
   "source": [
    "The [Usage FAQ page (frequently asked questions)](https://matplotlib.org/faq/usage_faq.html) is very helpful in providing a good introduction to Matplotlib & Pyplot, and part of it is reproduced / referenced here. The key components to be aware of are the following:\n",
    "* **`Figure`** - the whole figure (displayed on a `canvas`, containing one or more `Axes`, each with one or more `Axis` and `Artist` objects). \n",
    "* **`Axes`** - the essence of a plot - the data space containing `Axis` objects and plotted data.\n",
    "* **`Axis`** - objects associated with the axes of the plot (not to be confused with `Axes`, which has a special meaning).\n",
    "* **`Artist`** - this is a general description for anything drawn on the canvas, which includes the `Figure`, `Axes` and `Axis` objects, but also `Text`, `Line2D` and other graphical objects.\n",
    "\n",
    "![Anatomy of a plot (from FAQ)](Resources\\Images\\anatomy1.webp)\n",
    "\n",
    "[*Parts of a Figure - image taken from the FAQ page*](https://matplotlib.org/faq/usage_faq.html#parts-of-a-figure)\n",
    "\n",
    "Matplotlib will accept 'array-like' input:\n",
    "* Python `list`\n",
    "* NumPy `ndarray`\n",
    "* NumPy `matrix`\n",
    "* pandas `DataFrame`\n"
   ]
  },
  {
   "cell_type": "markdown",
   "metadata": {},
   "source": [
    "## Simple Examples\n",
    "\n",
    "The following is a simple example plotting data from a file. The first plot is simple, without decoration. The second plot includes "
   ]
  },
  {
   "cell_type": "code",
   "execution_count": null,
   "metadata": {},
   "outputs": [],
   "source": [
    "# Import data from text file - note that first line contains headers\n",
    "import csv\n",
    "with open(\"data7.csv\") as f:\n",
    "    reader = csv.reader(f)\n",
    "    titles = next(reader) # extract first line because it contains titles\n",
    "    data7 = [[float(w), float(x), float(y), float(z)] for w,x,y,z in reader]\n",
    "\n",
    "# Print first 4 lines\n",
    "print(\"Titles:\", titles)\n",
    "data7[:4]"
   ]
  },
  {
   "cell_type": "code",
   "execution_count": null,
   "metadata": {},
   "outputs": [],
   "source": [
    "# We can extract the data into four lists for plotting\n",
    "x, y1, y2, y3 = zip(*data7)"
   ]
  },
  {
   "cell_type": "markdown",
   "metadata": {},
   "source": [
    "### Basic Plot - no decoration\n",
    "\n",
    "Note that the approach is slightly different as we are defining a variable ('fig') to be equal to the plot and we are defining some new variables to define the axes.\n",
    "\n",
    "Here we are using the `subplot` command, even though we are only creating one plot, because it gives us additional control over our data:\n",
    "* We get variables `fig_1` and `ax_1` that point explicitly to our `Figure` and `Axes` objects.\n",
    "* We can set the figure label\n",
    "* We can add `Artist` objects if we want to (but we won't)\n",
    "\n",
    "If the following have not already been called, then they will need to be called before plotting:\n",
    "```python\n",
    "import matplotlib.pyplot as plt\n",
    "%matplotlib notebook\n",
    "```"
   ]
  },
  {
   "cell_type": "code",
   "execution_count": null,
   "metadata": {
    "scrolled": false
   },
   "outputs": [],
   "source": [
    "fig_1, ax_1 = plt.subplots(1,1) # this is the overall Figure and the Axes object\n",
    "fig_1.set_label('Figure 1')\n",
    "\n",
    "# Plotting the data...\n",
    "ax_1.plot(x, y1, '-', x, y2, '-', x, y3, '-')\n",
    "\n",
    "# Explicitly call for figure to be displayed\n",
    "# This is not actually necessary with Jupyter, \n",
    "# but is included for reference\n",
    "fig_1.show() "
   ]
  },
  {
   "cell_type": "code",
   "execution_count": null,
   "metadata": {},
   "outputs": [],
   "source": [
    "# [Added since making the video]\n",
    "# You can save your plot to a file using the 'savefig' function\n",
    "fig_1.savefig(\"fig_1.jpg\")   # save to JPEG - smaller but more blurry\n",
    "fig_1.savefig(\"fig_1.png\")   # save to PNG - small but sharper\n",
    "fig_1.savefig(\"fig_1.svg\")   # a vector format - sharper at all scales (recommended unless you have a lot of graphic objects)"
   ]
  },
  {
   "cell_type": "markdown",
   "metadata": {},
   "source": [
    "We can start again with the same data and take more control over the plot.\n",
    "* [Figure](https://matplotlib.org/api/figure_api.html) - note that the `figsize` can be [specified](https://matplotlib.org/api/_as_gen/matplotlib.figure.Figure.html)\n",
    "* [Linestyles](https://matplotlib.org/gallery/lines_bars_and_markers/linestyles.html)\n",
    "* [Markers](https://matplotlib.org/api/markers_api.html)\n",
    "* [Axis, Labels & Ticks](https://matplotlib.org/api/axis_api.html)\n",
    "* [Grids](https://matplotlib.org/api/_as_gen/matplotlib.axes.Axes.grid.html)\n",
    "* [Titles](https://matplotlib.org/api/_as_gen/matplotlib.pyplot.title.html)\n",
    "* [Legends](https://matplotlib.org/api/legend_api.html)\n",
    "* [Annotations](https://matplotlib.org/users/annotations.html)\n",
    "\n",
    "More information is available for:\n",
    "* [Colours](https://matplotlib.org/tutorials/index.html#colors)"
   ]
  },
  {
   "cell_type": "markdown",
   "metadata": {},
   "source": [
    "### Simple Plot with Modifications"
   ]
  },
  {
   "cell_type": "code",
   "execution_count": null,
   "metadata": {},
   "outputs": [],
   "source": [
    "fig_2, ax_2 = plt.subplots(1,1) # this is the overall Figure and the Axes object\n",
    "fig_2.set_label('Figure 2')\n",
    "\n",
    "# Plotting the data...\n",
    "#ax_1.plot(x, y1, '-', x, y2, '-', x, y3, '-')\n",
    "\n",
    "ax_2.plot(x, y1, color = 'green' , linewidth = 2, linestyle = \"-\", marker = \"^\", label = titles[1])\n",
    "ax_2.plot(x, y2, color = 'red' , linewidth = 1, linestyle = \":\", label = titles[2])\n",
    "ax_2.plot(x, y3, color = 'blue' , linewidth = 1, linestyle = \"-.\", label = titles[3])\n",
    "\n",
    "# Set some decoration\n",
    "ax_2.set_xlabel('x')\n",
    "ax_2.set_ylabel('sin & cos plots')\n",
    "ax_2.set_title(\"Simple Plot\")\n",
    "\n",
    "\n",
    "# add gridlines\n",
    "ax_2.grid(True)\n",
    "\n",
    "# add a legend\n",
    "ax_2.legend()\n",
    "\n",
    "# add annotation\n",
    "ax_2.annotate('min value', xy = (1.5, -1.0), xytext = (1.8, -1.0), \n",
    "              arrowprops={'color': 'red', 'width': 1})\n",
    "\n",
    "# Explicitly call for figure to be displayed\n",
    "# This is not actually necessary with Jupyter, \n",
    "# but is included for reference\n",
    "fig_2.show()    "
   ]
  },
  {
   "cell_type": "markdown",
   "metadata": {},
   "source": [
    "## Exercise\n",
    "In the box below create a plot with the data in `IZT_TH.csv`. This is ground motion data - x- and y-acceleration against time in seconds). Note that the data is in columns corresponding to `t`, `x` & `y` and that you should plot each of x, y and z against t, and then plot x against y.\n",
    "\n",
    "They should look like this:\n",
    "![Result](Resources\\Images\\IZT_TH_1.svg)\n",
    "\n",
    "![Result](Resources\\Images\\IZT_XY.svg)"
   ]
  },
  {
   "cell_type": "markdown",
   "metadata": {},
   "source": [
    "## Log-log Plot\n",
    "\n",
    "The following example provides examples of linear and log-log plots.\n",
    "\n",
    "Note the use of the [`tight_layout()` function](https://matplotlib.org/users/tight_layout_guide.html). This can be helpful when plot elements overlap."
   ]
  },
  {
   "cell_type": "code",
   "execution_count": null,
   "metadata": {
    "scrolled": false
   },
   "outputs": [],
   "source": [
    "import matplotlib.pyplot as plt\n",
    "lin_plot_data = [[0.01,4.0],[0.2,10.0],[0.8,10.0],[2.0,2.2],[10.0,0.3]]\n",
    "x_data, y_data = zip(*lin_plot_data)\n",
    "\n",
    "fig_3, (ax_3_1, ax_3_2) = plt.subplots(1, 2, figsize=(7, 4)) \n",
    "fig_3.set_label('Figure 3')\n",
    "fig_3.tight_layout()\n",
    "\n",
    "ax_3_1.plot(x_data, y_data, color = 'green')\n",
    "ax_3_1.set_title(\"Linear\")\n",
    "ax_3_1.grid(True)\n",
    "\n",
    "ax_3_2.plot(x_data, y_data, color = 'red')\n",
    "ax_3_2.loglog()\n",
    "ax_3_2.set_title(\"Log-Log\")\n",
    "ax_3_2.grid(True) ;"
   ]
  },
  {
   "cell_type": "markdown",
   "metadata": {},
   "source": [
    "## Plotting with NumPy\n",
    "The following is a [multiple plot example from the introductory tutorial](https://matplotlib.org/tutorials/introductory/sample_plots.html#subplot-example) that uses `numpy`.\n",
    "\n",
    "In this example, NumPy is used to generate random data as pairs of coordinates. The `subplot` command is used to generate a 2x2 set of four plots. Note that the figure size is set (and can be adjusted).\n",
    "\n",
    "You may also want to make reference to the [basic subplot demo](https://matplotlib.org/gallery/subplots_axes_and_figures/subplot_demo.html) provided in the documentation."
   ]
  },
  {
   "cell_type": "code",
   "execution_count": null,
   "metadata": {},
   "outputs": [],
   "source": [
    "import matplotlib.pyplot as plt\n",
    "import numpy as np\n",
    "\n",
    "np.random.seed(19680801)\n",
    "data = np.random.randn(2, 100)\n",
    "\n",
    "fig, axs = plt.subplots(2, 2, figsize=(5, 5))\n",
    "\n",
    "axs[0, 0].hist(data[0])\n",
    "axs[1, 0].scatter(data[0], data[1])\n",
    "axs[0, 1].plot(data[0], data[1])\n",
    "axs[1, 1].hist2d(data[0], data[1])\n",
    "\n",
    "fig.show()"
   ]
  },
  {
   "cell_type": "markdown",
   "metadata": {},
   "source": [
    "## Plotting with Pandas\n",
    "Plotting with pandas can be very straightforward if the data is well-structured. We are going to use the functions for reading CSV and for plotting:\n",
    "* [Read CSV](https://pandas.pydata.org/pandas-docs/stable/generated/pandas.read_csv.html)\n",
    "* [Plot DataFrame](https://pandas.pydata.org/pandas-docs/stable/generated/pandas.DataFrame.plot.html)"
   ]
  },
  {
   "cell_type": "code",
   "execution_count": null,
   "metadata": {},
   "outputs": [],
   "source": [
    "import pandas as pd\n",
    "pd_data_df = pd.read_csv('data7.csv')\n",
    "pd_data_df.head()"
   ]
  },
  {
   "cell_type": "code",
   "execution_count": null,
   "metadata": {},
   "outputs": [],
   "source": [
    "pd_data_df.set_index('x').plot()"
   ]
  },
  {
   "cell_type": "markdown",
   "metadata": {},
   "source": [
    "## 3D Plots\n",
    "The following example is taken from [pythonprogramming.net](https://pythonprogramming.net/conclusion-matplotlib-tutorial/)"
   ]
  },
  {
   "cell_type": "code",
   "execution_count": null,
   "metadata": {},
   "outputs": [],
   "source": [
    "from mpl_toolkits.mplot3d import axes3d\n",
    "import matplotlib.pyplot as plt\n",
    "import numpy as np\n",
    "from matplotlib import style\n",
    "# %matplotlib notebook\n",
    "# %matplotlib widget\n",
    "%matplotlib inline\n",
    "style.use('ggplot')\n",
    "\n",
    "fig = plt.figure()\n",
    "ax1 = fig.add_subplot(111, projection='3d')\n",
    "\n",
    "x, y, z = axes3d.get_test_data()\n",
    "\n",
    "print(axes3d.__file__)\n",
    "ax1.plot_wireframe(x,y,z, rstride = 3, cstride = 3)\n",
    "\n",
    "ax1.set_xlabel('x axis')\n",
    "ax1.set_ylabel('y axis')\n",
    "ax1.set_zlabel('z axis')\n",
    "\n",
    "plt.show()"
   ]
  },
  {
   "cell_type": "markdown",
   "metadata": {},
   "source": [
    "## More Information\n"
   ]
  },
  {
   "cell_type": "markdown",
   "metadata": {},
   "source": [
    "### Style\n",
    "It is possible to start by defining a style to use for all the plots for more information, see [the documentation for information on style sheets reference](https://matplotlib.org/gallery/style_sheets/style_sheets_reference.html)."
   ]
  },
  {
   "cell_type": "code",
   "execution_count": null,
   "metadata": {},
   "outputs": [],
   "source": [
    "style_list = ['default', 'classic'] + sorted(\n",
    "        style for style in plt.style.available if style != 'classic')\n",
    "print(style_list)"
   ]
  },
  {
   "cell_type": "markdown",
   "metadata": {},
   "source": [
    "## xkcd Style\n",
    "![Stylised Matplotlib Plots](Resources\\Images\\xkcd_matplotlib_styles_gallery.png)\n",
    "[*Stylised Matplotlib Plots*](https://www.gnuband.org/2017/12/29/gallery-of-xkcd-and-other-python-matplotlib-styles/)"
   ]
  },
  {
   "cell_type": "code",
   "execution_count": null,
   "metadata": {},
   "outputs": [],
   "source": []
  }
 ],
 "metadata": {
  "kernelspec": {
   "display_name": "py39",
   "language": "python",
   "name": "python3"
  },
  "language_info": {
   "codemirror_mode": {
    "name": "ipython",
    "version": 3
   },
   "file_extension": ".py",
   "mimetype": "text/x-python",
   "name": "python",
   "nbconvert_exporter": "python",
   "pygments_lexer": "ipython3",
   "version": "3.10.13"
  },
  "vscode": {
   "interpreter": {
    "hash": "cd17399ad4502da30f9c302ddf988648c1c18bb6ec572790b467d38c2ff830d7"
   }
  }
 },
 "nbformat": 4,
 "nbformat_minor": 2
}
