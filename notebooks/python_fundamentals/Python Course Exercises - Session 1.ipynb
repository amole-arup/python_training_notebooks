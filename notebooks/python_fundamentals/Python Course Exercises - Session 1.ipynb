{
 "cells": [
  {
   "cell_type": "markdown",
   "metadata": {},
   "source": [
    "# Python Course Exercises - Session 1\n",
    "## Numbers & Variables\n",
    "The exercise is to create functions, so this requires you to define the name of the function and list the arguments (parameters) in parentheses `()`, followed by a colon `:`. All the lines that follow should be indented to show that they belong to the function. \n",
    "\n",
    "The last line of the function should (normally) contain the keyword `return` followed by the variable (or expression) that will give the answer."
   ]
  },
  {
   "cell_type": "code",
   "execution_count": 1,
   "metadata": {},
   "outputs": [],
   "source": [
    "# Defining a function that adds 2:\n",
    "def add2(a_number):\n",
    "    answer = a_number + 2\n",
    "    return answer\n",
    "\n",
    "\n",
    "# Defining a function that returns an formatted string with two decimal places\n",
    "def two_decimal_places(a_float):\n",
    "    answer = '{:6.2f}'.format(a_float)\n",
    "    return answer"
   ]
  },
  {
   "cell_type": "markdown",
   "metadata": {},
   "source": [
    "### Testing the Functions\n",
    "It is always a good idea to test your functions with a full range of representative data to see whether they operate correctly."
   ]
  },
  {
   "cell_type": "code",
   "execution_count": 2,
   "metadata": {},
   "outputs": [
    {
     "name": "stdout",
     "output_type": "stream",
     "text": [
      "7\n",
      "0\n",
      "4.4\n",
      "2.000055\n"
     ]
    }
   ],
   "source": [
    "print(add2(5))\n",
    "print(add2(-2))\n",
    "print(add2(2.4))\n",
    "print(add2(5.5e-5))"
   ]
  },
  {
   "cell_type": "code",
   "execution_count": 3,
   "metadata": {},
   "outputs": [
    {
     "name": "stdout",
     "output_type": "stream",
     "text": [
      " 43.51\n",
      "  2.93\n",
      "  6.00\n",
      "  0.00\n"
     ]
    }
   ],
   "source": [
    "print(two_decimal_places(43.51223))\n",
    "print(two_decimal_places(2.929))\n",
    "print(two_decimal_places(5.99542))\n",
    "print(two_decimal_places(5.5e-5))"
   ]
  },
  {
   "cell_type": "code",
   "execution_count": null,
   "metadata": {},
   "outputs": [],
   "source": []
  }
 ],
 "metadata": {
  "kernelspec": {
   "display_name": "Python 3",
   "language": "python",
   "name": "python3"
  },
  "language_info": {
   "codemirror_mode": {
    "name": "ipython",
    "version": 3
   },
   "file_extension": ".py",
   "mimetype": "text/x-python",
   "name": "python",
   "nbconvert_exporter": "python",
   "pygments_lexer": "ipython3",
   "version": "3.9.16"
  }
 },
 "nbformat": 4,
 "nbformat_minor": 2
}
