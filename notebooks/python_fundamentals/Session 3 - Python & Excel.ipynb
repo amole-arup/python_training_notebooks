{
 "cells": [
  {
   "cell_type": "markdown",
   "metadata": {},
   "source": [
    "# Session 3 - Python and Excel\n",
    "This session looks at ways of using Python to interact with Excel. We have four different libraries featured here, but we will focus on [XLwings](https://www.xlwings.org/).\n",
    "* XLwings - the most full-featured library\n",
    "* XLSXwriter - only includes writer\n",
    "* OpenPyXL - a Python library to read/write Excel 2010 xlsx/xlsm/xltx/xltm files\n",
    "* xlrd - only includes reader\n",
    "\n",
    "You may want to try different ones out. Some are faster, and some are more full-featured.\n",
    "\n",
    "There is also an Excel reader and writer included in the Pandas library which we will look at later."
   ]
  },
  {
   "cell_type": "markdown",
   "metadata": {},
   "source": [
    "## XLwings\n",
    "\n",
    "This workbook uses xlwings (https://www.xlwings.org/) to manipulate spreadsheets. XLwings has two ways of interacting with Excel\"\n",
    "1. Direct manipulation from Python\n",
    "2. Calling Python functions and process from Excel (with a special Excel add-in)\n",
    "\n",
    "We will start by looking at direct manipulation of Excel spreadsheets from Python. \n",
    "\n",
    "![Image from xlwings.org](Resources\\ExcelImages\\xlwings_landingpage.png)"
   ]
  },
  {
   "cell_type": "markdown",
   "metadata": {},
   "source": [
    "### Python and the xlwings library\n",
    "\n",
    "There are some key aspects to be aware of:\n",
    "* XLwings can create and open Excel workbooks\n",
    "* Once documents are open, XLwings can read and write to them and can extract metadata\n",
    "* When accessing workbooks from Python there is no need for the workbook to have the XLwings ribbon tab or have any special xlwings metadata\n",
    "\n",
    "You can start by opening the spreadsheet \"Excel-Python_comparison.xlsx, and then running the code below, or simply run the code without opening the workbook. \n",
    "\n",
    "You may want to make reference to the [quickstart documentation](https://docs.xlwings.org/en/stable/quickstart.html)."
   ]
  },
  {
   "cell_type": "code",
   "execution_count": null,
   "metadata": {},
   "outputs": [],
   "source": [
    "# Start by importing the library\n",
    "import xlwings as xw"
   ]
  },
  {
   "cell_type": "markdown",
   "metadata": {},
   "source": [
    "We can open the workbook and identify the worksheet we want to access. If you want to open a new workbook, then you can use the command `wb = xw.Book()`"
   ]
  },
  {
   "cell_type": "code",
   "execution_count": null,
   "metadata": {},
   "outputs": [],
   "source": [
    "wb = xw.Book(r'Excel-Python_comparison.xlsx')  # connect to an existing file in the current working directory\n",
    "\n",
    "sht_1 = wb.sheets['Scratch']  # wb is a variable that points to the workbook instance we opened above"
   ]
  },
  {
   "cell_type": "code",
   "execution_count": null,
   "metadata": {},
   "outputs": [],
   "source": [
    "excel_data_1 = sht_1.range(\"A1:B4\").value\n",
    "excel_data_1"
   ]
  },
  {
   "cell_type": "code",
   "execution_count": null,
   "metadata": {},
   "outputs": [],
   "source": [
    "# As an example, we can use tuple-unpacking to extract the important data ('_' is a placeholder for unwanted data)\n",
    "((_,_),(_,a),(_,b),(_,c)) = excel_data_1\n",
    "print('a is {}'.format(a))\n",
    "print('b is {}'.format(b))\n",
    "print('c is {}'.format(c))"
   ]
  },
  {
   "cell_type": "markdown",
   "metadata": {},
   "source": [
    "We can also write data to the same worksheet"
   ]
  },
  {
   "cell_type": "code",
   "execution_count": null,
   "metadata": {},
   "outputs": [],
   "source": [
    "sht_1.range(\"D2:E3\").value = [[2,5],[3.2,6.4]]"
   ]
  },
  {
   "cell_type": "code",
   "execution_count": null,
   "metadata": {},
   "outputs": [],
   "source": [
    "# This writes a value into a cell and adds a standard Excel function into the neighbouring cell.\n",
    "sht_1.range('A6').value = 7\n",
    "sht_1.range('B6').value = \"=SQRT(A6)\""
   ]
  },
  {
   "cell_type": "markdown",
   "metadata": {},
   "source": [
    "We can also read data from the active worksheet without specifying the workbook and spreadsheet by using a simple command (similar for writing)"
   ]
  },
  {
   "cell_type": "code",
   "execution_count": null,
   "metadata": {},
   "outputs": [],
   "source": [
    "excel_data_2 = xw.Range(\"A1:E4\").value  # note the upper-case 'R' in 'xw.Range'\n",
    "excel_data_2"
   ]
  },
  {
   "cell_type": "markdown",
   "metadata": {},
   "source": [
    "We can look at a more sophisticated example as well - we can import data from Excel, then plot it in Python and send it back to Excel. For this we should go to the 'ArrayData' worksheet."
   ]
  },
  {
   "cell_type": "code",
   "execution_count": null,
   "metadata": {},
   "outputs": [],
   "source": [
    "sht_2 = wb.sheets['ArrayData']\n",
    "sht_2.activate()\n",
    "excel_data_3 = sht_2.range(\"A1:D26\").value  # note the lower-case 'r' in 'sht_2.range'\n",
    "excel_data_3"
   ]
  },
  {
   "cell_type": "code",
   "execution_count": null,
   "metadata": {},
   "outputs": [],
   "source": [
    "# We can extract the data into four lists for plotting\n",
    "x, y1, y2, y3 = zip(*excel_data_3)"
   ]
  },
  {
   "cell_type": "code",
   "execution_count": null,
   "metadata": {},
   "outputs": [],
   "source": [
    "# Here we are using matplotlib again\n",
    "# Note that the approach is slightly different as we are defining a variable ('fig') to be equal to the plot\n",
    "# and we are defining some new variables to define the axes\n",
    "import matplotlib.pyplot as plt\n",
    "%matplotlib notebook\n",
    "fig = plt.figure()    # this is the overall figure\n",
    "fig.set_label('Figure Name')\n",
    "axes_1 = fig.add_subplot(111)  # this is the axes definition (we could add more than one and create a matrix of axes)\n",
    "\n",
    "# Plotting the data...\n",
    "axes_1.plot(x, y1, '-', x, y2, '-', x, y3, '-')\n",
    "\n",
    "# Set some decoration\n",
    "axes_1.set_xlabel('x label')\n",
    "axes_1.set_ylabel('y label')\n",
    "axes_1.set_title(\"Simple Plot\")\n",
    "\n",
    "fig.show()    # This is not actually necessary with Jupyter, but is included for reference\n",
    "\n",
    "# fig, ax = plt.subplots(1,1)  #-- this is a single-line alternative to the 'fig =' & 'axes_1 =' lines above"
   ]
  },
  {
   "cell_type": "code",
   "execution_count": null,
   "metadata": {},
   "outputs": [],
   "source": [
    "# We can send this plot off to Excel\n",
    "sht_2.pictures.add(fig, name = \"Waves\", update = True)\n",
    "\n",
    "# If we want to acces the active sheet, then we can use the following:\n",
    "#xw.sheets.active.pictures.add(fig, name = \"Waves\", update = True)"
   ]
  },
  {
   "cell_type": "markdown",
   "metadata": {},
   "source": [
    "While this may not seem all that impressive (snice Excel has its own plotting tools), the advantage is that MatPlotLib provides much more control over the plot generation, and you can carry out a lot of processing using Python before sending the figure back.\n",
    "\n",
    "Here we have a simple modification where we plot three separate plots instead of one.\n",
    "\n",
    "*(For more information on plotting with matplotlib, see the tutorials - https://matplotlib.org/tutorials/index.html)*"
   ]
  },
  {
   "cell_type": "code",
   "execution_count": null,
   "metadata": {},
   "outputs": [],
   "source": [
    "# We are using a shortcut for creating a figure with three subplots (each defined by an axes object)\n",
    "fig_2, (ax_1, ax_2, ax_3) = plt.subplots(1,3)    # this is the overall figure (defined with 1 x 3 subplots)\n",
    "fig_2.set_label('New Figure')\n",
    "fig_2.tight_layout()\n",
    "\n",
    "# Plotting the data to each axes object\n",
    "ax_1.plot(x, y1, 'o-g')\n",
    "ax_2.plot(x, y2, 'o-b')\n",
    "ax_3.plot(x, y3, 'o-r')\n",
    "\n",
    "ax_1.set_xlabel('x label')\n",
    "ax_1.set_ylabel('y label')\n",
    "ax_1.set_title(\"Plot 1\")\n",
    "ax_2.set_xlabel('x label')\n",
    "#ax_2.set_ylabel('y label')\n",
    "ax_2.set_title(\"Plot 2\")\n",
    "ax_3.set_xlabel('x label')\n",
    "#ax_3.set_ylabel('y label')\n",
    "ax_3.set_title(\"Plot 3\")\n",
    "\n",
    "fig_2.show()   # This is not actually necessary with Jupyter, but is included for reference"
   ]
  },
  {
   "cell_type": "code",
   "execution_count": null,
   "metadata": {},
   "outputs": [],
   "source": [
    "# We can also send this one off to Excel\n",
    "sht_2.pictures.add(fig_2, name = \"TriWave\", update = True)\n",
    "\n",
    "#xw.sheets.active.pictures.add(fig_2, name = \"TriWave\", update = True)"
   ]
  },
  {
   "cell_type": "code",
   "execution_count": null,
   "metadata": {},
   "outputs": [],
   "source": [
    "# If we want to, we can also save the plot to a file\n",
    "fig_2.savefig('TriWave.png')"
   ]
  },
  {
   "cell_type": "markdown",
   "metadata": {},
   "source": [
    "### XLwings tab in Excel\n",
    "\n",
    "We are now going to look at the ways that XLwings provides of running Python processes from Excel. XLwings includes an add-in to Excel that provides a tab to the Excel ribbon. In order to use this, you need to install the add-in and you need to use it with workbooks that have special embedded code.\n",
    "\n",
    "![title](Resources\\ExcelImages\\xlwings_tab.png)"
   ]
  },
  {
   "cell_type": "markdown",
   "metadata": {},
   "source": [
    "### Installing the Excel Add-in\n",
    "\n",
    "To install the xlwings Excel addin you can follow these steps by typing into the command-line. To bring up a console window, go to the Start Menu and type 'prompt' (without the quotes). Choose the 'CMD Prompt' option. You should then navigate your way to the folder you want to use as the enclosing folder for your XLwings spreadsheet and code. I recommend going to your Documents folder. You can either type the following commands into your console, or you can use the Python code below to get you there.\n",
    "\n",
    ">`cd %HOMEPATH%\\Documents`\n",
    "\n",
    "NOTE: A set of instructions are available in the [online documentation](http://docs.xlwings.org/en/stable/addin.html)."
   ]
  },
  {
   "cell_type": "code",
   "execution_count": null,
   "metadata": {},
   "outputs": [],
   "source": [
    "# The following lines will open a console for installing \n",
    "import os\n",
    "# Uncomment one of the two following commands to open up a command window\n",
    "\n",
    "# Uncomment next line to open in your Documents folder\n",
    "#os.system(\"start /B start cmd.exe @cmd /k cd %HOMEPATH%\\Documents\")\n",
    "\n",
    "# Uncomment next line to open in your H: drive and create an xltest folder\n",
    "os.system(r\"start /B start cmd.exe @cmd /k cd /d H:\\ && mkdir H:\\xltest\")\n",
    "# -- then type   cd xltest"
   ]
  },
  {
   "cell_type": "markdown",
   "metadata": {},
   "source": [
    "To install the addin, first of all close all instances of Excel, then type: \n",
    ">`xlwings addin install`\n",
    "\n",
    "*NB If you ever want to uninstall it, then replace the 'install' with 'remove': *\n",
    ">`xlwings addin remove`\n",
    "\n",
    "You will also need to make sure that you have an Excel macro workbook that contains the xlwings macros. This can be generated from the command line (make sure you are in the directory you want to create the files in):\n",
    ">`xlwings quickstart myproject`\n",
    "\n",
    "This will create a subdirectory called \"myproject\" in the current directory, containing two files, \"myproject.py\" and \"myproject.xlsm\". You may need to 'Import functions' from the xlwings tab in Excel.\n",
    "\n",
    "Open the spreadsheet and you will find that there is an extra tab in the ribbon.\n",
    "\n",
    "If you are opening a workbook that you created using quickstart, then everything is ready. If not, then in order to use RunPython or UDFs in a workbook, you need to set a reference to xlwings in the VBA editor, as in the screenshot below (Windows: Tools > References... *\\[For MacOS: it’s on the lower left corner of the VBA editor\\])*. \n",
    "![VBA Editor Reference to XLWings](Resources\\ExcelImages\\vba_reference.png)\n",
    "\n",
    "You may need to search and browse to find the XLAM file (xlwings.xlam):\n",
    "`C:\\ProgramData\\Anaconda3\\Lib\\site-packages\\xlwings\\addin`\n",
    "\n",
    "We can now start to look at some of the things that we can now do."
   ]
  },
  {
   "cell_type": "markdown",
   "metadata": {},
   "source": [
    "### User-Defined Functions\n",
    "We now need to open both the Excel file and the Python file that are in the new directory. You should probably open the Python file in Spyder. You may want to put the windows side by side.\n",
    "\n",
    "You may want to make reference to the [online documentation on UDFs in XLwings](https://docs.xlwings.org/en/stable/udfs.html).\n",
    "\n",
    "We will start by copying and pasting the following code into the Python file:\n",
    "\n",
    "```python\n",
    "import xlwings as xw\n",
    "\n",
    "@xw.func\n",
    "def double_sum(x, y):\n",
    "    \"\"\"Returns twice the sum of the two arguments\"\"\"\n",
    "    return 2 * (x + y)\n",
    "\n",
    "\n",
    "@xw.sub\n",
    "def my_macro():\n",
    "    \"\"\"Writes the name of the Workbook into Range(\"A1\") of Sheet 1\"\"\"\n",
    "    wb = xw.Book.caller()\n",
    "    wb.sheets[0].range('A1').value = wb.name\n",
    "```\n",
    "\n",
    "We can then open Excel and 'Import Functions' using the button on the ribbon. \n",
    "\n",
    "Once the functions have been imported, we can type in equations that use these UDFs.\n",
    "\n",
    "We can also modify the function and reimport it.\n",
    "\n",
    "### Macros defined in Python\n",
    "Finally, we can type Alt-F8 (Run Macros) and we will see that 'my_macro' is present in the menu. THis will write the name of the workbook into Range A1 of the first sheet of the workbook.\n",
    "\n",
    "\n",
    "For more information, view the videos on the [xlwings.org website](https://xlwings.org) and [read the documentation](https://docs.xlwings.org/en/stable/index.html)."
   ]
  },
  {
   "cell_type": "markdown",
   "metadata": {},
   "source": [
    "### References\n",
    "* http://docs.xlwings.org/en/stable/index.html\n",
    "* http://docs.xlwings.org/en/stable/api.html\n",
    "* https://media.readthedocs.org/pdf/fzumstein/stable/fzumstein.pdf"
   ]
  },
  {
   "cell_type": "markdown",
   "metadata": {},
   "source": [
    "# Information on other tools for accessing Excel\n",
    "We will not be looking at these today, but you can look at them later if you are interested."
   ]
  },
  {
   "cell_type": "markdown",
   "metadata": {},
   "source": [
    "## xlrd\n",
    "This library is for reading data and formatting information from Excel files (xls and xlsx).\n",
    "\n",
    "There is another library from the same source called ***xlwt*** that is for writing data and formatting information to older Excel files.\n",
    "\n",
    "* [Web-site for xlrd](https://github.com/python-excel/xlrd) - for ***reading*** XLS and XLSX files\n",
    "* [Documentation for xlrd](https://xlrd.readthedocs.io/en/latest/)\n",
    "* [Web-site for xlwt](https://github.com/python-excel/xlrd) - for ***writing*** XLS files only (MS Excel 97/2000/XP/2003)\n",
    "* [Documentation for xlwt](https://xlwt.readthedocs.io/en/latest/)"
   ]
  },
  {
   "cell_type": "code",
   "execution_count": null,
   "metadata": {
    "scrolled": true
   },
   "outputs": [],
   "source": [
    "import xlrd\n",
    "book = xlrd.open_workbook(\"Test.xlsx\")\n",
    "print(\"The number of worksheets is {0}\".format(book.nsheets))\n",
    "print(\"Worksheet name(s): {0}\".format(book.sheet_names()))\n",
    "sh = book.sheet_by_index(0)\n",
    "print(\"{0} {1} {2}\".format(sh.name, sh.nrows, sh.ncols))\n",
    "print(\"Cell D30 is {0}\".format(sh.cell_value(rowx=29, colx=3)))\n",
    "for rx in range(sh.nrows):\n",
    "    print(sh.row(rx))"
   ]
  },
  {
   "cell_type": "markdown",
   "metadata": {},
   "source": [
    "## XLSXwriter\n",
    "This library only writes data to XLSX files - it cannot read data from Excel.\n",
    "\n",
    "[XlsxWriter website](https://xlsxwriter.readthedocs.io/)"
   ]
  },
  {
   "cell_type": "code",
   "execution_count": null,
   "metadata": {},
   "outputs": [],
   "source": [
    "import xlsxwriter\n",
    "\n",
    "# Create a workbook and add a worksheet.\n",
    "workbook = xlsxwriter.Workbook('temp_XLSX.xlsx')\n",
    "worksheet = workbook.add_worksheet()\n",
    "\n",
    "# Some data we want to write to the worksheet.\n",
    "expenses = (\n",
    "    ['Rent', 1000],\n",
    "    ['Gas',   100],\n",
    "    ['Food',  300],\n",
    "    ['Gym',    50],\n",
    ")\n",
    "\n",
    "# Start from the first cell. Rows and columns are zero indexed.\n",
    "row = 0\n",
    "col = 0\n",
    "\n",
    "# Iterate over the data and write it out row by row.\n",
    "for item, cost in (expenses):\n",
    "    worksheet.write(row, col,     item)\n",
    "    worksheet.write(row, col + 1, cost)\n",
    "    row += 1\n",
    "\n",
    "# Write a total using a formula.\n",
    "worksheet.write(row, 0, 'Total')\n",
    "worksheet.write(row, 1, '=SUM(B1:B4)')\n",
    "\n",
    "workbook.close()"
   ]
  },
  {
   "cell_type": "markdown",
   "metadata": {},
   "source": [
    "## OpenPyXL\n",
    "[OpenPyXL website](https://openpyxl.readthedocs.io/en/stable/)"
   ]
  },
  {
   "cell_type": "code",
   "execution_count": null,
   "metadata": {},
   "outputs": [],
   "source": [
    "#from openpyxl import Workbook\n",
    "#wb = Workbook()\n",
    "\n",
    "# grab the active worksheet\n",
    "#ws = wb.active\n",
    "\n",
    "from openpyxl import load_workbook\n",
    "wb = load_workbook(filename = 'Test.xlsx')\n",
    "ws1 = wb['ArrayData']\n",
    "print(ws1['D18'].value)\n",
    "\n",
    "# Data can be assigned directly to cells\n",
    "ws2 = wb.create_sheet('OutData')\n",
    "ws2['A1'] = 42\n",
    "\n",
    "# Rows can also be appended\n",
    "ws2.append([1, 2, 3])\n",
    "\n",
    "# Python types will automatically be converted\n",
    "import datetime\n",
    "ws2['A2'] = datetime.datetime.now()\n",
    "\n",
    "# Save the file\n",
    "wb.save(\"temp_OpenPyXL.xlsx\")"
   ]
  },
  {
   "cell_type": "markdown",
   "metadata": {},
   "source": [
    "## References\n",
    "* xlwings website (good video introductions) - https://www.xlwings.org/\n",
    "* Quickstart guide - http://docs.xlwings.org/en/stable/quickstart.html\n",
    "* UDF quickstart guide - http://docs.xlwings.org/en/stable/quickstart.html#udfs-user-defined-functions-windows-only\n",
    "* UDF Detailed Guide - http://docs.xlwings.org/en/stable/udfs.html#udfs\n",
    "* Syntax overview - http://docs.xlwings.org/en/stable/syntax_overview.html"
   ]
  },
  {
   "cell_type": "markdown",
   "metadata": {},
   "source": [
    "## Additional Information on Interaction with Windows"
   ]
  },
  {
   "cell_type": "code",
   "execution_count": null,
   "metadata": {},
   "outputs": [],
   "source": [
    "# Running a directory command a receiving the results\n",
    "from subprocess import check_output\n",
    "results = []\n",
    "results.append(check_output(\"dir\", shell=True).decode())\n",
    "results.append(check_output(\"dir %HOMEPATH%\", shell=True).decode())\n",
    "ignore = [print(result) for result in results]"
   ]
  },
  {
   "cell_type": "code",
   "execution_count": null,
   "metadata": {},
   "outputs": [],
   "source": []
  }
 ],
 "metadata": {
  "kernelspec": {
   "display_name": "Python 3",
   "language": "python",
   "name": "python3"
  },
  "language_info": {
   "codemirror_mode": {
    "name": "ipython",
    "version": 3
   },
   "file_extension": ".py",
   "mimetype": "text/x-python",
   "name": "python",
   "nbconvert_exporter": "python",
   "pygments_lexer": "ipython3",
   "version": "3.6.6"
  }
 },
 "nbformat": 4,
 "nbformat_minor": 2
}
