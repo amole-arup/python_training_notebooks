{
 "cells": [
  {
   "cell_type": "markdown",
   "metadata": {},
   "source": [
    "# Python Course Exercises - Session 2\n",
    "## Strings & Dates\n",
    "The exercise is to create functions, so this requires you to define the name of the function and list the arguments (parameters) in parentheses `()`, followed by a colon `:`. All the lines that follow should be indented to show that they belong to the function. \n",
    "\n",
    "The last line of the function should (normally) contain the keyword `return` followed by the variable (or expression) that will give the answer."
   ]
  },
  {
   "cell_type": "markdown",
   "metadata": {},
   "source": [
    "## String Exercises\n",
    "Write and test the following functions:\n",
    "\n",
    "1. Create a function called `first_clause()` that returns the first clause of a sentence - i.e. the letters before the first comma e.g. `first_clause('To be or not to be, that is the question.')` -> `'To be or not to be'`. *Hint: searching on Google is always a good way to go, but here you might find it helpful to know that you can return the first element of a list by adding square brackets with the index number zero (representing the first item in a list, counting from zero), e.g. if a list is defined by `a_list = [5,8,3]`, then `a_list[1]` will return `8`.*\n",
    "2. Create a function called `vector_out()` that joins three formatted numbers (3 decimal places) together with commas e.g. `vector_out(2.5441,-4.8269, 2.68591)` -> `'2.544,-4.827,2.686'`. There are multiple ways of doing this."
   ]
  },
  {
   "cell_type": "code",
   "execution_count": 1,
   "metadata": {},
   "outputs": [],
   "source": [
    "def first_clause(sentence):\n",
    "    # split(',') will return a list created by splitting the string at any comma\n",
    "    list_of_clauses = sentence.split(',')\n",
    "    # returning the first item of the list\n",
    "    return list_of_clauses[0]\n",
    "\n",
    "\n",
    "def vector_out(x, y, z):\n",
    "    # using string formatting\n",
    "    return '{:6.3f},{:6.3f},{:6.3f}'.format(x, y, z)"
   ]
  },
  {
   "cell_type": "markdown",
   "metadata": {},
   "source": [
    "### Testing the functions"
   ]
  },
  {
   "cell_type": "code",
   "execution_count": 2,
   "metadata": {},
   "outputs": [
    {
     "name": "stdout",
     "output_type": "stream",
     "text": [
      "To be or not to be\n",
      "I believe I can fly\n"
     ]
    }
   ],
   "source": [
    "print(first_clause('To be or not to be, that is the question.'))\n",
    "print(first_clause('I believe I can fly, I believe I can touch the sky.'))"
   ]
  },
  {
   "cell_type": "code",
   "execution_count": 3,
   "metadata": {},
   "outputs": [
    {
     "name": "stdout",
     "output_type": "stream",
     "text": [
      " 2.400,-8.100, 9.700\n",
      " 5.000,-1.000, 5.000\n",
      " 5.897,-1.850, 0.006\n"
     ]
    }
   ],
   "source": [
    "print(vector_out(2.4,-8.1,9.7))\n",
    "print(vector_out(5,-1,5))\n",
    "print(vector_out(5.897213,-1.8495616,5.5564e-3))"
   ]
  },
  {
   "cell_type": "markdown",
   "metadata": {},
   "source": [
    "## Date Exercises\n",
    "These are your exercises for dates.\n",
    "\n",
    "1. Write a function called `add_a_week()` to add a week to a date\n",
    "2. Write a function to convert a date to a day - `date_to_dayname()` - e.g. `Monday` (hint: look at `strftime function`)\n",
    "3. Write a function to count the number of workdays between two dates (inclusive) - `count_workdays()` *- try googling*\n",
    "\n",
    "These should take the form of three functions (make sure you use these function names):"
   ]
  },
  {
   "cell_type": "code",
   "execution_count": 4,
   "metadata": {},
   "outputs": [],
   "source": [
    "from datetime import timedelta as td\n",
    "from datetime import date, datetime\n",
    "\n",
    "\n",
    "def add_a_week(a_date):\n",
    "    new_date = a_date + td(days=7)\n",
    "    return new_date\n",
    "\n",
    "\n",
    "def date_to_dayname(a_date):\n",
    "    # note that we can return an expression that will give the result we want\n",
    "    return a_date.strftime(\"%A\")\n",
    "\n",
    "\n",
    "def count_workdays(date_1, date_2):\n",
    "    # This is based on the code at the archugs blog\n",
    "    # The logic is complex, but it only uses what you have been taught\n",
    "    start_week_days = min(date_1.weekday(), 4) + 1\n",
    "    end_week_days = min(date_2.weekday(), 4) + 1\n",
    "    # Calculate number of weeks between the dates\n",
    "    no_of_weeks = date_2.isocalendar()[1] - date_1.isocalendar()[1]\n",
    "    working_days = (5 * no_of_weeks) + end_week_days - start_week_days\n",
    "    # include the starting day if it is weekday\n",
    "    if date_1.weekday() < 5:\n",
    "        working_days += 1\n",
    "    return working_days\n",
    "\n",
    "\n",
    "# This function is simpler, but it uses the `while` loop which we have not yet covered \n",
    "# It keeps incrementing date_1 by 1 until it reaches the end date\n",
    "# Each `date_1` is checked to see if it is a weekday and if it is, the number of days is incremented by 1\n",
    "def count_workdays_2(date_1, date_2):\n",
    "    days = 0\n",
    "    while date_1 <= date_2:  # all the code that follows will be repeated until this condition is not met\n",
    "        if date_1.isoweekday() not in (6, 7):\n",
    "            days += 1\n",
    "        date_1 += td(days=1)\n",
    "    return days\n"
   ]
  },
  {
   "cell_type": "markdown",
   "metadata": {},
   "source": [
    "The count workdays functions are based on code that may be found:\n",
    "* http://archugs.blogspot.com/2014/08/calculating-number-of-working-days.html\n",
    "* https://www.foxinfotech.in/2019/01/get-dates-of-working-days-between-two-dates-in-python-exclude-weekends.html"
   ]
  },
  {
   "cell_type": "markdown",
   "metadata": {},
   "source": [
    "### Testing the Functions\n",
    "It is always a good idea to test your functions with a full range of representative data to see whether they operate correctly."
   ]
  },
  {
   "cell_type": "code",
   "execution_count": 5,
   "metadata": {},
   "outputs": [
    {
     "name": "stdout",
     "output_type": "stream",
     "text": [
      "2019-06-04\n",
      "2004-04-10\n",
      "1876-11-09\n",
      "2011-02-07\n",
      "1776-06-11\n"
     ]
    }
   ],
   "source": [
    "print(add_a_week(date.today()))\n",
    "print(add_a_week(date(2004,4,3)))\n",
    "print(add_a_week(date(1876,11,2)))\n",
    "print(add_a_week(date(2011,1,31)))\n",
    "print(add_a_week(date(1776,6,4)))"
   ]
  },
  {
   "cell_type": "code",
   "execution_count": 6,
   "metadata": {},
   "outputs": [
    {
     "name": "stdout",
     "output_type": "stream",
     "text": [
      "Tuesday\n",
      "Thursday\n",
      "Monday\n",
      "Tuesday\n"
     ]
    }
   ],
   "source": [
    "print(date_to_dayname(date.today()))\n",
    "print(date_to_dayname(date(1876,11,2)))\n",
    "print(date_to_dayname(date(2035,5,21)))\n",
    "print(date_to_dayname(date(1776,6,4)))"
   ]
  },
  {
   "cell_type": "code",
   "execution_count": 7,
   "metadata": {},
   "outputs": [
    {
     "name": "stdout",
     "output_type": "stream",
     "text": [
      "2, 2 : 3, 3 : 4, 4 : 4, 4 : 4, 4 : 5, 5 : 6, 6 : 7, 7\n",
      "11, 11 : 10, 10 : 9, 9 : 9, 9 : 9, 9\n"
     ]
    }
   ],
   "source": [
    "print(count_workdays(date.today(), date.today()+ td(days=1)), end = ', ')\n",
    "print(count_workdays_2(date.today(), date.today()+ td(days=1)), end = ' : ')\n",
    "print(count_workdays(date.today(), date.today()+ td(days=2)), end = ', ')\n",
    "print(count_workdays_2(date.today(), date.today()+ td(days=2)), end = ' : ')\n",
    "print(count_workdays(date.today(), date.today()+ td(days=3)), end = ', ')\n",
    "print(count_workdays_2(date.today(), date.today()+ td(days=3)), end = ' : ')\n",
    "print(count_workdays(date.today(), date.today()+ td(days=4)), end = ', ')\n",
    "print(count_workdays_2(date.today(), date.today()+ td(days=4)), end = ' : ')\n",
    "print(count_workdays(date.today(), date.today()+ td(days=5)), end = ', ')\n",
    "print(count_workdays_2(date.today(), date.today()+ td(days=5)), end = ' : ')\n",
    "print(count_workdays(date.today(), date.today()+ td(days=6)), end = ', ')\n",
    "print(count_workdays_2(date.today(), date.today()+ td(days=6)), end = ' : ')\n",
    "print(count_workdays(date.today(), date.today()+ td(days=7)), end = ', ')\n",
    "print(count_workdays_2(date.today(), date.today()+ td(days=7)), end = ' : ')\n",
    "print(count_workdays(date.today(), date.today()+ td(days=8)), end = ', ')\n",
    "print(count_workdays_2(date.today(), date.today()+ td(days=8)))\n",
    "print(count_workdays(date(2019,5,7), date(2019,5,21)), end = ', ')\n",
    "print(count_workdays_2(date(2019,5,7), date(2019,5,21)), end = ' : ')\n",
    "print(count_workdays(date(2019,5,7), date(2019,5,20)), end = ', ')\n",
    "print(count_workdays_2(date(2019,5,7), date(2019,5,20)), end = ' : ')\n",
    "print(count_workdays(date(2019,5,7), date(2019,5,19)), end = ', ')\n",
    "print(count_workdays_2(date(2019,5,7), date(2019,5,19)), end = ' : ')\n",
    "print(count_workdays(date(2019,5,7), date(2019,5,18)), end = ', ')\n",
    "print(count_workdays_2(date(2019,5,7), date(2019,5,18)), end = ' : ')\n",
    "print(count_workdays(date(2019,5,7), date(2019,5,17)), end = ', ')\n",
    "print(count_workdays_2(date(2019,5,7), date(2019,5,17)))"
   ]
  },
  {
   "cell_type": "code",
   "execution_count": null,
   "metadata": {},
   "outputs": [],
   "source": []
  }
 ],
 "metadata": {
  "kernelspec": {
   "display_name": "Python 3",
   "language": "python",
   "name": "python3"
  },
  "language_info": {
   "codemirror_mode": {
    "name": "ipython",
    "version": 3
   },
   "file_extension": ".py",
   "mimetype": "text/x-python",
   "name": "python",
   "nbconvert_exporter": "python",
   "pygments_lexer": "ipython3",
   "version": "3.10.13"
  }
 },
 "nbformat": 4,
 "nbformat_minor": 2
}
