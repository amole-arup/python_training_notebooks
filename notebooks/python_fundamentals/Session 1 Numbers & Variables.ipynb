{
 "cells": [
  {
   "cell_type": "markdown",
   "metadata": {},
   "source": [
    "# Numbers & Variables\n",
    "This session introduces numbers in Python and compares it to the way that Excel handles numbers. Variables are used and compared to the use of 'cell addresses' such as 'A4' in Excel.\n",
    "\n",
    "There is a video (\"Python Session 1 - Numbers.mp4\") which covers most of the material in this notebook.\n",
    "\n",
    "<!--\n",
    "<video width=\"960\" height=\"540\" controls>\n",
    "  <source src=\"Python Session 1 - Numbers.mp4\" type=\"video/mp4\">\n",
    "</video>\n",
    "-->\n",
    "\n",
    "## Numbers in Excel & Python\n",
    "There are many similarities between numbers and arithmetic formulas in Python and numbers in Excel. \n",
    "\n",
    "### Similarities\n",
    "* Most of the operators are the same (except power - \\** in place of ^)\n",
    "* Parentheses function the same way\n",
    "* Function parameters are listed within parentheses and are comma-separated\n",
    "\n",
    "### Differences\n",
    "* Excel hides the formulas under the results\n",
    "\n",
    "![Excel Image](./Resources/ExcelImages/Session_01_01.PNG)\n",
    "\n",
    "\n",
    "## Numbers in Python - in more detail\n",
    "\n",
    "Python has two principal types of numbers:\n",
    "* **integers** - e.g. 34 or -32 - whole numbers (no decimal points)\n",
    "* **floats** - e.g. -23.4 or 2.34e-03 - floating-point decimals (general numbers)\n",
    "\n",
    "Other number types are also available:\n",
    "* **Complex numbers** can also be used - e.g. 2.1 + 3.5j. These are defined using the 'complex' function - i.e. `complex(2.1,3.5)`\n",
    "* **Dates** are not numbers although they can function like numbers in some situations.\n",
    "* **Booleans** (True & False) are used in logic and while they are not numbers, strictly speaking, they can default to the values of 0 & 1 in some situations.\n",
    "* **Decimals** (exact representations that avoid rounding errors) are available using the ['decimal' module](https://docs.python.org/3/library/decimal.html).\n",
    "\n",
    "All of these can be assigned to variable names, e.g.:\n",
    "```py\n",
    "variable_name = 42\n",
    "```\n",
    "*Note:* \n",
    "* *Press Shift+Enter to run a cell while the cursor is in the cell.* \n",
    "* *The interpreter will interact with the cells in the order that they are run.* \n",
    "* *For more instructions on how to use Jupyter Notebooks, see the introduction notebook in session 0.*"
   ]
  },
  {
   "cell_type": "markdown",
   "metadata": {},
   "source": [
    "## Basic Arithmetic\n",
    "* *Press Shift+Enter to run a cell.*\n",
    "* *Python will ignore any line starting with  a 'hash' (`#`) or anything following one.*"
   ]
  },
  {
   "cell_type": "code",
   "execution_count": null,
   "metadata": {},
   "outputs": [],
   "source": [
    "3 + 5"
   ]
  },
  {
   "cell_type": "code",
   "execution_count": null,
   "metadata": {},
   "outputs": [],
   "source": [
    "3 + 5 * 5"
   ]
  },
  {
   "cell_type": "code",
   "execution_count": null,
   "metadata": {},
   "outputs": [],
   "source": [
    "# The effect of parentheses\n",
    "(3 + 5) * 2"
   ]
  },
  {
   "cell_type": "code",
   "execution_count": null,
   "metadata": {},
   "outputs": [],
   "source": [
    "# Powers\n",
    "4 ** 3"
   ]
  },
  {
   "cell_type": "code",
   "execution_count": null,
   "metadata": {},
   "outputs": [],
   "source": [
    "# Roots\n",
    "8 ** (1/3)"
   ]
  },
  {
   "cell_type": "markdown",
   "metadata": {},
   "source": [
    "## Formulas and Conditionals\n",
    "Python probably has all the formulas that Excel does, but many of them are not loaded automatically. The library of trigonometrical functions must be imported before functions such as sin() can be called. We can either import the `math` library and then use relative references, such as `math.sin()` or we can import them explicitly, such as `from math import sin, cos, tan`. It is also possible to import all functions using `from math import *`, but this is not encouraged, as this will occupy memory and can also mask other functions if the incoming function has the same name.\n",
    "\n",
    "Python has two approaches to conditionals (i.e. 'if'). Here we use the single line approach which follows the natural language format - `answer  is  X  if  statement_is_true  else  Y`."
   ]
  },
  {
   "cell_type": "code",
   "execution_count": null,
   "metadata": {},
   "outputs": [],
   "source": [
    "import math\n",
    "math.cos(60 * math.pi / 180)"
   ]
  },
  {
   "cell_type": "code",
   "execution_count": null,
   "metadata": {},
   "outputs": [],
   "source": [
    "from math import sin, cos, tan, pi\n",
    "cos(50*pi/180)"
   ]
  },
  {
   "cell_type": "code",
   "execution_count": null,
   "metadata": {},
   "outputs": [],
   "source": [
    "0.25  if  3 > 2  else  0.35"
   ]
  },
  {
   "cell_type": "markdown",
   "metadata": {},
   "source": [
    "## More about Numbers in Python\n",
    "Python has different [number 'types'](https://docs.python.org/3/library/stdtypes.html#numeric-types-int-float-complex) which include:\n",
    "* integers\n",
    "* floats\n",
    "* decimals\n",
    "\n",
    "In Python, booleans (True / False or 0 / 1) can also be considered as numbers. In addition, numbers can be treated as booleans - e.g. a number is considered 'True' if it is not zero or a null value. *...(more about this later)...*\n",
    "\n",
    "Note that the following cell uses variables (i.e. names such as 'an_integer') to hold the number values. Variables can be used to refer to those values. This is equivalent to using cell names in Excel forumulas (e.g. `= SUM(A1 + A2)`)"
   ]
  },
  {
   "cell_type": "code",
   "execution_count": null,
   "metadata": {},
   "outputs": [],
   "source": [
    "# Numbers can have different formats\n",
    "an_integer = 2\n",
    "a_float = 51.9\n",
    "a_boolean = True\n",
    "b_boolean = False\n",
    "# A boolean is not strictly speaking a number, but can function as one\n"
   ]
  },
  {
   "cell_type": "code",
   "execution_count": null,
   "metadata": {},
   "outputs": [],
   "source": [
    "# Python is \"strongly typed\".\n",
    "# This means that you cannot mix types in an expression\n",
    "# However, for numbers, Python will automatically convert integers to floats\n",
    "an_integer * a_float"
   ]
  },
  {
   "cell_type": "code",
   "execution_count": null,
   "metadata": {},
   "outputs": [],
   "source": [
    "# A boolean will function as a number in some situations - such as in addition\n",
    "an_integer + a_boolean"
   ]
  },
  {
   "cell_type": "code",
   "execution_count": null,
   "metadata": {},
   "outputs": [],
   "source": [
    "# Complex numbers\n",
    "complex(3.5,1.4) * complex(2.4,3.5)"
   ]
  },
  {
   "cell_type": "markdown",
   "metadata": {},
   "source": [
    "# Formats for Floating-point Decimals\n",
    "Python accepts numbers in all of the following ways of writing numbers, including scientific notation. The following cell uses the 'print()' function to print a list of items separated by commas.\n",
    "* Note that the 'print' function prints the numbers out in a standardised format that may not match the one that you provided.\n",
    "* Note that you cannot have a leading zero for an integer. If the number is too large, Python will treat it as infinity.\n",
    "\n",
    "*As before, press Shift+Enter to run a cell.*"
   ]
  },
  {
   "cell_type": "code",
   "execution_count": null,
   "metadata": {},
   "outputs": [],
   "source": [
    "print(4, 264, -32, 34.21, -0.002, -03.04, 2.4E5, -2.4e+02, 04.2e-4, 4.6e833)\n",
    "complex(2.4,3.5)"
   ]
  },
  {
   "cell_type": "markdown",
   "metadata": {},
   "source": [
    "# Hexadecimal, Octal and Binary\n",
    "Python will also accept numbers defined according to different bases using a format starting with a zero ('**0**') followed by - '**x**' he**x**adecimal (base-16), '**o**' **o**ctal (base-8), '**b**' **b**inary (base-2)."
   ]
  },
  {
   "cell_type": "code",
   "execution_count": null,
   "metadata": {},
   "outputs": [],
   "source": [
    "print(0x15, 0o25, 0b10101)"
   ]
  },
  {
   "cell_type": "markdown",
   "metadata": {},
   "source": [
    "# Number Accuracy\n",
    "Digital computers are not able to represent all floating point numbers perfectly. As a result, there are many situations where what appears to be a simple calculation will return a longer number than expected. This can lead to problems when testing equivalence. This means that it is typically better not to test whether two numbers are equal but rather whether the difference is small.\n",
    "\n",
    "## Number Accuracy in Excel\n",
    "Excel has this problem in some cases as can be seen from this example - we can see that 22.26 - 21.29 = 0.97, yet if you ask Excel to compare this result to the number 0.97 you will see that it fails. This is because the Excel calculation yields a number that is not exactly 0.97:\n",
    "\n",
    "![Excel rounding errors](Resources\\ExcelImages\\NumberAccuracy.png)"
   ]
  },
  {
   "cell_type": "markdown",
   "metadata": {},
   "source": [
    "## Number Accuracy in Python"
   ]
  },
  {
   "cell_type": "code",
   "execution_count": null,
   "metadata": {},
   "outputs": [],
   "source": [
    "# Adding 1.1 to 2.2 looks simple. But...\n",
    "print(1.1)\n",
    "print(2.2)\n",
    "print(1.1 + 2.2)"
   ]
  },
  {
   "cell_type": "code",
   "execution_count": null,
   "metadata": {},
   "outputs": [],
   "source": [
    "# Do you think this should print \"OK\" or \"Not OK\"?\n",
    "a = 0.1 + 0.1 + 0.1\n",
    "b = 0.3\n",
    "print(\"OK\")   if   (a - b) == 0   else   print(\"Not OK\")"
   ]
  },
  {
   "cell_type": "code",
   "execution_count": null,
   "metadata": {},
   "outputs": [],
   "source": [
    "# If we print out the variables, we can see why\n",
    "print(\"a = \", a)\n",
    "print(\"b = \", b)\n",
    "print(\"a - b = \", a - b)"
   ]
  },
  {
   "cell_type": "code",
   "execution_count": null,
   "metadata": {},
   "outputs": [],
   "source": [
    "# The match can be met by using a check for a small difference rather than direct equivalence\n",
    "a = 0.1 + 0.1 + 0.1\n",
    "b = 0.3\n",
    "print(\"OK\")   if   abs(a - b) < 1E-06   else   print(\"Not OK\")"
   ]
  },
  {
   "cell_type": "markdown",
   "metadata": {},
   "source": [
    "***Note*** This is not generally a problem, provided you are aware of it, but if exact decimal accuracy is critical, then Python has a [module that provides correctly rounded decimal floating point arithmetic](https://docs.python.org/3/library/decimal.html). This is not used generally because of the time and memory overhead that is added. Note that the number needs to be passed as a string (e.g. a number place in quotes - '0.1') in order to avoid conversion from non-decimal floats."
   ]
  },
  {
   "cell_type": "code",
   "execution_count": null,
   "metadata": {},
   "outputs": [],
   "source": [
    "from decimal import Decimal as D  # note that this defines an alias 'D' for the 'Decimal' function\n",
    "a_dec = D('0.1') + D('0.1') + D('0.1')\n",
    "b_dec = D('0.3')\n",
    "c_dec = D(0.3)\n",
    "print(\"a_dec = \", a_dec)\n",
    "print(\"b_dec = \", b_dec)\n",
    "print(\"c_dec = \", c_dec)\n",
    "print(\"a_dec - b_dec = \", a_dec - b_dec)\n",
    "print(\"OK\")   if   (a_dec - b_dec) == 0   else   print(\"Not OK\")"
   ]
  },
  {
   "cell_type": "code",
   "execution_count": null,
   "metadata": {},
   "outputs": [],
   "source": [
    "# Here is the calculation that Excel fails at:\n",
    "a_dec = D('22.26')\n",
    "b_dec = D('21.29')\n",
    "c_dec = D('0.97')\n",
    "print(\"a_dec = \", a_dec)\n",
    "print(\"b_dec = \", b_dec)\n",
    "print(\"a_dec - b_dec = \", a_dec - b_dec)\n",
    "print(\"Check whether 22.97 - 21.29 is exactly the same as 0.97\")\n",
    "print(\"OK\")   if   (a_dec - b_dec) == c_dec   else   print(\"Not OK\")"
   ]
  },
  {
   "cell_type": "markdown",
   "metadata": {},
   "source": [
    "# Lists of Numbers\n",
    "Lists are collections of objects (which can be numbers) and are defined by putting comma-separated values inside square brackets. Data in lists can be processed very efficiently using loops and list comprehensions, which are described in the session on collections.\n",
    "\n",
    "Python documentation on sequences (lists, tuples and ranges) may be found [here](https://docs.python.org/3/library/stdtypes.html#sequence-types-list-tuple-range).\n",
    "\n",
    "**Important**: Note that these will not perform in the same way as vectors or matrices, even if they look like them. "
   ]
  },
  {
   "cell_type": "code",
   "execution_count": null,
   "metadata": {},
   "outputs": [],
   "source": [
    "num_list = [23.4, 32, 56.6, 2.45E5]\n",
    "num_list"
   ]
  },
  {
   "cell_type": "code",
   "execution_count": null,
   "metadata": {},
   "outputs": [],
   "source": [
    "# You can add (concatenate) lists by adding them...\n",
    "[1,2,3] + [4,5,6]"
   ]
  },
  {
   "cell_type": "code",
   "execution_count": null,
   "metadata": {},
   "outputs": [],
   "source": [
    "# What happens if you try to multiply one by the number 2? Can you explain why you get what you do?\n",
    "num_list * 2"
   ]
  },
  {
   "cell_type": "markdown",
   "metadata": {},
   "source": [
    "# Converting Numeric Strings to Numbers\n",
    "Sometimes we receive numbers as text and we want to use them in calculations. To do this, we need to convert the strings into numbers. Python provides some type conversion functions to do this."
   ]
  },
  {
   "cell_type": "code",
   "execution_count": null,
   "metadata": {},
   "outputs": [],
   "source": [
    "# Sometimes we receive numbers in the form of strings:\n",
    "a = '231'\n",
    "b = '438'\n",
    "# If we add them together we won't get the result we were looking for. \n",
    "a + b"
   ]
  },
  {
   "cell_type": "code",
   "execution_count": null,
   "metadata": {},
   "outputs": [],
   "source": [
    "# We need to convert the string into numbers, in this case using the int() function\n",
    "# to convert them to integers.\n",
    "int(a) + int(b)"
   ]
  },
  {
   "cell_type": "code",
   "execution_count": null,
   "metadata": {},
   "outputs": [],
   "source": [
    "# For floats (decimal numbers), the float() function must be used (otherwise we will get an error).\n",
    "a = '23.3'\n",
    "b = '-0.43'\n",
    "print(a + b)                   # wrong\n",
    "print(float(a) + float(b))     # right"
   ]
  },
  {
   "cell_type": "markdown",
   "metadata": {},
   "source": [
    "# Formatting Numbers as Strings\n",
    "Sometimes it is necessary to convert numbers into strings, typically for output. There are different ways of doing this.\n",
    "\n",
    "## Using the 'str()', 'repr()' and 'print()' functions\n",
    "The 'str' function is the simplest way of converting numbers to text (strings). The 'repr' is an alternative, but is often the same. Using the 'print' function may be useful in some settings when you are printing to output."
   ]
  },
  {
   "cell_type": "code",
   "execution_count": null,
   "metadata": {},
   "outputs": [],
   "source": [
    "str(23/9)"
   ]
  },
  {
   "cell_type": "code",
   "execution_count": null,
   "metadata": {},
   "outputs": [],
   "source": [
    "repr(23/9)"
   ]
  },
  {
   "cell_type": "code",
   "execution_count": null,
   "metadata": {},
   "outputs": [],
   "source": [
    "print(23/9)"
   ]
  },
  {
   "cell_type": "markdown",
   "metadata": {},
   "source": [
    "## Using the formatter\n",
    "However, there are many occasions when you will want to format numbers for display. These examples use the string 'format' method. You insert placeholders (curly brackets - {}) into a string and add the 'format()' function containing the items to be inserted into the string. The basic version - empty brackets - simply inserts the data into the string."
   ]
  },
  {
   "cell_type": "code",
   "execution_count": null,
   "metadata": {},
   "outputs": [],
   "source": [
    "\"From {} to {}\".format(100,200)"
   ]
  },
  {
   "cell_type": "code",
   "execution_count": null,
   "metadata": {},
   "outputs": [],
   "source": [
    "# You can reverse the insertion by specifying a reference number (note that the numbering starts from zero)\n",
    "\"From {1} to {0}\".format(100,200)"
   ]
  },
  {
   "cell_type": "code",
   "execution_count": null,
   "metadata": {},
   "outputs": [],
   "source": [
    "# It is also possible to use number formatting codes - in this case the ':f' code for \n",
    "# a float (truncated to 6 decimal places, rounded) and the ':g' code for a general float\n",
    "# format based on significant figures where scientific notation can be used. \n",
    "# Try changing the ':f 'to a ':g'\n",
    "x = 4321.123456789\n",
    "'{:f}'.format(x)"
   ]
  },
  {
   "cell_type": "code",
   "execution_count": null,
   "metadata": {},
   "outputs": [],
   "source": [
    "# You can can play with the effect of the formatting by changing the value of 'x'\n",
    "num = 87654321.123456789\n",
    "print('{:.3f}'.format(num))  # three decimal places\n",
    "print('{:4.2f}'.format(num))  # at least four characters and exactly two decimal places\n",
    "print('{:4.3g}'.format(num))  # at least four characters and exactly three significant figures\n",
    "print('{:12.2f}'.format(num))  # adds a space at beginning to cover 12 characters\n",
    "print('{:012.2f}'.format(num))  # adds a zero at beginning to cover 12 characters\n",
    "print('{:012.2g}'.format(num))  # adds zeroes at beginning to cover 12 characters"
   ]
  },
  {
   "cell_type": "code",
   "execution_count": null,
   "metadata": {},
   "outputs": [],
   "source": [
    "# Integers can be printed out in various formats:\n",
    "num = 254\n",
    "print('As a decimal: {:d}'.format(num))  # print integer as a decimal\n",
    "print('As a hexadecimal: {:x}'.format(num))  # print integer as a hexadecimal\n",
    "print('As an octal: {:o}'.format(num))  # print integer as an octal"
   ]
  },
  {
   "cell_type": "code",
   "execution_count": null,
   "metadata": {},
   "outputs": [],
   "source": [
    "# Note that this can be used to get round the number accuracy problem we had before:\n",
    "a = 0.1 + 0.1 + 0.1\n",
    "b = 0.3\n",
    "c = '{:.6g}'.format(a)  # converted to string with 6 significant digits accuracy\n",
    "d = '{:.6g}'.format(b)\n",
    "print(a, b, type(a))  # a and b are of type 'float' (floating point numbers)\n",
    "print(c, d, type(c))  # c and d are of type 'str' (strings)\n",
    "print(c == d)"
   ]
  },
  {
   "cell_type": "markdown",
   "metadata": {},
   "source": [
    "References for further reference:\n",
    "* lots about formatting https://pyformat.info/ (old and new formatting styles)\n",
    "* the official Python tutorial (quite good) - https://docs.python.org/3/tutorial/inputoutput.html#the-string-format-method\n",
    "* official Python information (difficult to read) - https://docs.python.org/3/library/string.html#string-formatting\n",
    "* Another resource - look down the page for the approach we are using - https://www.python-course.eu/python3_formatted_output.php"
   ]
  },
  {
   "cell_type": "markdown",
   "metadata": {},
   "source": [
    "## Exercise\n",
    "Please complete the following exercises:\n",
    "1. Write a function called 'add2' that receives a number and returns a number that is increased by 2, e.g. it receives 4 and returns 6.\n",
    "2. Write a function called 'two_decimal_places' that receives a number and returns a formatted string with two decimal places - e.g. it receives 43.51223 and 2.929 and returns 43.51 and 2.93\n",
    "\n",
    "In the next cell there are two examples that should help you.\n",
    "\n",
    "Both these functions (`add2()` and `two_decimal_places()`) should be completed, and should be tested with various inputs.\n",
    "\n",
    "<!--\n",
    "<video width=\"960\" height=\"540\" controls>\n",
    "  <source src=\"Completing_and_submitting_exercises.mp4\" type=\"video/mp4\">\n",
    "</video>\n",
    "-->"
   ]
  },
  {
   "cell_type": "code",
   "execution_count": null,
   "metadata": {},
   "outputs": [],
   "source": [
    "# Examples to guide you\n",
    "# Defining a function that subtracts 3:\n",
    "def sub3(a_number):\n",
    "    answer = a_number - 3\n",
    "    return answer\n",
    "\n",
    "# Defining a function that returns an integer in hexadecimal format\n",
    "# e.g. \n",
    "def dec2hex(a_decimal_int):\n",
    "    answer = '{:x}'.format(a_decimal_int)\n",
    "    return answer"
   ]
  },
  {
   "cell_type": "code",
   "execution_count": null,
   "metadata": {},
   "outputs": [],
   "source": [
    "print(sub3(5))\n",
    "print(dec2hex(110))"
   ]
  },
  {
   "cell_type": "markdown",
   "metadata": {},
   "source": [
    "# Shutting Down Jupyter Notebooks\n",
    "Jupyter notebooks open up Python kernels. As a result it is a good idea to use the \"Close and Halt\" command t close down the kernel. After this you can close the black console window by licking in the window to activate it, then holding down Control and typing C twice (Ctrl-C).\n",
    "\n",
    "\n",
    "![Shutting down notebooks](./Resources/JupyterImages/Close_and_halt.PNG)"
   ]
  },
  {
   "cell_type": "code",
   "execution_count": null,
   "metadata": {},
   "outputs": [],
   "source": []
  }
 ],
 "metadata": {
  "kernelspec": {
   "display_name": "Python 3",
   "language": "python",
   "name": "python3"
  },
  "language_info": {
   "codemirror_mode": {
    "name": "ipython",
    "version": 3
   },
   "file_extension": ".py",
   "mimetype": "text/x-python",
   "name": "python",
   "nbconvert_exporter": "python",
   "pygments_lexer": "ipython3",
   "version": "3.6.6"
  }
 },
 "nbformat": 4,
 "nbformat_minor": 2
}
