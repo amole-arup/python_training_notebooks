{
 "cells": [
  {
   "cell_type": "markdown",
   "metadata": {},
   "source": [
    "# Python Course Exercises - Session 3\n",
    "## Functions\n",
    "The exercise is to create functions, so this requires you to define the name of the function and list the arguments (parameters) in parentheses `()`, followed by a colon `:`. All the lines that follow should be indented to show that they belong to the function. \n",
    "\n",
    "The last line of the function should (normally) contain the keyword `return` followed by the variable (or expression) that will give the answer."
   ]
  },
  {
   "cell_type": "markdown",
   "metadata": {},
   "source": [
    "## Function Exercises\n",
    "Create three functions that are variations on the Hello World function, generating greetings of the form of \"Hello Tim and Tina\", \"Hello Tim, Ted and Tina\" (note the commas and the 'and'). Also create one function that implements a calculation that you often carry out.\n",
    "\n",
    "1. A function (hello_namelist()) that receives a list of names and prints one line per name - `hello_namelist([\"Tim\", \"Tom\", \"Tina\"])` -> `\"Hello Tim, Tom and Tina\"`.\n",
    "2. A function (`hello_names()`) that receives names as a arguments in the function - `hello_names(\"Tim\", \"Tina\")` -> `\"Hello Tim and Tina\"`. The key here is that you are allowing multiple names.\n",
    "3. A function (`hello_title()`) that receives a list of names as a arguments with an optional parameter that will contain a prefix title, such as \"Mr\" - `hello_names([\"Tim\", \"Tina\"], [\"Mr\", \"Ms\"])` -> `\"Hello Mr Tim and Ms Tina\"`. The key here is that the second list is optional and that it should be the same length as the list of names.\n",
    "4. Create a function that does something that you do in everyday engineering (stress calculation, load calculation etc)."
   ]
  },
  {
   "cell_type": "code",
   "execution_count": 20,
   "metadata": {},
   "outputs": [],
   "source": [
    "# Defining a function that creates a greeting for multiple names:\n",
    "def hello_namelist(namelist):\n",
    "    # We can use the join string function to combine all except for the last name (namelist[-1])\n",
    "    return 'Hello ' + ', '.join(namelist[:-1]) + ' and ' + namelist[-1]\n",
    "\n",
    "\n",
    "# Creating a function that acts on an unknown number of arguments (e.g. hello_names('name1, name2, name3...'))\n",
    "def hello_names(*names):\n",
    "    # *names contains all the arguments as a list, so we can do the same as the previous\n",
    "    # The key difference is the asterisk (*)\n",
    "    return 'Hello ' + ', '.join(names[:-1]) + ' and ' + names[-1]\n",
    "\n",
    "\n",
    "# Combining title and name\n",
    "def hello_title(namelist, titlelist = None):\n",
    "    if titlelist is not None:\n",
    "        # Create a list of titles and names for all except the last name\n",
    "        names = [t + ' ' + n for n, t in zip(namelist[:-1], titlelist[:-1])]\n",
    "        return 'Hello ' + ', '.join(names) + ' and ' + titlelist[-1] + ' ' + namelist[-1]\n",
    "    else:\n",
    "        # treat the name list in the same way as before\n",
    "        return 'Hello ' + ', '.join(namelist[:-1]) + ' and ' + namelist[-1]\n",
    "\n",
    "\n",
    "# This is meant to be a sample useful calculation. You should create your own...\n",
    "def distance3d(pt1, pt2):\n",
    "    \"\"\"An example of a useful calculation - distance between two points in 3d\n",
    "    Input:\n",
    "        pt1 & pt2 - vectors in the form of lists or tuples of three coordinates\"\"\"\n",
    "    return ((pt2[0]-pt1[0])**2 + (pt2[1]-pt1[1])**2 + (pt2[2]-pt1[2])**2)**0.5\n"
   ]
  },
  {
   "cell_type": "markdown",
   "metadata": {},
   "source": [
    "### Testing the Functions\n",
    "It is always a good idea to test your functions with a full range of representative data to see whether they operate correctly."
   ]
  },
  {
   "cell_type": "code",
   "execution_count": 21,
   "metadata": {},
   "outputs": [
    {
     "name": "stdout",
     "output_type": "stream",
     "text": [
      "Hello Tim, Tom and Tina\n",
      "Hello Tim and Tina\n",
      "Hello Tim, Tom, Tina, Terri and Turner\n"
     ]
    }
   ],
   "source": [
    "print(hello_namelist([\"Tim\", \"Tom\", \"Tina\"]))\n",
    "print(hello_namelist([\"Tim\", \"Tina\"]))\n",
    "print(hello_namelist([\"Tim\", \"Tom\", \"Tina\", \"Terri\", \"Turner\"]))"
   ]
  },
  {
   "cell_type": "code",
   "execution_count": 22,
   "metadata": {},
   "outputs": [
    {
     "name": "stdout",
     "output_type": "stream",
     "text": [
      "Hello Tim, Tom and Tina\n",
      "Hello Tim and Tina\n",
      "Hello Tim, Tom, Tina, Terri and Turner\n"
     ]
    }
   ],
   "source": [
    "print(hello_names(\"Tim\", \"Tom\", \"Tina\"))\n",
    "print(hello_names(\"Tim\", \"Tina\"))\n",
    "print(hello_names(\"Tim\", \"Tom\", \"Tina\", \"Terri\", \"Turner\"))"
   ]
  },
  {
   "cell_type": "code",
   "execution_count": 23,
   "metadata": {},
   "outputs": [
    {
     "name": "stdout",
     "output_type": "stream",
     "text": [
      "Hello Mr Tim, Mr Tom and Ms Tina\n",
      "Hello Mr Tim and Ms Tina\n",
      "Hello Mr Tim, Mr Tom, Ms Tina and Mr Turner\n"
     ]
    }
   ],
   "source": [
    "print(hello_title([\"Tim\", \"Tom\", \"Tina\"], [\"Mr\", \"Mr\", \"Ms\"]))\n",
    "print(hello_title([\"Tim\", \"Tina\"], [\"Mr\", \"Ms\"]))\n",
    "print(hello_title([\"Tim\", \"Tom\", \"Tina\", \"Terri\", \"Turner\"], [\"Mr\", \"Mr\", \"Ms\", \"Mr\"]))"
   ]
  },
  {
   "cell_type": "code",
   "execution_count": 31,
   "metadata": {},
   "outputs": [
    {
     "name": "stdout",
     "output_type": "stream",
     "text": [
      "5.0\n",
      "13.0\n",
      "25.0\n",
      "65.0\n"
     ]
    }
   ],
   "source": [
    "print(distance3d([0,0,0], [3,4,0]))\n",
    "print(distance3d([1,1,1], [6,13,1]))\n",
    "print(distance3d([0,0,0], [16,12,15]))\n",
    "print(distance3d([-12,8,-17], [36,28,22]))"
   ]
  },
  {
   "cell_type": "markdown",
   "metadata": {},
   "source": [
    "## Python & Excel\n",
    "\n",
    "***Note that the session on Python and Excel does not have any exercises...***"
   ]
  },
  {
   "cell_type": "code",
   "execution_count": null,
   "metadata": {},
   "outputs": [],
   "source": []
  }
 ],
 "metadata": {
  "kernelspec": {
   "display_name": "Python 3",
   "language": "python",
   "name": "python3"
  },
  "language_info": {
   "codemirror_mode": {
    "name": "ipython",
    "version": 3
   },
   "file_extension": ".py",
   "mimetype": "text/x-python",
   "name": "python",
   "nbconvert_exporter": "python",
   "pygments_lexer": "ipython3",
   "version": "3.6.6"
  }
 },
 "nbformat": 4,
 "nbformat_minor": 2
}
