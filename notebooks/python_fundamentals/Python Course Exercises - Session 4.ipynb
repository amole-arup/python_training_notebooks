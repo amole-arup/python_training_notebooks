{
 "cells": [
  {
   "cell_type": "markdown",
   "metadata": {},
   "source": [
    "# Python Course Exercises - Session 4\n",
    "## Functions\n",
    "The exercise is to create functions, so this requires you to define the name of the function and list the arguments (parameters) in parentheses `()`, followed by a colon `:`. All the lines that follow should be indented to show that they belong to the function. \n",
    "\n",
    "The last line of the function should (normally) contain the keyword `return` followed by the variable (or expression) that will give the answer."
   ]
  },
  {
   "cell_type": "markdown",
   "metadata": {},
   "source": [
    "## Grasshopper & Dynamo Exercises\n",
    "Create a geometrical function and insert it in a Grasshopper 'component' and a Dynamo 'node':\n",
    "\n",
    "A function that creates a grid of lines when provided with a starting point and a list of spacings in x & y direction. You should end up with a grillage defined by a list of lines represented by start and end points (first x-dir, then y-dir and always in the positive direction).\n",
    ">`gridline(start_point, x_list, y_list)`\n",
    "\n",
    "For example:\n",
    "\n",
    "```python\n",
    "start_point = [1, 2, -1]\n",
    "x_list = [3,2,2]\n",
    "y_list = [3,3]\n",
    "\n",
    "print(gridline(start_point, x_list, y_list))\n",
    "```\n",
    "\n",
    "The result is a list of seven pairs of triplets (list of lists of lists) `[[[1,2,-1],[8,2,-1]], [[1,5,-1],[8,5,-1]], [[1,8,-1],[8,8,-1]], [[1,2,-1],[1,8,-1]], [[4,2,-1],[4,8,-1]], [[6,2,-1],[6,8,-1]], [[8,2,-1],[8,8,-1]]]`"
   ]
  },
  {
   "cell_type": "code",
   "execution_count": 15,
   "metadata": {},
   "outputs": [],
   "source": [
    "# start by grabbing an accumulation tool from a library\n",
    "# list(accumulate([3,2,2])) -> [3,5,7]\n",
    "from itertools import accumulate\n",
    "\n",
    "def gridline(start_point, x_list, y_list):\n",
    "    # You could use\n",
    "    x0, y0, z0 = start_point\n",
    "    x_len = sum(x_list)\n",
    "    y_len = sum(y_list)\n",
    "    x_lines = [[[x0, y0, z0], [x0 + x_len, y0, z0]]]\n",
    "    y1 = y0\n",
    "    for y in y_list:\n",
    "        y1 += y\n",
    "        x_lines.append([[x0, y1, z0], [x0 + x_len, y1, z0]])\n",
    "    y_lines = [[[x0, y0, z0], [x0, y0 + y_len, z0]]]\n",
    "    x1 = x0\n",
    "    for x in x_list:\n",
    "        x1 += x\n",
    "        y_lines.append([[x1, y0, z0], [x1, y0 + y_len, z0]])\n",
    "    return x_lines + y_lines\n",
    "\n",
    "\n",
    "# Alternatively we can use the accumulate function and list comprehension\n",
    "def gridline2(start_point, x_list, y_list):\n",
    "    # You could use\n",
    "    x0, y0, z0 = start_point\n",
    "    x_len = sum(x_list)\n",
    "    y_len = sum(y_list)\n",
    "    x_coords = accumulate([x0] + x_list) # This adds the starting x-coordinate to the list before accumulating\n",
    "    y_coords = accumulate([y0] + y_list)\n",
    "    x_lines = [[[x0, y, z0], [x0 + x_len, y, z0]] for y in y_coords]\n",
    "    y_lines = [[[x, y0, z0], [x, y0 + y_len, z0]] for x in x_coords]\n",
    "    return x_lines + y_lines\n",
    "\n"
   ]
  },
  {
   "cell_type": "markdown",
   "metadata": {},
   "source": [
    "### Testing the Functions\n",
    "It is always a good idea to test your functions with a full range of representative data to see whether they operate correctly."
   ]
  },
  {
   "cell_type": "code",
   "execution_count": 17,
   "metadata": {},
   "outputs": [
    {
     "name": "stdout",
     "output_type": "stream",
     "text": [
      "[[[1, 2, -1], [8, 2, -1]], [[1, 5, -1], [8, 5, -1]], [[1, 8, -1], [8, 8, -1]], [[1, 2, -1], [1, 8, -1]], [[4, 2, -1], [4, 8, -1]], [[6, 2, -1], [6, 8, -1]], [[8, 2, -1], [8, 8, -1]]]\n"
     ]
    }
   ],
   "source": [
    "start_point = [1, 2, -1]\n",
    "x_list = [3,2,2]\n",
    "y_list = [3,3]\n",
    "print(gridline(start_point, x_list, y_list))\n",
    "print(gridline2(start_point, x_list, y_list))"
   ]
  },
  {
   "cell_type": "code",
   "execution_count": 19,
   "metadata": {},
   "outputs": [
    {
     "name": "stdout",
     "output_type": "stream",
     "text": [
      "[[[0, 0, 0], [3, 0, 0]], [[0, 2, 0], [3, 2, 0]], [[0, 4, 0], [3, 4, 0]], [[0, 6, 0], [3, 6, 0]], [[0, 0, 0], [0, 6, 0]], [[1, 0, 0], [1, 6, 0]], [[2, 0, 0], [2, 6, 0]], [[3, 0, 0], [3, 6, 0]]]\n",
      "[[[0, 0, 0], [3, 0, 0]], [[0, 2, 0], [3, 2, 0]], [[0, 4, 0], [3, 4, 0]], [[0, 6, 0], [3, 6, 0]], [[0, 0, 0], [0, 6, 0]], [[1, 0, 0], [1, 6, 0]], [[2, 0, 0], [2, 6, 0]], [[3, 0, 0], [3, 6, 0]]]\n"
     ]
    }
   ],
   "source": [
    "start_point = [0, 0, 0]\n",
    "x_list = [1,1,1]\n",
    "y_list = [2,2,2]\n",
    "print(gridline(start_point, x_list, y_list))\n",
    "print(gridline2(start_point, x_list, y_list))"
   ]
  },
  {
   "cell_type": "markdown",
   "metadata": {},
   "source": [
    "## Python & Other Programs\n",
    "\n",
    "***Note that the session on Python and Other Programs does not have any exercises...***"
   ]
  },
  {
   "cell_type": "code",
   "execution_count": null,
   "metadata": {},
   "outputs": [],
   "source": []
  }
 ],
 "metadata": {
  "kernelspec": {
   "display_name": "Python 3",
   "language": "python",
   "name": "python3"
  },
  "language_info": {
   "codemirror_mode": {
    "name": "ipython",
    "version": 3
   },
   "file_extension": ".py",
   "mimetype": "text/x-python",
   "name": "python",
   "nbconvert_exporter": "python",
   "pygments_lexer": "ipython3",
   "version": "3.6.6"
  }
 },
 "nbformat": 4,
 "nbformat_minor": 2
}
