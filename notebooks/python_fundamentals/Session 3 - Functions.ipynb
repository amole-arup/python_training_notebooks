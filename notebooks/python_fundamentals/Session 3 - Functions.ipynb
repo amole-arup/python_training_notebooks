{
 "cells": [
  {
   "cell_type": "markdown",
   "metadata": {},
   "source": [
    "# Session 3 Functions\n",
    "This notebook focusses on the creation and use of functions.\n",
    "\n",
    "Principles of programming:\n",
    "* Keep it simple (KISS - 'keep it simple, stupid')\n",
    "* Avoid repetition (DRY - 'do not repeat yourself'). Use abstraction as much as is helpful\n",
    "* Clean code is more important than clever code\n",
    "* Document your code - both for others and for yourself\n",
    "* Separation of Concerns (modularisation) - break down your problem into sub-tasks and break down your code into corresponding modules\n",
    "* The structure of your code should reflect the structure of the problem\n",
    "* Avoid premature optimisation - don't spend too much time at the beginning optimising code that may not make it through to the final product\n",
    "\n",
    "Two of the key features of programming are modularisation and abstraction. Functions are a way of encoding general (abstract) relationships that are reusable and help to break down your code into modules. Simple, straightforward functions are easily understood and tested and can act as part of your documentation if the names are understandable\n",
    "\n",
    "Functions operate on data (objects) and can return objects and/or carry out actions (such as the `print` function).  "
   ]
  },
  {
   "cell_type": "markdown",
   "metadata": {},
   "source": [
    "## Functions in Excel\n",
    "\n",
    "### Excel - Built-in Functions\n",
    "\n",
    "Excel has built-in functions such as `A5+D5`, `SUM(A1:A6)` or `VLOOKUP(A1,B1:D6,2,TRUE)`.\n",
    "\n",
    "Taking the example of `VLOOKUP` - `vlookup(value, table, column, is_exact)` - we see that the function takes three required arguments (parameters) and one optional one (`Range_lookup`). Optional parameters are shown in square brackets `[]`.\n",
    "\n",
    "![VBA Built-in functions](Resources\\ExcelImages\\Function03.png)\n",
    "![VBA Built-in functions](Resources\\ExcelImages\\Function02.png)\n"
   ]
  },
  {
   "cell_type": "markdown",
   "metadata": {},
   "source": [
    "### Excel - User-defined Functions\n",
    "\n",
    "Excel also has tools for user-defined functions. In the following image we see a user-defined function called MyFunc, that can be used in the Excel workbook that contains the definition.\n",
    "\n",
    "![VBA User-defined functions](Resources\\ExcelImages\\VBA_UDF_03.png)\n",
    "\n"
   ]
  },
  {
   "cell_type": "markdown",
   "metadata": {},
   "source": [
    "## Functions in Python\n",
    "\n",
    "Functions are defined using the 'def' key word and should contain four components:\n",
    "1. Function name and parameters (required and optional, un-named and named).\n",
    "2. User-defined documentation (docstring) - inside triple quotes\n",
    "3. Calculations (can be complex and can reference other functions, can even define functions)\n",
    "4. Returning the result - everything returned by the code that follows the `return` keyword \n",
    "\n",
    "Note that `parameters` can also be called `arguments` and can be unnamed or named (keyword parameters). There is a good article covering named parameters on [Trey Hunner's blog](http://treyhunner.com/2018/04/keyword-arguments-in-python/)."
   ]
  },
  {
   "cell_type": "code",
   "execution_count": null,
   "metadata": {},
   "outputs": [],
   "source": [
    "def MyFunc(x, y):        # sets up the definition - function name and parameters\n",
    "    \"\"\"Returns the sum of the first parameter and double the second. (this is documentation)\"\"\"\n",
    "    an_answer = x + 2 * y   # calculations (can be many lines and can contain functions)\n",
    "    return an_answer        # declare the answer returned by the function\n",
    "\n",
    "# Note that before this cell is executed there is no assistance for the function\n",
    "print(MyFunc(4,3))"
   ]
  },
  {
   "cell_type": "code",
   "execution_count": null,
   "metadata": {},
   "outputs": [],
   "source": [
    "# Note that if the function has already  been defined, we have access to the user-defined help\n",
    "MyFunc(4,5)"
   ]
  },
  {
   "cell_type": "markdown",
   "metadata": {},
   "source": [
    "## Function with Named Arguments\n",
    "If arguments are given default values using '=', then they become optional and can be omitted when calling the function."
   ]
  },
  {
   "cell_type": "code",
   "execution_count": null,
   "metadata": {},
   "outputs": [],
   "source": [
    "# We can also define a function with a named parameter which has a default value\n",
    "def greet(greeting, name = \"World\"):\n",
    "    return \"{} {}!\".format(greeting, name)"
   ]
  },
  {
   "cell_type": "code",
   "execution_count": null,
   "metadata": {
    "scrolled": true
   },
   "outputs": [],
   "source": [
    "# We can then call the function with or without the named parameter\n",
    "print(greet(\"Hello\", \"Mary\"))\n",
    "print(greet(\"Hello\"))"
   ]
  },
  {
   "cell_type": "code",
   "execution_count": null,
   "metadata": {},
   "outputs": [],
   "source": [
    "# We can also use a default value like the special keyword \"None\" to help processing\n",
    "# Note that the greeting is now also a named parameter\n",
    "def greet_1(greeting = \"Hello\", name = None):\n",
    "    if name is not None:\n",
    "        return \"{} {}!\".format(greeting, name)\n",
    "    else:\n",
    "        return \"Sorry, we haven't been introduced.\""
   ]
  },
  {
   "cell_type": "code",
   "execution_count": null,
   "metadata": {},
   "outputs": [],
   "source": [
    "# Now it is possible to call the function with all parameters, only one, or none\n",
    "print(greet_1(\"Hi\", \"James\"))\n",
    "print(greet_1())"
   ]
  },
  {
   "cell_type": "code",
   "execution_count": null,
   "metadata": {},
   "outputs": [],
   "source": [
    "# Note that named arguments don't have to be in order... however the order of the output stays the same...\n",
    "print(greet_1(name = \"Anna\", greeting = \"你好\"))"
   ]
  },
  {
   "cell_type": "code",
   "execution_count": null,
   "metadata": {},
   "outputs": [],
   "source": [
    "# We can make this shorter by using the fact that most values are assumed to be 'True' in any conditional test,\n",
    "# with the exception of zero and 'None' which are assumed to be false\n",
    "#\n",
    "def Hello_1(name = None):\n",
    "    if name:\n",
    "        return \"Hello {}!\".format(name)\n",
    "    else:\n",
    "        return \"Sorry, we haven't been introduced.\""
   ]
  },
  {
   "cell_type": "code",
   "execution_count": null,
   "metadata": {},
   "outputs": [],
   "source": [
    "# We can then call the function with a parameter or None\n",
    "print(Hello_1(\"Penny\"))\n",
    "print(Hello_1(2019))\n",
    "print(Hello_1(None))\n",
    "print(Hello_1(0))\n",
    "print(Hello_1())"
   ]
  },
  {
   "cell_type": "code",
   "execution_count": null,
   "metadata": {},
   "outputs": [],
   "source": [
    "# ...and we can make it even shorter if we use the single line if-then statement :-)\n",
    "def Hello_2(name = None):\n",
    "    return \"Hello {}!\".format(name) if name else \"Sorry, we haven't been introduced.\""
   ]
  },
  {
   "cell_type": "code",
   "execution_count": null,
   "metadata": {},
   "outputs": [],
   "source": [
    "print(Hello_2(\"Vlad\"))\n",
    "print(Hello_2())"
   ]
  },
  {
   "cell_type": "markdown",
   "metadata": {},
   "source": [
    "## Function with an Unspecified Number of Parameters\n",
    "A function may be defined with an unspecified number of parameters. Note that the type of each can be different, unless the operations on them within the function require specific types of data.\n",
    "\n",
    "Note that the asterisk '\\*' is a special 'unpacking' function."
   ]
  },
  {
   "cell_type": "code",
   "execution_count": null,
   "metadata": {},
   "outputs": [],
   "source": [
    "def summer(n1, *n2):\n",
    "    return n1 + sum(n2)"
   ]
  },
  {
   "cell_type": "code",
   "execution_count": null,
   "metadata": {},
   "outputs": [],
   "source": [
    "summer(2)"
   ]
  },
  {
   "cell_type": "code",
   "execution_count": null,
   "metadata": {},
   "outputs": [],
   "source": [
    "summer(2, 3)"
   ]
  },
  {
   "cell_type": "code",
   "execution_count": null,
   "metadata": {},
   "outputs": [],
   "source": [
    "summer(1, 2, 3, 4, 5)"
   ]
  },
  {
   "cell_type": "code",
   "execution_count": null,
   "metadata": {},
   "outputs": [],
   "source": [
    "# The function may cycle through the parameters. Note that in this case \n",
    "# the types may be different - we are mixing integers with strings.\n",
    "def test_var_args(specified_argument, *other_arguments):\n",
    "    print(\"specified argument (parameter):\", specified_argument)\n",
    "    for arg in other_arguments:\n",
    "        print(\"other arguments (parameters):\", arg)\n",
    "\n",
    "test_var_args(1, \"two\", 3)"
   ]
  },
  {
   "cell_type": "markdown",
   "metadata": {},
   "source": [
    "## Function with Unspecified Number of Keyworded Arguments\n",
    "A function may be defined with an unspecified number of arguments defined by keywords (conventionally identified as keyword arguments, or kwargs). The double asterisk '\\*\\*' is a special 'unpacking' function that generates a [dictionary](https://docs.python.org/3/tutorial/datastructures.html#dictionaries) (i.e. key : value pairs. This can be combined with arguments as below.\n",
    "\n",
    "Note that if you set up a function like this, you are able to upgrade the function (i.e. add new parameters) without breaking existing use of it."
   ]
  },
  {
   "cell_type": "code",
   "execution_count": null,
   "metadata": {},
   "outputs": [],
   "source": [
    "def kwarg_func(name, *args, **kwargs):\n",
    "    print('Name:', name)\n",
    "    print('arguments')\n",
    "    for v in args:\n",
    "        print(v, end = '  ')               # print arguments on one line\n",
    "    print('\\nkeyword arguments')           # '\\n' represents a new line\n",
    "    for key, value in kwargs.items():\n",
    "        print('Key:', key, ' ::  Value:', value)\n",
    "\n",
    "kwarg_func('collection', 55, 21, 7, colour = 'red', density = '24', flavour = 'sour')"
   ]
  },
  {
   "cell_type": "markdown",
   "metadata": {},
   "source": [
    "## Functions as objects\n",
    "In this section we see that functions can be manipulated like all other objects - they can be stored in lists and applied to parameters in turn.\n",
    "\n",
    "Note that it is possible to access the docstring by calling the `__doc__` attribute (note the double underscore)."
   ]
  },
  {
   "cell_type": "code",
   "execution_count": null,
   "metadata": {},
   "outputs": [],
   "source": [
    "def adder(a, b):\n",
    "    \"\"\"addition\"\"\"\n",
    "    return a + b\n",
    "\n",
    "\n",
    "def multiplier(c, d):\n",
    "    \"\"\"multiplication\"\"\"\n",
    "    return c * d\n",
    "\n",
    "\n",
    "def applier(func_list, num_list_1, num_list_2):\n",
    "    result = []\n",
    "    for n1, n2 in zip(num_list_1, num_list_2):\n",
    "        for func in func_list:\n",
    "            result.append([func.__doc__, n1, n2, func(n1, n2)])\n",
    "    return result\n"
   ]
  },
  {
   "cell_type": "code",
   "execution_count": null,
   "metadata": {
    "scrolled": true
   },
   "outputs": [],
   "source": [
    "numbers_1 = [1,3,2,-4]\n",
    "numbers_2 = [-2,4,1,2]\n",
    "funcs = [adder, multiplier]\n",
    "\n",
    "calcs = applier(funcs, numbers_1, numbers_2)\n",
    "        \n",
    "calcs"
   ]
  },
  {
   "cell_type": "code",
   "execution_count": null,
   "metadata": {},
   "outputs": [],
   "source": [
    "# Of course... this can also be done in one line using list comprehension...\n",
    "[[[func.__doc__, n1, n2, func(n1, n2)] for func in funcs] for n1, n2 in zip(numbers_1, numbers_2)]"
   ]
  },
  {
   "cell_type": "markdown",
   "metadata": {
    "collapsed": true
   },
   "source": [
    "## References\n",
    "* https://www.python-course.eu/python3_functions.php\n",
    "* http://treyhunner.com/2018/04/keyword-arguments-in-python/"
   ]
  },
  {
   "cell_type": "markdown",
   "metadata": {
    "collapsed": true
   },
   "source": [
    "## Function Exercises\n",
    "\n",
    "Create three functions that are variations on the Hello World function, generating greetings of the form of \"Hello Tim and Tina\", \"Hello Tim, Ted and Tina\" (note the commas and the 'and'). Also create one function that implements a calculation that you often carry out.\n",
    "1. A function (hello_namelist()) that receives a list of names and prints one line per name - hello_namelist(\\[\"Tim\", \"Tom\", \"Tina\"\\]) -> \"Hello Tim, Tom and Tina\".\n",
    "2. A function (hello_names()) that receives names as a arguments in the function - hello_names(\"Tim\", \"Tina\") -> \"Hello Tim and Tina\". The key here is that you are allowing multiple names.\n",
    "3. A function (hello_title()) that receives a list of names as a arguments with an optional parameter that will contain a prefix title, such as \"Mr\" - hello_names(\\[\"Tim\", \"Tina\"\\], \\[\"Mr\", \"Ms\"\\]) -> \"Hello Mr Tim and Ms Tina\". The key here is that the second list is optional and that it should be the same length as the list of names.\n",
    "4. Create a function that does something that you do in everyday engineering (stress calculation, load calculation etc).\n",
    "\n"
   ]
  },
  {
   "cell_type": "markdown",
   "metadata": {},
   "source": [
    "## Application - function to carry out stress calculations\n",
    "\n",
    "In this example we will apply many of the features that were introduced previously.\n",
    "\n",
    "We will start by defining a simple elastic stress-strain relationship.\n",
    "\n",
    "### A Simple Elastic Stress-Strain Function"
   ]
  },
  {
   "cell_type": "code",
   "execution_count": null,
   "metadata": {},
   "outputs": [],
   "source": [
    "def elastic_stress(strain, stiff):\n",
    "    \"\"\"Calculates stress (MPa) based on strain and stiffness\"\"\"\n",
    "    stress = stiff * strain\n",
    "    return stress\n",
    "\n",
    "E_mod = 200000\n",
    "strain = 0.004\n",
    "result_string = \"A stiffness of {} MPa and a strain of {} result in a stress of {} MPa\"\n",
    "print(result_string.format(E_mod, strain, elastic_stress(strain, E_mod)))"
   ]
  },
  {
   "cell_type": "markdown",
   "metadata": {},
   "source": [
    "### A Stress-Strain Function with Keyworded Parameters\n",
    "If we would like to take account of the stress being capped by the yield stress or by compression-only properties, we can add criteria based on keywords to address this. Note that kwargs is a dictionary, so we use the `get` method to extract the values. If no value exists, then this returns a `None`, rather than an error. Google has provided [guidance on this](https://developers.google.com/edu/python/dict-files).\n",
    "\n",
    "The major advantage of taking this approach is that if you set up a function with kwargs, you are able to upgrade the function (i.e. add new parameters) without breaking existing use of it. However, I wouldn't use it normally. I rarely use this approach."
   ]
  },
  {
   "cell_type": "code",
   "execution_count": null,
   "metadata": {},
   "outputs": [],
   "source": [
    "def stress_calc(strain, stiff, **kwargs):\n",
    "    \"\"\"Calculates stress (MPa) based on strain and stiffness with additional options. \n",
    "    - strain is dimensionless\n",
    "    - stiff is in MPa\n",
    "    - optional keywords:\n",
    "         - 'yld' - yield stress in MPa (default is no yield - perfectly elastic)\n",
    "         - 'compression_only' - True or False (default is False)\n",
    "    \"\"\"\n",
    "    elastic_stress = stiff * strain\n",
    "    stress = elastic_stress  # the default result\n",
    "    if kwargs.get('yld') is not None:\n",
    "        stress =  max(min(kwargs['yld'], elastic_stress), -kwargs['yld'])\n",
    "    if kwargs.get('compression_only') == True:\n",
    "        stress =  max(0.0, elastic_stress)\n",
    "    return stress"
   ]
  },
  {
   "cell_type": "code",
   "execution_count": null,
   "metadata": {},
   "outputs": [],
   "source": [
    "# Here we print some representative calculations.\n",
    "# Note that we have to provide the stiffness value every time\n",
    "print(stress_calc(0.004,200000))\n",
    "print(stress_calc(0.004,200000,yld=500.0))\n",
    "print(stress_calc(-0.004,200000))\n",
    "print(stress_calc(-0.004,200000,yld=500.0))\n",
    "print(stress_calc(-0.004,200000, compression_only=True, yld=500))\n",
    "print(stress_calc(0.004,200000, compression_only=True, yld=500))"
   ]
  },
  {
   "cell_type": "markdown",
   "metadata": {
    "collapsed": true
   },
   "source": [
    "### Plotting stress against strain\n",
    "Using the function defined above to create a graph"
   ]
  },
  {
   "cell_type": "code",
   "execution_count": null,
   "metadata": {},
   "outputs": [],
   "source": [
    "# Import the plotting utility, Matplotlib and turn on the matplotlib 'magic' for notebook interaction\n",
    "import matplotlib.pyplot as plt"
   ]
  },
  {
   "cell_type": "code",
   "execution_count": null,
   "metadata": {
    "scrolled": false
   },
   "outputs": [],
   "source": [
    "%matplotlib notebook\n",
    "# set stiffness parameter\n",
    "stiff = 200000 # MPa\n",
    "\n",
    "# use list comprehension to generate a list of strains (converting from integer to float)\n",
    "# Note that the range function only generates integers, so we have to convert them using the float function\n",
    "strains = [0.001 * float(strain) for strain in range(-6, 6)]\n",
    "print('Type of strains', type(strains))\n",
    "print(strains)\n",
    "\n",
    "compression_only = True  # Try it out with both 'True' and 'False'\n",
    "\n",
    "# Use list comprehension with the stress function to generate a list of stresses\n",
    "stresses = [stress_calc(strain, stiff, yld = 500, compression_only = False) for strain in strains]\n",
    "print('Type of stress',type(stress_calc))"
   ]
  },
  {
   "cell_type": "code",
   "execution_count": null,
   "metadata": {},
   "outputs": [],
   "source": [
    "plt.plot(strains, stresses)\n",
    "plt.title = \"Stress-Strain Plot\"\n",
    "# Press shift-enter to execute\n",
    "plt.show()"
   ]
  },
  {
   "cell_type": "markdown",
   "metadata": {},
   "source": [
    "### Advanced Abstraction - Using functions to generate functions\n",
    "In this section we will take the general function and create a new function wherre the stiffness (Young's Modulus) is preset.\n",
    "\n",
    "This provides examples of:\n",
    "* Functions returning functions, and \n",
    "* Functions defined within functions (nested functions).\n",
    "\n",
    "The following example is a special form of nested functions called '[closures](https://www.learnpython.org/en/Closures)'. They can be a useful form of abstraction. Closures are functions that inherit variables from their enclosing environment. In this case the function that is generate inherits the 'stiffness' and any kwarg arguments from the enclosing function."
   ]
  },
  {
   "cell_type": "code",
   "execution_count": null,
   "metadata": {},
   "outputs": [],
   "source": [
    "# We define a function stress_E_func that returns a function instead of a value\n",
    "def stress_E_func(stiff, **kwargs):\n",
    "    \"\"\"Receives a value of stiffness in MPa and returns a function that calculates stress \n",
    "    based on strain and other keyword parameters of strain where stiffness is predefined\n",
    "    \"\"\"\n",
    "    def f(strain, **kwargs):\n",
    "        return stress_calc(strain, stiff, **kwargs)\n",
    "    return f"
   ]
  },
  {
   "cell_type": "code",
   "execution_count": null,
   "metadata": {},
   "outputs": [],
   "source": [
    "# create a stress function for steel with E_mod of 205000MPa and yield of 450\n",
    "stress_E205 = stress_E_func(205000)  \n",
    "\n",
    "# define range of strains\n",
    "strains = [0.0005 * float(strain) for strain in range(-12, 12)]\n",
    "\n",
    "# calculate stresses\n",
    "stresses = [stress_E205(strain) for strain in strains] # note that stiffness does not need to be provided\n",
    "\n",
    "# plot stress against strain\n",
    "plt.plot(strains, stresses)\n",
    "plt.show()\n",
    "# NB This will appear on the plot above\n",
    "# In a later session, we will show you how to create multiple different plots"
   ]
  },
  {
   "cell_type": "code",
   "execution_count": null,
   "metadata": {},
   "outputs": [],
   "source": [
    "# RUn the function again - this time with a yield limit\n",
    "# note that stiffness does not need to be provided\n",
    "stresses = [stress_E205(strain, yld = 450.0) for strain in strains]\n",
    "plt.plot(strains, stresses)\n",
    "plt.show()"
   ]
  },
  {
   "cell_type": "markdown",
   "metadata": {},
   "source": [
    "## Timing Functions\n",
    "Jupyter has some 'magic' functions that start with '%'. One of these is for carrying out timing. Here we can compare the stress calculation using the simple definition and the definition using closures"
   ]
  },
  {
   "cell_type": "code",
   "execution_count": null,
   "metadata": {},
   "outputs": [],
   "source": [
    "strains = [0.0005 * float(strain) for strain in range(-12, 12)]\n",
    "stress_E200 = stress_E_func(200000)\n",
    "%timeit [stress_calc(strain, 200000, yld = 450, compression_only = False) for strain in strains]\n",
    "%timeit [stress_E200(strain, yld = 450) for strain in strains]"
   ]
  },
  {
   "cell_type": "markdown",
   "metadata": {},
   "source": [
    "Note that the closure makes things simpler, but in this case does not make it faster. However, the hit is relatively small. In some cases there may be a speed advantage, however."
   ]
  },
  {
   "cell_type": "markdown",
   "metadata": {},
   "source": [
    "## Acceleration Using Numba\n",
    "\n",
    "\n",
    "[Numba](http://numba.pydata.org/numba-doc/0.17.0/user/jit.html) is a library for speeding up some functions. One approach it can use is called Just-in-Time (JIT), which can significantly speed things up if you have a function that is called a ***lot*** (think of hundreds or millions of times).\n",
    "\n",
    "Note that Numba does not appear to like functions with variable inputs, such as kwargs, and it is not always good with closures and lambda functions. We can test out the stress function higher up, but we have to modify it to remove closures and kwargs. We have removed those and made the yld, and compression_only keywords explicit."
   ]
  },
  {
   "cell_type": "code",
   "execution_count": null,
   "metadata": {},
   "outputs": [],
   "source": [
    "from numba import jit\n",
    "\n",
    "@jit(nopython=True)\n",
    "def stress2n(strain, stiff, yld = None, compression_only = False):\n",
    "    \"\"\"Calculates stress based on strain and stiffness. Optional keywords are 'yld' or 'compression_only'\"\"\"\n",
    "    stress = stiff * strain\n",
    "    if yld is not None:\n",
    "        stress =  max(min(yld, stress), -yld)\n",
    "    if compression_only:\n",
    "        stress =  max(0.0, stress)\n",
    "    return stress\n",
    "\n",
    "def stress2p(strain, stiff, yld = None, compression_only = False):\n",
    "    \"\"\"Calculates stress based on strain and stiffness. Optional keywords are 'yld' or 'compression_only'\"\"\"\n",
    "    stress = stiff * strain\n",
    "    if yld is not None:\n",
    "        stress =  max(min(yld, stress), -yld)\n",
    "    if compression_only:\n",
    "        stress =  max(0.0, stress)\n",
    "    return stress"
   ]
  },
  {
   "cell_type": "code",
   "execution_count": null,
   "metadata": {},
   "outputs": [],
   "source": [
    "%timeit [stress2n(strain, stiff, yld = 500, compression_only = True) for strain in strains]\n",
    "%timeit [stress2p(strain, stiff, yld = 500, compression_only = True) for strain in strains]"
   ]
  },
  {
   "cell_type": "markdown",
   "metadata": {},
   "source": [
    "In this case Numba provides around a halving in the execution time. If this calculation was being carried out a thousand times and normally took 20µs, this would save 10 seconds. If it was being carried out a million times, you would save 167 minutes (2 hours and 47 mins). \n",
    "\n",
    "The lesson is - only spend time optimising once the code is working... and then, only optimise those functions that save you a significant amount of time. Premature optimisation is a waste of time."
   ]
  },
  {
   "cell_type": "markdown",
   "metadata": {},
   "source": [
    "## Lambda Functions\n",
    "Lambda functions are unnamed functions. These are sometimes useful because they are shorter than defining named functions. This is helpful in cases where you need to specify functions to pass to another function. \n",
    "\n",
    "The following two function definitions are the same."
   ]
  },
  {
   "cell_type": "code",
   "execution_count": null,
   "metadata": {},
   "outputs": [],
   "source": [
    "# Standard named function\n",
    "def add_half(b):\n",
    "    return b * 1.5\n",
    "\n",
    "add_half(3)"
   ]
  },
  {
   "cell_type": "code",
   "execution_count": null,
   "metadata": {},
   "outputs": [],
   "source": [
    "# Here we create a function using the lambda command as a shortcut, but we still assign a name to it\n",
    "add_half_lambda = lambda b: b * 1.5\n",
    "\n",
    "add_half_lambda(3)"
   ]
  },
  {
   "cell_type": "code",
   "execution_count": null,
   "metadata": {},
   "outputs": [],
   "source": []
  }
 ],
 "metadata": {
  "kernelspec": {
   "display_name": "Python 3",
   "language": "python",
   "name": "python3"
  },
  "language_info": {
   "codemirror_mode": {
    "name": "ipython",
    "version": 3
   },
   "file_extension": ".py",
   "mimetype": "text/x-python",
   "name": "python",
   "nbconvert_exporter": "python",
   "pygments_lexer": "ipython3",
   "version": "3.10.13"
  }
 },
 "nbformat": 4,
 "nbformat_minor": 2
}
