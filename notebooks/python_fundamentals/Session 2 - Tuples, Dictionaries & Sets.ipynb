{
 "cells": [
  {
   "cell_type": "markdown",
   "metadata": {},
   "source": [
    "# More Collections - Tuples, Sequences, Named Tuples, Dictionaries & Sets\n",
    "This introduces [Tuples & Sequences](https://docs.python.org/3/tutorial/datastructures.html#tuples-and-sequences), [NamedTuples](https://docs.python.org/3/library/collections.html#namedtuple-factory-function-for-tuples-with-named-fields), [Dictionaries](https://docs.python.org/3/tutorial/datastructures.html#dictionaries) & [Sets](https://docs.python.org/3/tutorial/datastructures.html#sets).\n",
    "\n",
    "## Introduction\n",
    "Collections are data structures for collections of data. Python has a number of these, which exist for different purposes. This notebook starts with a general introduction and then lists the main collection types."
   ]
  },
  {
   "cell_type": "code",
   "execution_count": null,
   "metadata": {},
   "outputs": [],
   "source": [
    "# Import libraries and print the version numbers for troubleshooting\n",
    "import sys ; print(f'Python version is {sys.version}')"
   ]
  },
  {
   "cell_type": "markdown",
   "metadata": {},
   "source": [
    "### Summary of Properties\n",
    "* **Tuples** are immutable (contents can be accessed, but not changed)\n",
    "* **Sequences** are immutable\n",
    "* **NamedTuples** are tuples where the contents are associated with pre-defined names (i.e. key-value pairs)\n",
    "* **Dictionaries** are unordered collections of key-value pairs (keys must be unique)\n",
    "* **Sets** are collections of unique data \n",
    "\n",
    "The main type that we have not introduced yet is the `class` object, and we will not cover it in these sessions. However, you can gain a good understanding of it by starting with the `namedtuple` (note that namedtuples can have functions and properties added to them by means of sub-classing, a form of 'inheritance').\n",
    "\n",
    "### Instantiation (definition)\n",
    "* **Tuples** are defined with the keyword `a_tuple = Tuple(3, 6)` or using the `()` format - `a_tuple = (3,6)`\n",
    "* **NamedTuples** are first defined with the `namedtuple` keyword `e.g. Point2D = namedtuple('Point2D', ['x', 'y'])`, then values are assigned using normal methods for tuples, or using keys - `p = Point2D(11, y=22)`\n",
    "* **Dictionaries** are defined with the keyword, value pairs,  `dict(sape=4139, guido=4127, jack=4098)` or from a list of (key, value) tuples `tel = dict([('sape', 4139), ('guido', 4127), ('jack', 4098)])` or using the `{}` format - `tel = {'jack': 4098, 'sape': 4139}`\n",
    "* **Sets** are defined by curly parentheses `{2,6,7,8}` or with the set() function to convert from other collections (e.g. `set([3, 6, 4, 2, 9, 6, 2])`)\n",
    "\n",
    "### Identifying members of the collection\n",
    "* If a value is presented in the form of `value in collection`, then this returns `True` if the value is in the collection, else `False`.\n",
    "\n",
    "### Iterating over the collections\n",
    "* It is possible to iterate over these collections - `for item in collection: ...`."
   ]
  },
  {
   "cell_type": "markdown",
   "metadata": {},
   "source": [
    "## Tuples\n",
    "\n",
    "Tuples are 'immutable' collections of data. 'Immutable' means that the contents cannot be changed once the tuple has been created. They are defined by separating values by commas and (typically) by enclosing them in parentheses, e.g. (2.5, 4.1).\n",
    "\n",
    "Tuples are useful for carrying multiple pieces of data, which do not have to be of the same type."
   ]
  },
  {
   "cell_type": "code",
   "execution_count": null,
   "metadata": {},
   "outputs": [],
   "source": [
    "# tuples can be defined using simple notation - simple parentheses - '()'\n",
    "tuple_1 = (3, 1)\n",
    "tuple_1"
   ]
  },
  {
   "cell_type": "code",
   "execution_count": null,
   "metadata": {},
   "outputs": [],
   "source": [
    "# individual elements of a tuple can be addressed using an index [0]\n",
    "tuple_2 = (3, 1)\n",
    "tuple_2[0]"
   ]
  },
  {
   "cell_type": "code",
   "execution_count": null,
   "metadata": {},
   "outputs": [],
   "source": [
    "# tuples can carry different types of data\n",
    "tuple_3 = (3, \"apples\")\n",
    "tuple_3"
   ]
  },
  {
   "cell_type": "code",
   "execution_count": null,
   "metadata": {},
   "outputs": [],
   "source": [
    "# tuples can also be defined using the tuple() function to convert other collections\n",
    "tuple_4 = tuple([2,4,-5])   # tuple created from list\n",
    "tuple_4"
   ]
  },
  {
   "cell_type": "code",
   "execution_count": null,
   "metadata": {},
   "outputs": [],
   "source": [
    "# Check whether an item is in a tuple\n",
    "4 in (5, 4, 7)"
   ]
  },
  {
   "cell_type": "code",
   "execution_count": null,
   "metadata": {},
   "outputs": [],
   "source": [
    "# Iterating over values in a tuple\n",
    "for x in (2,4,5):\n",
    "    print(3 + x, end = '\\t')"
   ]
  },
  {
   "cell_type": "code",
   "execution_count": null,
   "metadata": {},
   "outputs": [],
   "source": [
    "# There is no such thing as a 'tuple comprehension'. However, using the corresponding notation will \n",
    "# return a 'generator expression', which is a way of storing enumerable definitions of items for later use.\n",
    "(n * 2 for n in (0, 1, 2, 3))"
   ]
  },
  {
   "cell_type": "markdown",
   "metadata": {},
   "source": [
    "### Tuples as output to functions"
   ]
  },
  {
   "cell_type": "code",
   "execution_count": null,
   "metadata": {},
   "outputs": [],
   "source": [
    "def tuple_out_reverse(a, b):\n",
    "    return b, a\n",
    "\n",
    "tuple_out_reverse('pear', 6)"
   ]
  },
  {
   "cell_type": "markdown",
   "metadata": {},
   "source": [
    "## Named Tuples\n",
    "> The `namedtuple` function returns a new tuple subclass with named fields. The new subclass is used to create tuple-like objects that have fields accessible by attribute lookup as well as being indexable and iterable. Instances of the subclass also have a helpful docstring (with typename and field_names) and a helpful __repr__() method which lists the tuple contents in a name=value format.\n",
    "\n",
    "Named tuples have names that are defined for the data that they hold, and these can be used to reference the data. This means that they can act as efficient containers for data. Note that they are immutable - you cannot change the values once they have been created."
   ]
  },
  {
   "cell_type": "code",
   "execution_count": null,
   "metadata": {},
   "outputs": [],
   "source": [
    "# Defining a named tuple\n",
    "from collections import namedtuple\n",
    "Pt3d = namedtuple('Pt3d', ['x', 'y', 'z'])\n",
    "pt1 = Pt3d(5.4,-1.8,5.1)\n",
    "pt1"
   ]
  },
  {
   "cell_type": "code",
   "execution_count": null,
   "metadata": {},
   "outputs": [],
   "source": [
    "# Extracting values\n",
    "print('The first value can be extracted by index (pt1[0] = {}) or by name (pt1.x = {})'.format(pt1[0], pt1.x))"
   ]
  },
  {
   "cell_type": "code",
   "execution_count": null,
   "metadata": {},
   "outputs": [],
   "source": [
    "# Testing for membership (looks at values, not at names)\n",
    "pt2 = Pt3d(3.4,8.5,1.2)\n",
    "3.4 in pt2"
   ]
  },
  {
   "cell_type": "code",
   "execution_count": null,
   "metadata": {},
   "outputs": [],
   "source": [
    "# Iterating over values in a named tuple\n",
    "pt3 = Pt3d(-9.1, 6.2, 4.8)\n",
    "for i in pt3:\n",
    "    print(i*i, end = '\\t')\n",
    "\n",
    "print()\n",
    "\n",
    "# Iterating over name and value pairs\n",
    "for name, value in pt3._asdict().items():   # turn it into a dictionary and extract key-value pairs\n",
    "    print('{}-coordinate is {}'.format(name, value), end = '\\t')"
   ]
  },
  {
   "cell_type": "markdown",
   "metadata": {},
   "source": [
    "## Dictionaries\n",
    "In their most basic form dictionaries are used to store (key, value) pairs. (Note that before Python 3.7 dictionaries were not required to retain the order of the items inserted.)\n",
    "\n",
    ">A mapping object maps hashable values to arbitrary objects. Mappings are mutable objects. There is currently only one standard mapping type, the [dictionary](https://docs.python.org/3/tutorial/datastructures.html#dictionaries). (For other containers see the built-in list, set, and tuple classes, and the collections module.)\n",
    "\n",
    "Two standard ways for creating dictionaries are by means of the `dict(x = a, y = b, ...)` function, or the curly brackets notation - `{'key1': value1, 'key2': value2, ...}` (not to be confused with the set notation that also uses curly brackets).\n",
    "\n",
    "Additional flavours of dictionary include:\n",
    "* OrderedDict - an ordered dictionary class for versions of Python before 3.7\n",
    "* DefaultDict - a dictionary class that provides default values if the key is not in the dicitonary (rather than returning an exception)"
   ]
  },
  {
   "cell_type": "code",
   "execution_count": null,
   "metadata": {},
   "outputs": [],
   "source": [
    "dict(x = 2.4, y = 9.1, z = -7.1)"
   ]
  },
  {
   "cell_type": "code",
   "execution_count": null,
   "metadata": {},
   "outputs": [],
   "source": [
    "{'x':4.4, 'y':-2.7, 'z':1.2}"
   ]
  },
  {
   "cell_type": "code",
   "execution_count": null,
   "metadata": {},
   "outputs": [],
   "source": [
    "# Testing for membership\n",
    "'x' in {'x':4.4, 'y':-2.7, 'z':1.2}"
   ]
  },
  {
   "cell_type": "code",
   "execution_count": null,
   "metadata": {},
   "outputs": [],
   "source": [
    "# Extracting values from a dictionary (note that this will throw an exception if the key is not in the dictionary)\n",
    "dict_3 = {'x':4.4, 'y':-2.7, 'z':1.2}\n",
    "print(dict_3['x'])"
   ]
  },
  {
   "cell_type": "code",
   "execution_count": null,
   "metadata": {},
   "outputs": [],
   "source": [
    "dict_3 = {'x':4.4, 'y':-2.7, 'z':1.2}\n",
    "print(dict_3.get('x'))"
   ]
  },
  {
   "cell_type": "code",
   "execution_count": null,
   "metadata": {},
   "outputs": [],
   "source": [
    "dict_3 = {'x':4.4, 'y':-2.7, 'z':1.2}\n",
    "print(dict_3.get('k'))"
   ]
  },
  {
   "cell_type": "markdown",
   "metadata": {},
   "source": [
    "It is possible to iterate over dictionaries and also to do 'dictionary comprehension' that generates a new dictionary from an original dictionary by carrying out operations on each key-value pair in turn."
   ]
  },
  {
   "cell_type": "code",
   "execution_count": null,
   "metadata": {},
   "outputs": [],
   "source": [
    "# Iterating over the keys in a dictionary\n",
    "for k in {'x':4, 'y':7, 'z':2}:\n",
    "    print('coordinate {}'.format(k), end = '\\t')\n",
    "    \n",
    "print()\n",
    "\n",
    "# Iterating over keys and values in a dictionary\n",
    "for k,v in {'x':4, 'y':7, 'z':2}.items():\n",
    "    print('{}-coordinate is {}'.format(k, v), end = '\\t')"
   ]
  },
  {
   "cell_type": "code",
   "execution_count": null,
   "metadata": {},
   "outputs": [],
   "source": [
    "# Dictionary comprehension\n",
    "dict_1 = {'x':4.4, 'y':-2.7, 'z':1.2}\n",
    "{k: 2*v for k, v in dict_1.items()}"
   ]
  },
  {
   "cell_type": "code",
   "execution_count": null,
   "metadata": {},
   "outputs": [],
   "source": [
    "# Creating a new dictionary using dictionary comprehension applied to a list of tuples\n",
    "{k: 2*v for k, v in [('x',-6.1), ('y',5.1), ('z',-4.9), ('r',7.6)]}"
   ]
  },
  {
   "cell_type": "markdown",
   "metadata": {},
   "source": [
    "## Sets\n",
    ">A [set object](https://docs.python.org/3/library/stdtypes.html#set-types-set-frozenset) is an unordered collection of distinct [hashable](https://docs.python.org/3/glossary.html#term-hashable) objects. Common uses include membership testing, removing duplicates from a sequence, and computing mathematical operations such as intersection, union, difference, and symmetric difference. (For other containers see the built-in dict, list, and tuple classes, and the collections module.) \n",
    ">*\\[from the [Python Documents](https://docs.python.org/3.7/index.html)\\]*\n",
    "\n",
    "1. If an element is added that already exists, then the set is not changed. \n",
    "2. Since the set is not sorted it is not possible to use indices to reference members of the set. For this you would need to use the `frozenset` collection, which is immutable (i.e. you cannot change it once it has been created)."
   ]
  },
  {
   "cell_type": "code",
   "execution_count": null,
   "metadata": {},
   "outputs": [],
   "source": [
    "{3, 5, 7, 3, 5, 3, -5, 1, -5, 8}"
   ]
  },
  {
   "cell_type": "code",
   "execution_count": null,
   "metadata": {},
   "outputs": [],
   "source": [
    "my_set = set([3, 5, 7, 3, 5, 3, 5, 1, 8])\n",
    "my_set"
   ]
  },
  {
   "cell_type": "code",
   "execution_count": null,
   "metadata": {},
   "outputs": [],
   "source": [
    "# Test for existence of a value in the set\n",
    "3 in my_set"
   ]
  },
  {
   "cell_type": "code",
   "execution_count": null,
   "metadata": {},
   "outputs": [],
   "source": [
    "# Elements of the set may be extracted / removed one at a time using the `pop` function\n",
    "my_set = set([3, 5, 7, 3, 5, 6, 5, 8])\n",
    "print(my_set)\n",
    "print(my_set.pop())\n",
    "print(my_set)"
   ]
  },
  {
   "cell_type": "code",
   "execution_count": null,
   "metadata": {},
   "outputs": [],
   "source": [
    "# Extracting the second element\n",
    "print(my_set.pop())\n",
    "print(my_set)"
   ]
  },
  {
   "cell_type": "code",
   "execution_count": null,
   "metadata": {},
   "outputs": [],
   "source": [
    "# adding a new value will change the list in-place\n",
    "my_set.add(4)\n",
    "my_set"
   ]
  },
  {
   "cell_type": "code",
   "execution_count": null,
   "metadata": {},
   "outputs": [],
   "source": [
    "# adding a value that is already present will not change the set\n",
    "my_set.add(3)\n",
    "my_set"
   ]
  },
  {
   "cell_type": "markdown",
   "metadata": {},
   "source": [
    "It is possible to iterate over a set and also to carry out 'set comprehension'."
   ]
  },
  {
   "cell_type": "code",
   "execution_count": null,
   "metadata": {},
   "outputs": [],
   "source": [
    "# Iterating over values in a set (note that while the values may appear sorted, they are technically unsorted)\n",
    "for x in {4,7,7,4,3,8,6,-5}:\n",
    "    print(x, end = '\\t')"
   ]
  },
  {
   "cell_type": "code",
   "execution_count": null,
   "metadata": {},
   "outputs": [],
   "source": [
    "# Set comprehension (using the curly brackets convention)\n",
    "{s**2 for s in range(1,9)}"
   ]
  },
  {
   "cell_type": "markdown",
   "metadata": {},
   "source": [
    "Note: The set format can be useful for processing a list to generate a sorted list of unique values."
   ]
  },
  {
   "cell_type": "code",
   "execution_count": null,
   "metadata": {},
   "outputs": [],
   "source": [
    "# Return a sorted list of unique values\n",
    "my_list = [2.15,6.4,4.9,5.52,-5.0,8.6,-1.1]\n",
    "sorted(set(my_list))"
   ]
  },
  {
   "cell_type": "markdown",
   "metadata": {},
   "source": [
    "## References\n",
    "* https://pymotw.com/2/collections/namedtuple.html\n",
    "* https://dbader.org/blog/writing-clean-python-with-namedtuples\n",
    "* https://docs.python.org/2/library/collections.html#namedtuple-factory-function-for-tuples-with-named-fields\n",
    "* https://docs.python.org/2/tutorial/datastructures.html#tuples-and-sequences"
   ]
  },
  {
   "cell_type": "code",
   "execution_count": null,
   "metadata": {},
   "outputs": [],
   "source": []
  }
 ],
 "metadata": {
  "kernelspec": {
   "display_name": "Python 3",
   "language": "python",
   "name": "python3"
  },
  "language_info": {
   "codemirror_mode": {
    "name": "ipython",
    "version": 3
   },
   "file_extension": ".py",
   "mimetype": "text/x-python",
   "name": "python",
   "nbconvert_exporter": "python",
   "pygments_lexer": "ipython3",
   "version": "3.10.13"
  }
 },
 "nbformat": 4,
 "nbformat_minor": 2
}
